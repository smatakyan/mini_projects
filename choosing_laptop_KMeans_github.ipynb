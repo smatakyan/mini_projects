{
 "cells": [
  {
   "cell_type": "markdown",
   "metadata": {},
   "source": [
    "1. We are going to work with scraped data.\n",
    "2. I have created a dataframe beforehand with the price range I am ready to pay."
   ]
  },
  {
   "cell_type": "markdown",
   "metadata": {},
   "source": [
    "# Exploratory analysis"
   ]
  },
  {
   "cell_type": "code",
   "execution_count": 133,
   "metadata": {},
   "outputs": [],
   "source": [
    "import pandas as pd"
   ]
  },
  {
   "cell_type": "code",
   "execution_count": 134,
   "metadata": {},
   "outputs": [],
   "source": [
    "import matplotlib.pyplot as plt\n",
    "%matplotlib inline"
   ]
  },
  {
   "cell_type": "code",
   "execution_count": 135,
   "metadata": {},
   "outputs": [],
   "source": [
    "import warnings\n",
    "warnings.filterwarnings('ignore')"
   ]
  },
  {
   "cell_type": "code",
   "execution_count": 136,
   "metadata": {},
   "outputs": [],
   "source": [
    "dfn = pd.read_excel('notebooks1.xlsx')"
   ]
  },
  {
   "cell_type": "code",
   "execution_count": 137,
   "metadata": {},
   "outputs": [
    {
     "data": {
      "text/html": [
       "<div>\n",
       "<style scoped>\n",
       "    .dataframe tbody tr th:only-of-type {\n",
       "        vertical-align: middle;\n",
       "    }\n",
       "\n",
       "    .dataframe tbody tr th {\n",
       "        vertical-align: top;\n",
       "    }\n",
       "\n",
       "    .dataframe thead th {\n",
       "        text-align: right;\n",
       "    }\n",
       "</style>\n",
       "<table border=\"1\" class=\"dataframe\">\n",
       "  <thead>\n",
       "    <tr style=\"text-align: right;\">\n",
       "      <th></th>\n",
       "      <th>id</th>\n",
       "      <th>flip</th>\n",
       "      <th>touchscreen</th>\n",
       "      <th>brand</th>\n",
       "      <th>full brand</th>\n",
       "      <th>processor</th>\n",
       "      <th>ram</th>\n",
       "      <th>ssd</th>\n",
       "      <th>hdd</th>\n",
       "      <th>graphics</th>\n",
       "      <th>spec</th>\n",
       "      <th>screen</th>\n",
       "      <th>dos</th>\n",
       "      <th>price</th>\n",
       "      <th>pricecash</th>\n",
       "      <th>pricemonthly</th>\n",
       "    </tr>\n",
       "  </thead>\n",
       "  <tbody>\n",
       "    <tr>\n",
       "      <th>0</th>\n",
       "      <td>75</td>\n",
       "      <td>NaN</td>\n",
       "      <td>NaN</td>\n",
       "      <td>.Asus</td>\n",
       "      <td>.Asus VivoBook K1703ZA-SB54</td>\n",
       "      <td>Core i5 12500H</td>\n",
       "      <td>8 ԳԲ RAM</td>\n",
       "      <td>512 ԳԲ SSD</td>\n",
       "      <td>absent</td>\n",
       "      <td>Intel Iris Plus Graphics</td>\n",
       "      <td>NaN</td>\n",
       "      <td>17.3</td>\n",
       "      <td>Windows 11</td>\n",
       "      <td>372600</td>\n",
       "      <td>345000</td>\n",
       "      <td>19200</td>\n",
       "    </tr>\n",
       "    <tr>\n",
       "      <th>1</th>\n",
       "      <td>135</td>\n",
       "      <td>NaN</td>\n",
       "      <td>NaN</td>\n",
       "      <td>.Asus</td>\n",
       "      <td>.Asus VivoBook K1703ZA-SB54</td>\n",
       "      <td>Core i5 12500H</td>\n",
       "      <td>8 ԳԲ RAM</td>\n",
       "      <td>512 ԳԲ SSD</td>\n",
       "      <td>absent</td>\n",
       "      <td>Intel Iris Plus Graphics</td>\n",
       "      <td>NaN</td>\n",
       "      <td>17.3</td>\n",
       "      <td>Windows 11</td>\n",
       "      <td>372600</td>\n",
       "      <td>345000</td>\n",
       "      <td>19200</td>\n",
       "    </tr>\n",
       "    <tr>\n",
       "      <th>2</th>\n",
       "      <td>27</td>\n",
       "      <td>NaN</td>\n",
       "      <td>NaN</td>\n",
       "      <td>Acer</td>\n",
       "      <td>Acer Aspire 3 A315-59-534T</td>\n",
       "      <td>Core i5 1235U</td>\n",
       "      <td>8 ԳԲ RAM</td>\n",
       "      <td>512 ԳԲ SSD</td>\n",
       "      <td>absent</td>\n",
       "      <td>Intel Iris Plus Graphics</td>\n",
       "      <td>NaN</td>\n",
       "      <td>15.6</td>\n",
       "      <td>Dos</td>\n",
       "      <td>268900</td>\n",
       "      <td>249000</td>\n",
       "      <td>13800</td>\n",
       "    </tr>\n",
       "    <tr>\n",
       "      <th>3</th>\n",
       "      <td>57</td>\n",
       "      <td>NaN</td>\n",
       "      <td>NaN</td>\n",
       "      <td>Acer</td>\n",
       "      <td>Acer Aspire 3 A315-59-79CL</td>\n",
       "      <td>Core i7 1255U</td>\n",
       "      <td>8 ԳԲ RAM</td>\n",
       "      <td>256 ԳԲ SSD</td>\n",
       "      <td>absent</td>\n",
       "      <td>Intel Iris Plus Graphics</td>\n",
       "      <td>NaN</td>\n",
       "      <td>15.6</td>\n",
       "      <td>Dos</td>\n",
       "      <td>340200</td>\n",
       "      <td>315000</td>\n",
       "      <td>17500</td>\n",
       "    </tr>\n",
       "    <tr>\n",
       "      <th>4</th>\n",
       "      <td>117</td>\n",
       "      <td>NaN</td>\n",
       "      <td>NaN</td>\n",
       "      <td>Acer</td>\n",
       "      <td>Acer Aspire 3 A315-59-79CL</td>\n",
       "      <td>Core i7 1255U</td>\n",
       "      <td>8 ԳԲ RAM</td>\n",
       "      <td>256 ԳԲ SSD</td>\n",
       "      <td>absent</td>\n",
       "      <td>Intel Iris Plus Graphics</td>\n",
       "      <td>NaN</td>\n",
       "      <td>15.6</td>\n",
       "      <td>Dos</td>\n",
       "      <td>340200</td>\n",
       "      <td>315000</td>\n",
       "      <td>17500</td>\n",
       "    </tr>\n",
       "  </tbody>\n",
       "</table>\n",
       "</div>"
      ],
      "text/plain": [
       "    id  flip  touchscreen  brand                   full brand  \\\n",
       "0   75   NaN          NaN  .Asus  .Asus VivoBook K1703ZA-SB54   \n",
       "1  135   NaN          NaN  .Asus  .Asus VivoBook K1703ZA-SB54   \n",
       "2   27   NaN          NaN  Acer    Acer Aspire 3 A315-59-534T   \n",
       "3   57   NaN          NaN  Acer    Acer Aspire 3 A315-59-79CL   \n",
       "4  117   NaN          NaN  Acer    Acer Aspire 3 A315-59-79CL   \n",
       "\n",
       "          processor         ram           ssd     hdd  \\\n",
       "0   Core i5 12500H    8 ԳԲ RAM    512 ԳԲ SSD   absent   \n",
       "1   Core i5 12500H    8 ԳԲ RAM    512 ԳԲ SSD   absent   \n",
       "2    Core i5 1235U    8 ԳԲ RAM    512 ԳԲ SSD   absent   \n",
       "3    Core i7 1255U    8 ԳԲ RAM    256 ԳԲ SSD   absent   \n",
       "4    Core i7 1255U    8 ԳԲ RAM    256 ԳԲ SSD   absent   \n",
       "\n",
       "                     graphics  spec  screen          dos   price  pricecash  \\\n",
       "0   Intel Iris Plus Graphics    NaN    17.3   Windows 11  372600     345000   \n",
       "1   Intel Iris Plus Graphics    NaN    17.3   Windows 11  372600     345000   \n",
       "2   Intel Iris Plus Graphics    NaN    15.6          Dos  268900     249000   \n",
       "3   Intel Iris Plus Graphics    NaN    15.6          Dos  340200     315000   \n",
       "4   Intel Iris Plus Graphics    NaN    15.6          Dos  340200     315000   \n",
       "\n",
       "   pricemonthly  \n",
       "0         19200  \n",
       "1         19200  \n",
       "2         13800  \n",
       "3         17500  \n",
       "4         17500  "
      ]
     },
     "execution_count": 137,
     "metadata": {},
     "output_type": "execute_result"
    }
   ],
   "source": [
    "dfn.head()"
   ]
  },
  {
   "cell_type": "markdown",
   "metadata": {},
   "source": [
    "<font color = magenta>\n",
    "We need some data cleaning to get homogeneous values in columns & create several categories to group data."
   ]
  },
  {
   "cell_type": "markdown",
   "metadata": {},
   "source": [
    "***Brand***"
   ]
  },
  {
   "cell_type": "code",
   "execution_count": 138,
   "metadata": {},
   "outputs": [],
   "source": [
    "dfn['brand'] = dfn['brand'].str.replace('Asus ','Asus')"
   ]
  },
  {
   "cell_type": "code",
   "execution_count": 139,
   "metadata": {},
   "outputs": [],
   "source": [
    "dfn['brand'] = dfn['brand'].str.replace('.Asus','Asus')"
   ]
  },
  {
   "cell_type": "code",
   "execution_count": 140,
   "metadata": {},
   "outputs": [
    {
     "data": {
      "text/plain": [
       "array(['Asus', 'Acer ', 'Dell ', 'HP', 'Lenovo', 'MSI ', 'Samsung'],\n",
       "      dtype=object)"
      ]
     },
     "execution_count": 140,
     "metadata": {},
     "output_type": "execute_result"
    }
   ],
   "source": [
    "dfn['brand'].unique()"
   ]
  },
  {
   "cell_type": "markdown",
   "metadata": {},
   "source": [
    "***SSD values***"
   ]
  },
  {
   "cell_type": "code",
   "execution_count": 141,
   "metadata": {},
   "outputs": [],
   "source": [
    "dfn['ssd'] = dfn['ssd'].str.replace('absent','0')"
   ]
  },
  {
   "cell_type": "code",
   "execution_count": 142,
   "metadata": {},
   "outputs": [
    {
     "data": {
      "text/plain": [
       "array([' 512 ԳԲ SSD ', ' 256 ԳԲ SSD ', ' 128 ԳԲ SSD ', '0'], dtype=object)"
      ]
     },
     "execution_count": 142,
     "metadata": {},
     "output_type": "execute_result"
    }
   ],
   "source": [
    "dfn['ssd'].unique()"
   ]
  },
  {
   "cell_type": "code",
   "execution_count": 143,
   "metadata": {},
   "outputs": [],
   "source": [
    "dfn['ssd']= dfn['ssd'].str.replace('ԳԲ SSD','')"
   ]
  },
  {
   "cell_type": "code",
   "execution_count": 144,
   "metadata": {},
   "outputs": [],
   "source": [
    "dfn['ssd']= dfn['ssd'].str.replace('  ','')"
   ]
  },
  {
   "cell_type": "code",
   "execution_count": 145,
   "metadata": {},
   "outputs": [],
   "source": [
    "dfn['ssd']= dfn['ssd'].str.replace(' ','')"
   ]
  },
  {
   "cell_type": "code",
   "execution_count": 146,
   "metadata": {},
   "outputs": [],
   "source": [
    "dfn['ssd'] = dfn['ssd'].astype(float)"
   ]
  },
  {
   "cell_type": "code",
   "execution_count": 147,
   "metadata": {
    "scrolled": true
   },
   "outputs": [
    {
     "data": {
      "text/html": [
       "<div>\n",
       "<style scoped>\n",
       "    .dataframe tbody tr th:only-of-type {\n",
       "        vertical-align: middle;\n",
       "    }\n",
       "\n",
       "    .dataframe tbody tr th {\n",
       "        vertical-align: top;\n",
       "    }\n",
       "\n",
       "    .dataframe thead th {\n",
       "        text-align: right;\n",
       "    }\n",
       "</style>\n",
       "<table border=\"1\" class=\"dataframe\">\n",
       "  <thead>\n",
       "    <tr style=\"text-align: right;\">\n",
       "      <th></th>\n",
       "      <th>id</th>\n",
       "      <th>flip</th>\n",
       "      <th>touchscreen</th>\n",
       "      <th>brand</th>\n",
       "      <th>full brand</th>\n",
       "      <th>processor</th>\n",
       "      <th>ram</th>\n",
       "      <th>ssd</th>\n",
       "      <th>hdd</th>\n",
       "      <th>graphics</th>\n",
       "      <th>spec</th>\n",
       "      <th>screen</th>\n",
       "      <th>dos</th>\n",
       "      <th>price</th>\n",
       "      <th>pricecash</th>\n",
       "      <th>pricemonthly</th>\n",
       "    </tr>\n",
       "  </thead>\n",
       "  <tbody>\n",
       "    <tr>\n",
       "      <th>0</th>\n",
       "      <td>75</td>\n",
       "      <td>NaN</td>\n",
       "      <td>NaN</td>\n",
       "      <td>Asus</td>\n",
       "      <td>.Asus VivoBook K1703ZA-SB54</td>\n",
       "      <td>Core i5 12500H</td>\n",
       "      <td>8 ԳԲ RAM</td>\n",
       "      <td>512.0</td>\n",
       "      <td>absent</td>\n",
       "      <td>Intel Iris Plus Graphics</td>\n",
       "      <td>NaN</td>\n",
       "      <td>17.3</td>\n",
       "      <td>Windows 11</td>\n",
       "      <td>372600</td>\n",
       "      <td>345000</td>\n",
       "      <td>19200</td>\n",
       "    </tr>\n",
       "    <tr>\n",
       "      <th>1</th>\n",
       "      <td>135</td>\n",
       "      <td>NaN</td>\n",
       "      <td>NaN</td>\n",
       "      <td>Asus</td>\n",
       "      <td>.Asus VivoBook K1703ZA-SB54</td>\n",
       "      <td>Core i5 12500H</td>\n",
       "      <td>8 ԳԲ RAM</td>\n",
       "      <td>512.0</td>\n",
       "      <td>absent</td>\n",
       "      <td>Intel Iris Plus Graphics</td>\n",
       "      <td>NaN</td>\n",
       "      <td>17.3</td>\n",
       "      <td>Windows 11</td>\n",
       "      <td>372600</td>\n",
       "      <td>345000</td>\n",
       "      <td>19200</td>\n",
       "    </tr>\n",
       "    <tr>\n",
       "      <th>2</th>\n",
       "      <td>27</td>\n",
       "      <td>NaN</td>\n",
       "      <td>NaN</td>\n",
       "      <td>Acer</td>\n",
       "      <td>Acer Aspire 3 A315-59-534T</td>\n",
       "      <td>Core i5 1235U</td>\n",
       "      <td>8 ԳԲ RAM</td>\n",
       "      <td>512.0</td>\n",
       "      <td>absent</td>\n",
       "      <td>Intel Iris Plus Graphics</td>\n",
       "      <td>NaN</td>\n",
       "      <td>15.6</td>\n",
       "      <td>Dos</td>\n",
       "      <td>268900</td>\n",
       "      <td>249000</td>\n",
       "      <td>13800</td>\n",
       "    </tr>\n",
       "    <tr>\n",
       "      <th>3</th>\n",
       "      <td>57</td>\n",
       "      <td>NaN</td>\n",
       "      <td>NaN</td>\n",
       "      <td>Acer</td>\n",
       "      <td>Acer Aspire 3 A315-59-79CL</td>\n",
       "      <td>Core i7 1255U</td>\n",
       "      <td>8 ԳԲ RAM</td>\n",
       "      <td>256.0</td>\n",
       "      <td>absent</td>\n",
       "      <td>Intel Iris Plus Graphics</td>\n",
       "      <td>NaN</td>\n",
       "      <td>15.6</td>\n",
       "      <td>Dos</td>\n",
       "      <td>340200</td>\n",
       "      <td>315000</td>\n",
       "      <td>17500</td>\n",
       "    </tr>\n",
       "    <tr>\n",
       "      <th>4</th>\n",
       "      <td>117</td>\n",
       "      <td>NaN</td>\n",
       "      <td>NaN</td>\n",
       "      <td>Acer</td>\n",
       "      <td>Acer Aspire 3 A315-59-79CL</td>\n",
       "      <td>Core i7 1255U</td>\n",
       "      <td>8 ԳԲ RAM</td>\n",
       "      <td>256.0</td>\n",
       "      <td>absent</td>\n",
       "      <td>Intel Iris Plus Graphics</td>\n",
       "      <td>NaN</td>\n",
       "      <td>15.6</td>\n",
       "      <td>Dos</td>\n",
       "      <td>340200</td>\n",
       "      <td>315000</td>\n",
       "      <td>17500</td>\n",
       "    </tr>\n",
       "  </tbody>\n",
       "</table>\n",
       "</div>"
      ],
      "text/plain": [
       "    id  flip  touchscreen  brand                   full brand  \\\n",
       "0   75   NaN          NaN   Asus  .Asus VivoBook K1703ZA-SB54   \n",
       "1  135   NaN          NaN   Asus  .Asus VivoBook K1703ZA-SB54   \n",
       "2   27   NaN          NaN  Acer    Acer Aspire 3 A315-59-534T   \n",
       "3   57   NaN          NaN  Acer    Acer Aspire 3 A315-59-79CL   \n",
       "4  117   NaN          NaN  Acer    Acer Aspire 3 A315-59-79CL   \n",
       "\n",
       "          processor         ram    ssd     hdd                    graphics  \\\n",
       "0   Core i5 12500H    8 ԳԲ RAM   512.0  absent   Intel Iris Plus Graphics    \n",
       "1   Core i5 12500H    8 ԳԲ RAM   512.0  absent   Intel Iris Plus Graphics    \n",
       "2    Core i5 1235U    8 ԳԲ RAM   512.0  absent   Intel Iris Plus Graphics    \n",
       "3    Core i7 1255U    8 ԳԲ RAM   256.0  absent   Intel Iris Plus Graphics    \n",
       "4    Core i7 1255U    8 ԳԲ RAM   256.0  absent   Intel Iris Plus Graphics    \n",
       "\n",
       "   spec  screen          dos   price  pricecash  pricemonthly  \n",
       "0   NaN    17.3   Windows 11  372600     345000         19200  \n",
       "1   NaN    17.3   Windows 11  372600     345000         19200  \n",
       "2   NaN    15.6          Dos  268900     249000         13800  \n",
       "3   NaN    15.6          Dos  340200     315000         17500  \n",
       "4   NaN    15.6          Dos  340200     315000         17500  "
      ]
     },
     "execution_count": 147,
     "metadata": {},
     "output_type": "execute_result"
    }
   ],
   "source": [
    "dfn.head()"
   ]
  },
  {
   "cell_type": "markdown",
   "metadata": {},
   "source": [
    "***HDD  values***"
   ]
  },
  {
   "cell_type": "code",
   "execution_count": 148,
   "metadata": {},
   "outputs": [
    {
     "data": {
      "text/plain": [
       "array(['absent', ' 1 ՏԲ HDD '], dtype=object)"
      ]
     },
     "execution_count": 148,
     "metadata": {},
     "output_type": "execute_result"
    }
   ],
   "source": [
    "dfn['hdd'].unique()"
   ]
  },
  {
   "cell_type": "code",
   "execution_count": 149,
   "metadata": {},
   "outputs": [],
   "source": [
    "dfn['hdd']= dfn['hdd'].str.replace('absent','0')"
   ]
  },
  {
   "cell_type": "code",
   "execution_count": 150,
   "metadata": {},
   "outputs": [],
   "source": [
    "dfn['hdd']= dfn['hdd'].str.replace(' ՏԲ HDD ','')"
   ]
  },
  {
   "cell_type": "code",
   "execution_count": 151,
   "metadata": {},
   "outputs": [],
   "source": [
    "dfn['hdd']= dfn['hdd'].str.replace(' ','')"
   ]
  },
  {
   "cell_type": "code",
   "execution_count": 152,
   "metadata": {},
   "outputs": [],
   "source": [
    "dfn['hdd'] = dfn['hdd'].astype(float)"
   ]
  },
  {
   "cell_type": "code",
   "execution_count": 153,
   "metadata": {},
   "outputs": [
    {
     "data": {
      "text/plain": [
       "array([0., 1.])"
      ]
     },
     "execution_count": 153,
     "metadata": {},
     "output_type": "execute_result"
    }
   ],
   "source": [
    "dfn['hdd'].unique()"
   ]
  },
  {
   "cell_type": "markdown",
   "metadata": {},
   "source": [
    "***RAM values***"
   ]
  },
  {
   "cell_type": "code",
   "execution_count": 154,
   "metadata": {},
   "outputs": [
    {
     "data": {
      "text/plain": [
       "array([' 8 ԳԲ RAM ', ' 4 ԳԲ RAM ', ' 12 ԳԲ RAM ', ' 16 ԳԲ RAM ',\n",
       "       ' 32 ԳԲ RAM '], dtype=object)"
      ]
     },
     "execution_count": 154,
     "metadata": {},
     "output_type": "execute_result"
    }
   ],
   "source": [
    "dfn['ram'].unique()"
   ]
  },
  {
   "cell_type": "code",
   "execution_count": 155,
   "metadata": {},
   "outputs": [],
   "source": [
    "dfn['ram']= dfn['ram'].str.replace(' ԳԲ RAM ','')"
   ]
  },
  {
   "cell_type": "code",
   "execution_count": 156,
   "metadata": {},
   "outputs": [],
   "source": [
    "dfn['ram']= dfn['ram'].str.replace(' ','')"
   ]
  },
  {
   "cell_type": "code",
   "execution_count": 157,
   "metadata": {},
   "outputs": [],
   "source": [
    "dfn['ram'] = dfn['ram'].astype(float)"
   ]
  },
  {
   "cell_type": "code",
   "execution_count": 158,
   "metadata": {},
   "outputs": [
    {
     "data": {
      "text/html": [
       "<div>\n",
       "<style scoped>\n",
       "    .dataframe tbody tr th:only-of-type {\n",
       "        vertical-align: middle;\n",
       "    }\n",
       "\n",
       "    .dataframe tbody tr th {\n",
       "        vertical-align: top;\n",
       "    }\n",
       "\n",
       "    .dataframe thead th {\n",
       "        text-align: right;\n",
       "    }\n",
       "</style>\n",
       "<table border=\"1\" class=\"dataframe\">\n",
       "  <thead>\n",
       "    <tr style=\"text-align: right;\">\n",
       "      <th></th>\n",
       "      <th>id</th>\n",
       "      <th>flip</th>\n",
       "      <th>touchscreen</th>\n",
       "      <th>brand</th>\n",
       "      <th>full brand</th>\n",
       "      <th>processor</th>\n",
       "      <th>ram</th>\n",
       "      <th>ssd</th>\n",
       "      <th>hdd</th>\n",
       "      <th>graphics</th>\n",
       "      <th>spec</th>\n",
       "      <th>screen</th>\n",
       "      <th>dos</th>\n",
       "      <th>price</th>\n",
       "      <th>pricecash</th>\n",
       "      <th>pricemonthly</th>\n",
       "    </tr>\n",
       "  </thead>\n",
       "  <tbody>\n",
       "    <tr>\n",
       "      <th>0</th>\n",
       "      <td>75</td>\n",
       "      <td>NaN</td>\n",
       "      <td>NaN</td>\n",
       "      <td>Asus</td>\n",
       "      <td>.Asus VivoBook K1703ZA-SB54</td>\n",
       "      <td>Core i5 12500H</td>\n",
       "      <td>8.0</td>\n",
       "      <td>512.0</td>\n",
       "      <td>0.0</td>\n",
       "      <td>Intel Iris Plus Graphics</td>\n",
       "      <td>NaN</td>\n",
       "      <td>17.3</td>\n",
       "      <td>Windows 11</td>\n",
       "      <td>372600</td>\n",
       "      <td>345000</td>\n",
       "      <td>19200</td>\n",
       "    </tr>\n",
       "    <tr>\n",
       "      <th>1</th>\n",
       "      <td>135</td>\n",
       "      <td>NaN</td>\n",
       "      <td>NaN</td>\n",
       "      <td>Asus</td>\n",
       "      <td>.Asus VivoBook K1703ZA-SB54</td>\n",
       "      <td>Core i5 12500H</td>\n",
       "      <td>8.0</td>\n",
       "      <td>512.0</td>\n",
       "      <td>0.0</td>\n",
       "      <td>Intel Iris Plus Graphics</td>\n",
       "      <td>NaN</td>\n",
       "      <td>17.3</td>\n",
       "      <td>Windows 11</td>\n",
       "      <td>372600</td>\n",
       "      <td>345000</td>\n",
       "      <td>19200</td>\n",
       "    </tr>\n",
       "  </tbody>\n",
       "</table>\n",
       "</div>"
      ],
      "text/plain": [
       "    id  flip  touchscreen brand                   full brand  \\\n",
       "0   75   NaN          NaN  Asus  .Asus VivoBook K1703ZA-SB54   \n",
       "1  135   NaN          NaN  Asus  .Asus VivoBook K1703ZA-SB54   \n",
       "\n",
       "          processor  ram    ssd  hdd                    graphics  spec  \\\n",
       "0   Core i5 12500H   8.0  512.0  0.0   Intel Iris Plus Graphics    NaN   \n",
       "1   Core i5 12500H   8.0  512.0  0.0   Intel Iris Plus Graphics    NaN   \n",
       "\n",
       "   screen          dos   price  pricecash  pricemonthly  \n",
       "0    17.3   Windows 11  372600     345000         19200  \n",
       "1    17.3   Windows 11  372600     345000         19200  "
      ]
     },
     "execution_count": 158,
     "metadata": {},
     "output_type": "execute_result"
    }
   ],
   "source": [
    "dfn.head(2)"
   ]
  },
  {
   "cell_type": "markdown",
   "metadata": {},
   "source": [
    "***Let's start visualization.***"
   ]
  },
  {
   "cell_type": "code",
   "execution_count": 159,
   "metadata": {},
   "outputs": [
    {
     "data": {
      "text/plain": [
       "<BarContainer object of 7 artists>"
      ]
     },
     "execution_count": 159,
     "metadata": {},
     "output_type": "execute_result"
    },
    {
     "data": {
      "image/png": "[encoded data removed]",
      "text/plain": [
       "<Figure size 640x480 with 1 Axes>"
      ]
     },
     "metadata": {},
     "output_type": "display_data"
    }
   ],
   "source": [
    "plt.barh(dfn['brand'].value_counts().index,dfn['brand'].value_counts(),color = 'darkslateblue')"
   ]
  },
  {
   "cell_type": "code",
   "execution_count": 160,
   "metadata": {},
   "outputs": [
    {
     "data": {
      "text/plain": [
       "(array([ 2.,  7.,  1., 11., 18., 22., 24., 38., 20.,  0.]),\n",
       " array([150000., 175000., 200000., 225000., 250000., 275000., 300000.,\n",
       "        325000., 350000., 375000., 400000.]),\n",
       " <BarContainer object of 10 artists>)"
      ]
     },
     "execution_count": 160,
     "metadata": {},
     "output_type": "execute_result"
    },
    {
     "data": {
      "image/png": "[encoded data removed]",
      "text/plain": [
       "<Figure size 640x480 with 1 Axes>"
      ]
     },
     "metadata": {},
     "output_type": "display_data"
    }
   ],
   "source": [
    "plt.hist(dfn['pricecash'],color = 'seagreen',range = [150000,400000])"
   ]
  },
  {
   "cell_type": "markdown",
   "metadata": {},
   "source": [
    "***We have mostly HP laptops & laptops with 300-350k price range***"
   ]
  },
  {
   "cell_type": "code",
   "execution_count": 161,
   "metadata": {},
   "outputs": [],
   "source": [
    "price = dfn['pricecash'].groupby(dfn['brand']).mean()"
   ]
  },
  {
   "cell_type": "code",
   "execution_count": 162,
   "metadata": {},
   "outputs": [
    {
     "data": {
      "text/plain": [
       "brand\n",
       "Acer       287500.000000\n",
       "Asus       312160.000000\n",
       "Dell       289888.888889\n",
       "HP         292388.888889\n",
       "Lenovo     307476.190476\n",
       "MSI        335000.000000\n",
       "Samsung    306000.000000\n",
       "Name: pricecash, dtype: float64"
      ]
     },
     "execution_count": 162,
     "metadata": {},
     "output_type": "execute_result"
    }
   ],
   "source": [
    "price"
   ]
  },
  {
   "cell_type": "code",
   "execution_count": 163,
   "metadata": {},
   "outputs": [],
   "source": [
    "mn = dfn['pricecash'].mean()"
   ]
  },
  {
   "cell_type": "code",
   "execution_count": 164,
   "metadata": {},
   "outputs": [
    {
     "data": {
      "text/plain": [
       "<BarContainer object of 7 artists>"
      ]
     },
     "execution_count": 164,
     "metadata": {},
     "output_type": "execute_result"
    },
    {
     "data": {
      "image/png": "[encoded data removed]",
      "text/plain": [
       "<Figure size 640x480 with 1 Axes>"
      ]
     },
     "metadata": {},
     "output_type": "display_data"
    }
   ],
   "source": [
    "plt.barh(price.index,price.sort_values())"
   ]
  },
  {
   "cell_type": "code",
   "execution_count": 165,
   "metadata": {},
   "outputs": [],
   "source": [
    "import plotly.express as px\n",
    "import seaborn as sns"
   ]
  },
  {
   "cell_type": "code",
   "execution_count": 166,
   "metadata": {},
   "outputs": [],
   "source": [
    "dfn['processor1'] = dfn['processor'].str[:8]"
   ]
  },
  {
   "cell_type": "code",
   "execution_count": 167,
   "metadata": {},
   "outputs": [
    {
     "data": {
      "text/plain": [
       "<Axes: xlabel='brand', ylabel='pricecash'>"
      ]
     },
     "execution_count": 167,
     "metadata": {},
     "output_type": "execute_result"
    },
    {
     "data": {
      "image/png": "[encoded data removed]",
      "text/plain": [
       "<Figure size 650x650 with 1 Axes>"
      ]
     },
     "metadata": {},
     "output_type": "display_data"
    }
   ],
   "source": [
    "f, ax = plt.subplots(figsize=(6.5, 6.5))\n",
    "sns.despine(f, left=True, bottom=True)\n",
    "processor = list(dfn['processor'].unique())\n",
    "processor1 = list(set([i[:8] for i in processor]))\n",
    "sns.scatterplot(x=\"brand\", y=\"pricecash\",\n",
    "                hue=\"processor1\", size=\"screen\",\n",
    "                palette=\"ch:r=-.2,d=.3_r\",\n",
    "                hue_order=processor1,\n",
    "                sizes=(1, 8), linewidth=0,\n",
    "                data=dfn, ax=ax)"
   ]
  },
  {
   "cell_type": "code",
   "execution_count": 168,
   "metadata": {},
   "outputs": [
    {
     "data": {
      "text/plain": [
       "<Axes: xlabel='hdd', ylabel='pricecash'>"
      ]
     },
     "execution_count": 168,
     "metadata": {},
     "output_type": "execute_result"
    },
    {
     "data": {
      "image/png": "[encoded data removed]",
      "text/plain": [
       "<Figure size 650x650 with 1 Axes>"
      ]
     },
     "metadata": {},
     "output_type": "display_data"
    }
   ],
   "source": [
    "f, ax = plt.subplots(figsize=(6.5, 6.5))\n",
    "sns.despine(f, left=True, bottom=True)\n",
    "sns.scatterplot(x=\"hdd\", y=\"pricecash\",\n",
    "                size=\"screen\",\n",
    "                palette=\"ch:r=-.2,d=.3_r\",\n",
    "                sizes=(1, 8), linewidth=0,\n",
    "                data=dfn, ax=ax)"
   ]
  },
  {
   "cell_type": "markdown",
   "metadata": {},
   "source": [
    "# KMeans clustering"
   ]
  },
  {
   "cell_type": "markdown",
   "metadata": {},
   "source": [
    "***To do clustering we will encode our string variables & scale numeric variables.***\n",
    "***I chose onehotencoding, since actually it is harder to state that we have proven order for categorical variables.***"
   ]
  },
  {
   "cell_type": "code",
   "execution_count": 169,
   "metadata": {},
   "outputs": [],
   "source": [
    "from sklearn.preprocessing import OneHotEncoder\n",
    "from sklearn.preprocessing import OrdinalEncoder"
   ]
  },
  {
   "cell_type": "markdown",
   "metadata": {},
   "source": [
    "<font color = magenta>\n",
    "We need further data cleaning."
   ]
  },
  {
   "cell_type": "code",
   "execution_count": 170,
   "metadata": {},
   "outputs": [
    {
     "data": {
      "text/plain": [
       "array([nan,  1.])"
      ]
     },
     "execution_count": 170,
     "metadata": {},
     "output_type": "execute_result"
    }
   ],
   "source": [
    "dfn['flip'].unique()"
   ]
  },
  {
   "cell_type": "code",
   "execution_count": 171,
   "metadata": {},
   "outputs": [],
   "source": [
    "dfn['flip'] = dfn['flip'].fillna(0)"
   ]
  },
  {
   "cell_type": "code",
   "execution_count": 172,
   "metadata": {},
   "outputs": [
    {
     "data": {
      "text/plain": [
       "array([nan,  1.])"
      ]
     },
     "execution_count": 172,
     "metadata": {},
     "output_type": "execute_result"
    }
   ],
   "source": [
    "dfn['touchscreen'].unique()"
   ]
  },
  {
   "cell_type": "code",
   "execution_count": 173,
   "metadata": {},
   "outputs": [],
   "source": [
    "dfn['touchscreen'] = dfn['touchscreen'].fillna(0)"
   ]
  },
  {
   "cell_type": "code",
   "execution_count": 174,
   "metadata": {},
   "outputs": [
    {
     "data": {
      "text/html": [
       "<div>\n",
       "<style scoped>\n",
       "    .dataframe tbody tr th:only-of-type {\n",
       "        vertical-align: middle;\n",
       "    }\n",
       "\n",
       "    .dataframe tbody tr th {\n",
       "        vertical-align: top;\n",
       "    }\n",
       "\n",
       "    .dataframe thead th {\n",
       "        text-align: right;\n",
       "    }\n",
       "</style>\n",
       "<table border=\"1\" class=\"dataframe\">\n",
       "  <thead>\n",
       "    <tr style=\"text-align: right;\">\n",
       "      <th></th>\n",
       "      <th>id</th>\n",
       "      <th>flip</th>\n",
       "      <th>touchscreen</th>\n",
       "      <th>brand</th>\n",
       "      <th>full brand</th>\n",
       "      <th>processor</th>\n",
       "      <th>ram</th>\n",
       "      <th>ssd</th>\n",
       "      <th>hdd</th>\n",
       "      <th>graphics</th>\n",
       "      <th>spec</th>\n",
       "      <th>screen</th>\n",
       "      <th>dos</th>\n",
       "      <th>price</th>\n",
       "      <th>pricecash</th>\n",
       "      <th>pricemonthly</th>\n",
       "      <th>processor1</th>\n",
       "    </tr>\n",
       "  </thead>\n",
       "  <tbody>\n",
       "    <tr>\n",
       "      <th>0</th>\n",
       "      <td>75</td>\n",
       "      <td>0.0</td>\n",
       "      <td>0.0</td>\n",
       "      <td>Asus</td>\n",
       "      <td>.Asus VivoBook K1703ZA-SB54</td>\n",
       "      <td>Core i5 12500H</td>\n",
       "      <td>8.0</td>\n",
       "      <td>512.0</td>\n",
       "      <td>0.0</td>\n",
       "      <td>Intel Iris Plus Graphics</td>\n",
       "      <td>NaN</td>\n",
       "      <td>17.3</td>\n",
       "      <td>Windows 11</td>\n",
       "      <td>372600</td>\n",
       "      <td>345000</td>\n",
       "      <td>19200</td>\n",
       "      <td>Core i5</td>\n",
       "    </tr>\n",
       "    <tr>\n",
       "      <th>1</th>\n",
       "      <td>135</td>\n",
       "      <td>0.0</td>\n",
       "      <td>0.0</td>\n",
       "      <td>Asus</td>\n",
       "      <td>.Asus VivoBook K1703ZA-SB54</td>\n",
       "      <td>Core i5 12500H</td>\n",
       "      <td>8.0</td>\n",
       "      <td>512.0</td>\n",
       "      <td>0.0</td>\n",
       "      <td>Intel Iris Plus Graphics</td>\n",
       "      <td>NaN</td>\n",
       "      <td>17.3</td>\n",
       "      <td>Windows 11</td>\n",
       "      <td>372600</td>\n",
       "      <td>345000</td>\n",
       "      <td>19200</td>\n",
       "      <td>Core i5</td>\n",
       "    </tr>\n",
       "    <tr>\n",
       "      <th>2</th>\n",
       "      <td>27</td>\n",
       "      <td>0.0</td>\n",
       "      <td>0.0</td>\n",
       "      <td>Acer</td>\n",
       "      <td>Acer Aspire 3 A315-59-534T</td>\n",
       "      <td>Core i5 1235U</td>\n",
       "      <td>8.0</td>\n",
       "      <td>512.0</td>\n",
       "      <td>0.0</td>\n",
       "      <td>Intel Iris Plus Graphics</td>\n",
       "      <td>NaN</td>\n",
       "      <td>15.6</td>\n",
       "      <td>Dos</td>\n",
       "      <td>268900</td>\n",
       "      <td>249000</td>\n",
       "      <td>13800</td>\n",
       "      <td>Core i5</td>\n",
       "    </tr>\n",
       "  </tbody>\n",
       "</table>\n",
       "</div>"
      ],
      "text/plain": [
       "    id  flip  touchscreen  brand                   full brand  \\\n",
       "0   75   0.0          0.0   Asus  .Asus VivoBook K1703ZA-SB54   \n",
       "1  135   0.0          0.0   Asus  .Asus VivoBook K1703ZA-SB54   \n",
       "2   27   0.0          0.0  Acer    Acer Aspire 3 A315-59-534T   \n",
       "\n",
       "          processor  ram    ssd  hdd                    graphics  spec  \\\n",
       "0   Core i5 12500H   8.0  512.0  0.0   Intel Iris Plus Graphics    NaN   \n",
       "1   Core i5 12500H   8.0  512.0  0.0   Intel Iris Plus Graphics    NaN   \n",
       "2    Core i5 1235U   8.0  512.0  0.0   Intel Iris Plus Graphics    NaN   \n",
       "\n",
       "   screen          dos   price  pricecash  pricemonthly processor1  \n",
       "0    17.3   Windows 11  372600     345000         19200    Core i5  \n",
       "1    17.3   Windows 11  372600     345000         19200    Core i5  \n",
       "2    15.6          Dos  268900     249000         13800    Core i5  "
      ]
     },
     "execution_count": 174,
     "metadata": {},
     "output_type": "execute_result"
    }
   ],
   "source": [
    "dfn.head(3)"
   ]
  },
  {
   "cell_type": "code",
   "execution_count": 175,
   "metadata": {},
   "outputs": [],
   "source": [
    "dfn['grafika'] = dfn['graphics'].str[:9]"
   ]
  },
  {
   "cell_type": "code",
   "execution_count": 176,
   "metadata": {},
   "outputs": [
    {
     "data": {
      "text/plain": [
       "array([' Intel Ir', ' Intel UH', ' GeForce ', ' Geforce ', ' Iris Xe ',\n",
       "       ' Radeon G'], dtype=object)"
      ]
     },
     "execution_count": 176,
     "metadata": {},
     "output_type": "execute_result"
    }
   ],
   "source": [
    "dfn['grafika'].unique()"
   ]
  },
  {
   "cell_type": "code",
   "execution_count": 177,
   "metadata": {},
   "outputs": [],
   "source": [
    "dfn['grafika'] = dfn['grafika'].str.replace(' Geforce ',' GeForce ')"
   ]
  },
  {
   "cell_type": "code",
   "execution_count": 178,
   "metadata": {},
   "outputs": [
    {
     "data": {
      "text/plain": [
       "array([' Intel Iris Plus Graphics ', ' Intel UHD Graphics ',\n",
       "       ' GeForce MX550 2Gb ', ' GeForce GTX1650 4Gb ',\n",
       "       ' Geforce MX350 2Gb ', ' Iris Xe Graphics ',\n",
       "       ' Geforce RTX3050 4Gb ', ' Radeon Graphics ',\n",
       "       ' GeForce MX330 2Gb ', ' GeForce MX450 2Gb ',\n",
       "       ' GeForce MX110 2Gb '], dtype=object)"
      ]
     },
     "execution_count": 178,
     "metadata": {},
     "output_type": "execute_result"
    }
   ],
   "source": [
    "dfn['graphics'].unique()"
   ]
  },
  {
   "cell_type": "code",
   "execution_count": 179,
   "metadata": {},
   "outputs": [
    {
     "data": {
      "text/html": [
       "<div>\n",
       "<style scoped>\n",
       "    .dataframe tbody tr th:only-of-type {\n",
       "        vertical-align: middle;\n",
       "    }\n",
       "\n",
       "    .dataframe tbody tr th {\n",
       "        vertical-align: top;\n",
       "    }\n",
       "\n",
       "    .dataframe thead th {\n",
       "        text-align: right;\n",
       "    }\n",
       "</style>\n",
       "<table border=\"1\" class=\"dataframe\">\n",
       "  <thead>\n",
       "    <tr style=\"text-align: right;\">\n",
       "      <th></th>\n",
       "      <th>id</th>\n",
       "      <th>flip</th>\n",
       "      <th>touchscreen</th>\n",
       "      <th>brand</th>\n",
       "      <th>full brand</th>\n",
       "      <th>processor</th>\n",
       "      <th>ram</th>\n",
       "      <th>ssd</th>\n",
       "      <th>hdd</th>\n",
       "      <th>graphics</th>\n",
       "      <th>spec</th>\n",
       "      <th>screen</th>\n",
       "      <th>dos</th>\n",
       "      <th>price</th>\n",
       "      <th>pricecash</th>\n",
       "      <th>pricemonthly</th>\n",
       "      <th>processor1</th>\n",
       "      <th>grafika</th>\n",
       "    </tr>\n",
       "  </thead>\n",
       "  <tbody>\n",
       "    <tr>\n",
       "      <th>0</th>\n",
       "      <td>75</td>\n",
       "      <td>0.0</td>\n",
       "      <td>0.0</td>\n",
       "      <td>Asus</td>\n",
       "      <td>.Asus VivoBook K1703ZA-SB54</td>\n",
       "      <td>Core i5 12500H</td>\n",
       "      <td>8.0</td>\n",
       "      <td>512.0</td>\n",
       "      <td>0.0</td>\n",
       "      <td>Intel Iris Plus Graphics</td>\n",
       "      <td>NaN</td>\n",
       "      <td>17.3</td>\n",
       "      <td>Windows 11</td>\n",
       "      <td>372600</td>\n",
       "      <td>345000</td>\n",
       "      <td>19200</td>\n",
       "      <td>Core i5</td>\n",
       "      <td>Intel Ir</td>\n",
       "    </tr>\n",
       "    <tr>\n",
       "      <th>1</th>\n",
       "      <td>135</td>\n",
       "      <td>0.0</td>\n",
       "      <td>0.0</td>\n",
       "      <td>Asus</td>\n",
       "      <td>.Asus VivoBook K1703ZA-SB54</td>\n",
       "      <td>Core i5 12500H</td>\n",
       "      <td>8.0</td>\n",
       "      <td>512.0</td>\n",
       "      <td>0.0</td>\n",
       "      <td>Intel Iris Plus Graphics</td>\n",
       "      <td>NaN</td>\n",
       "      <td>17.3</td>\n",
       "      <td>Windows 11</td>\n",
       "      <td>372600</td>\n",
       "      <td>345000</td>\n",
       "      <td>19200</td>\n",
       "      <td>Core i5</td>\n",
       "      <td>Intel Ir</td>\n",
       "    </tr>\n",
       "    <tr>\n",
       "      <th>2</th>\n",
       "      <td>27</td>\n",
       "      <td>0.0</td>\n",
       "      <td>0.0</td>\n",
       "      <td>Acer</td>\n",
       "      <td>Acer Aspire 3 A315-59-534T</td>\n",
       "      <td>Core i5 1235U</td>\n",
       "      <td>8.0</td>\n",
       "      <td>512.0</td>\n",
       "      <td>0.0</td>\n",
       "      <td>Intel Iris Plus Graphics</td>\n",
       "      <td>NaN</td>\n",
       "      <td>15.6</td>\n",
       "      <td>Dos</td>\n",
       "      <td>268900</td>\n",
       "      <td>249000</td>\n",
       "      <td>13800</td>\n",
       "      <td>Core i5</td>\n",
       "      <td>Intel Ir</td>\n",
       "    </tr>\n",
       "  </tbody>\n",
       "</table>\n",
       "</div>"
      ],
      "text/plain": [
       "    id  flip  touchscreen  brand                   full brand  \\\n",
       "0   75   0.0          0.0   Asus  .Asus VivoBook K1703ZA-SB54   \n",
       "1  135   0.0          0.0   Asus  .Asus VivoBook K1703ZA-SB54   \n",
       "2   27   0.0          0.0  Acer    Acer Aspire 3 A315-59-534T   \n",
       "\n",
       "          processor  ram    ssd  hdd                    graphics  spec  \\\n",
       "0   Core i5 12500H   8.0  512.0  0.0   Intel Iris Plus Graphics    NaN   \n",
       "1   Core i5 12500H   8.0  512.0  0.0   Intel Iris Plus Graphics    NaN   \n",
       "2    Core i5 1235U   8.0  512.0  0.0   Intel Iris Plus Graphics    NaN   \n",
       "\n",
       "   screen          dos   price  pricecash  pricemonthly processor1    grafika  \n",
       "0    17.3   Windows 11  372600     345000         19200    Core i5   Intel Ir  \n",
       "1    17.3   Windows 11  372600     345000         19200    Core i5   Intel Ir  \n",
       "2    15.6          Dos  268900     249000         13800    Core i5   Intel Ir  "
      ]
     },
     "execution_count": 179,
     "metadata": {},
     "output_type": "execute_result"
    }
   ],
   "source": [
    "dfn.head(3)"
   ]
  },
  {
   "cell_type": "code",
   "execution_count": 180,
   "metadata": {},
   "outputs": [
    {
     "data": {
      "text/plain": [
       "array([' Windows 11', ' Dos', ' Windows 10', '  Windows 10',\n",
       "       '  Windows 11', ' Windows 10 Pro', '  Chrome OS',\n",
       "       ' Windows 11 Pro', '  Windows 11 Pro', '  Windows 10 Pro'],\n",
       "      dtype=object)"
      ]
     },
     "execution_count": 180,
     "metadata": {},
     "output_type": "execute_result"
    }
   ],
   "source": [
    "dfn['dos'].unique()"
   ]
  },
  {
   "cell_type": "code",
   "execution_count": 181,
   "metadata": {},
   "outputs": [],
   "source": [
    "dfn['dos'] = dfn['dos'].str.replace(' Windows 11','Windows 11')"
   ]
  },
  {
   "cell_type": "code",
   "execution_count": 182,
   "metadata": {},
   "outputs": [],
   "source": [
    "dfn['dos'] = dfn['dos'].str.replace(' Windows 11','Windows 11')"
   ]
  },
  {
   "cell_type": "code",
   "execution_count": 183,
   "metadata": {},
   "outputs": [],
   "source": [
    "dfn['dos'] = dfn['dos'].str.replace(' Windows 10','Windows 10')"
   ]
  },
  {
   "cell_type": "code",
   "execution_count": 184,
   "metadata": {},
   "outputs": [],
   "source": [
    "dfn['dos'] = dfn['dos'].str.replace(' Windows 10','Windows 10')"
   ]
  },
  {
   "cell_type": "markdown",
   "metadata": {},
   "source": [
    "***we will not go in details for parameters, just will be guided by general brand or general kind of a parameter.***"
   ]
  },
  {
   "cell_type": "markdown",
   "metadata": {},
   "source": [
    "# Separating columns"
   ]
  },
  {
   "cell_type": "code",
   "execution_count": 185,
   "metadata": {},
   "outputs": [
    {
     "data": {
      "text/plain": [
       "Index(['id', 'flip', 'touchscreen', 'brand', 'full brand', 'processor', 'ram',\n",
       "       'ssd', 'hdd', 'graphics', 'spec', 'screen', 'dos', 'price', 'pricecash',\n",
       "       'pricemonthly', 'processor1', 'grafika'],\n",
       "      dtype='object')"
      ]
     },
     "execution_count": 185,
     "metadata": {},
     "output_type": "execute_result"
    }
   ],
   "source": [
    "dfn.columns"
   ]
  },
  {
   "cell_type": "code",
   "execution_count": 186,
   "metadata": {},
   "outputs": [],
   "source": [
    "df_bool = dfn[['flip', 'touchscreen']]"
   ]
  },
  {
   "cell_type": "code",
   "execution_count": 187,
   "metadata": {},
   "outputs": [],
   "source": [
    "df_onehot = dfn[['processor1', 'grafika','dos',]]"
   ]
  },
  {
   "cell_type": "code",
   "execution_count": 188,
   "metadata": {},
   "outputs": [],
   "source": [
    "df_numeric = dfn[['ram','ssd', 'hdd','screen']]"
   ]
  },
  {
   "cell_type": "code",
   "execution_count": 189,
   "metadata": {},
   "outputs": [],
   "source": [
    "onehot_encoder = OneHotEncoder(sparse_output=False)"
   ]
  },
  {
   "cell_type": "code",
   "execution_count": 190,
   "metadata": {},
   "outputs": [],
   "source": [
    "from sklearn.preprocessing import StandardScaler"
   ]
  },
  {
   "cell_type": "code",
   "execution_count": 191,
   "metadata": {},
   "outputs": [],
   "source": [
    "numeric_encoder = StandardScaler()"
   ]
  },
  {
   "cell_type": "code",
   "execution_count": 192,
   "metadata": {},
   "outputs": [],
   "source": [
    "df_numeric_scaled = numeric_encoder.fit_transform(df_numeric)"
   ]
  },
  {
   "cell_type": "code",
   "execution_count": 193,
   "metadata": {},
   "outputs": [],
   "source": [
    "dfn_numeric_scaled = pd.DataFrame(df_numeric_scaled,columns =df_numeric.columns )"
   ]
  },
  {
   "cell_type": "code",
   "execution_count": 194,
   "metadata": {},
   "outputs": [
    {
     "data": {
      "text/html": [
       "<div>\n",
       "<style scoped>\n",
       "    .dataframe tbody tr th:only-of-type {\n",
       "        vertical-align: middle;\n",
       "    }\n",
       "\n",
       "    .dataframe tbody tr th {\n",
       "        vertical-align: top;\n",
       "    }\n",
       "\n",
       "    .dataframe thead th {\n",
       "        text-align: right;\n",
       "    }\n",
       "</style>\n",
       "<table border=\"1\" class=\"dataframe\">\n",
       "  <thead>\n",
       "    <tr style=\"text-align: right;\">\n",
       "      <th></th>\n",
       "      <th>ram</th>\n",
       "      <th>ssd</th>\n",
       "      <th>hdd</th>\n",
       "      <th>screen</th>\n",
       "    </tr>\n",
       "  </thead>\n",
       "  <tbody>\n",
       "    <tr>\n",
       "      <th>0</th>\n",
       "      <td>-0.403239</td>\n",
       "      <td>1.010545</td>\n",
       "      <td>-0.30266</td>\n",
       "      <td>1.855786</td>\n",
       "    </tr>\n",
       "    <tr>\n",
       "      <th>1</th>\n",
       "      <td>-0.403239</td>\n",
       "      <td>1.010545</td>\n",
       "      <td>-0.30266</td>\n",
       "      <td>1.855786</td>\n",
       "    </tr>\n",
       "    <tr>\n",
       "      <th>2</th>\n",
       "      <td>-0.403239</td>\n",
       "      <td>1.010545</td>\n",
       "      <td>-0.30266</td>\n",
       "      <td>0.161676</td>\n",
       "    </tr>\n",
       "    <tr>\n",
       "      <th>3</th>\n",
       "      <td>-0.403239</td>\n",
       "      <td>-0.689548</td>\n",
       "      <td>-0.30266</td>\n",
       "      <td>0.161676</td>\n",
       "    </tr>\n",
       "    <tr>\n",
       "      <th>4</th>\n",
       "      <td>-0.403239</td>\n",
       "      <td>-0.689548</td>\n",
       "      <td>-0.30266</td>\n",
       "      <td>0.161676</td>\n",
       "    </tr>\n",
       "  </tbody>\n",
       "</table>\n",
       "</div>"
      ],
      "text/plain": [
       "        ram       ssd      hdd    screen\n",
       "0 -0.403239  1.010545 -0.30266  1.855786\n",
       "1 -0.403239  1.010545 -0.30266  1.855786\n",
       "2 -0.403239  1.010545 -0.30266  0.161676\n",
       "3 -0.403239 -0.689548 -0.30266  0.161676\n",
       "4 -0.403239 -0.689548 -0.30266  0.161676"
      ]
     },
     "execution_count": 194,
     "metadata": {},
     "output_type": "execute_result"
    }
   ],
   "source": [
    "dfn_numeric_scaled .head()"
   ]
  },
  {
   "cell_type": "code",
   "execution_count": 195,
   "metadata": {},
   "outputs": [],
   "source": [
    "df_onehot_encoded = onehot_encoder.fit_transform(df_onehot)"
   ]
  },
  {
   "cell_type": "code",
   "execution_count": 196,
   "metadata": {},
   "outputs": [
    {
     "data": {
      "text/plain": [
       "array([[0., 1., 0., ..., 0., 1., 0.],\n",
       "       [0., 1., 0., ..., 0., 1., 0.],\n",
       "       [0., 1., 0., ..., 0., 0., 0.],\n",
       "       ...,\n",
       "       [0., 1., 0., ..., 0., 0., 0.],\n",
       "       [0., 1., 0., ..., 0., 0., 0.],\n",
       "       [0., 1., 0., ..., 0., 0., 0.]])"
      ]
     },
     "execution_count": 196,
     "metadata": {},
     "output_type": "execute_result"
    }
   ],
   "source": [
    "df_onehot_encoded"
   ]
  },
  {
   "cell_type": "code",
   "execution_count": 197,
   "metadata": {},
   "outputs": [],
   "source": [
    "dfn_onehot_encoded = pd.DataFrame(df_onehot_encoded)"
   ]
  },
  {
   "cell_type": "code",
   "execution_count": 198,
   "metadata": {},
   "outputs": [
    {
     "data": {
      "text/html": [
       "<div>\n",
       "<style scoped>\n",
       "    .dataframe tbody tr th:only-of-type {\n",
       "        vertical-align: middle;\n",
       "    }\n",
       "\n",
       "    .dataframe tbody tr th {\n",
       "        vertical-align: top;\n",
       "    }\n",
       "\n",
       "    .dataframe thead th {\n",
       "        text-align: right;\n",
       "    }\n",
       "</style>\n",
       "<table border=\"1\" class=\"dataframe\">\n",
       "  <thead>\n",
       "    <tr style=\"text-align: right;\">\n",
       "      <th></th>\n",
       "      <th>0</th>\n",
       "      <th>1</th>\n",
       "      <th>2</th>\n",
       "      <th>3</th>\n",
       "      <th>4</th>\n",
       "      <th>5</th>\n",
       "      <th>6</th>\n",
       "      <th>7</th>\n",
       "      <th>8</th>\n",
       "      <th>9</th>\n",
       "      <th>10</th>\n",
       "      <th>11</th>\n",
       "      <th>12</th>\n",
       "      <th>13</th>\n",
       "      <th>14</th>\n",
       "      <th>15</th>\n",
       "      <th>16</th>\n",
       "    </tr>\n",
       "  </thead>\n",
       "  <tbody>\n",
       "    <tr>\n",
       "      <th>0</th>\n",
       "      <td>0.0</td>\n",
       "      <td>1.0</td>\n",
       "      <td>0.0</td>\n",
       "      <td>0.0</td>\n",
       "      <td>0.0</td>\n",
       "      <td>0.0</td>\n",
       "      <td>0.0</td>\n",
       "      <td>1.0</td>\n",
       "      <td>0.0</td>\n",
       "      <td>0.0</td>\n",
       "      <td>0.0</td>\n",
       "      <td>0.0</td>\n",
       "      <td>0.0</td>\n",
       "      <td>0.0</td>\n",
       "      <td>0.0</td>\n",
       "      <td>1.0</td>\n",
       "      <td>0.0</td>\n",
       "    </tr>\n",
       "    <tr>\n",
       "      <th>1</th>\n",
       "      <td>0.0</td>\n",
       "      <td>1.0</td>\n",
       "      <td>0.0</td>\n",
       "      <td>0.0</td>\n",
       "      <td>0.0</td>\n",
       "      <td>0.0</td>\n",
       "      <td>0.0</td>\n",
       "      <td>1.0</td>\n",
       "      <td>0.0</td>\n",
       "      <td>0.0</td>\n",
       "      <td>0.0</td>\n",
       "      <td>0.0</td>\n",
       "      <td>0.0</td>\n",
       "      <td>0.0</td>\n",
       "      <td>0.0</td>\n",
       "      <td>1.0</td>\n",
       "      <td>0.0</td>\n",
       "    </tr>\n",
       "    <tr>\n",
       "      <th>2</th>\n",
       "      <td>0.0</td>\n",
       "      <td>1.0</td>\n",
       "      <td>0.0</td>\n",
       "      <td>0.0</td>\n",
       "      <td>0.0</td>\n",
       "      <td>0.0</td>\n",
       "      <td>0.0</td>\n",
       "      <td>1.0</td>\n",
       "      <td>0.0</td>\n",
       "      <td>0.0</td>\n",
       "      <td>0.0</td>\n",
       "      <td>0.0</td>\n",
       "      <td>1.0</td>\n",
       "      <td>0.0</td>\n",
       "      <td>0.0</td>\n",
       "      <td>0.0</td>\n",
       "      <td>0.0</td>\n",
       "    </tr>\n",
       "  </tbody>\n",
       "</table>\n",
       "</div>"
      ],
      "text/plain": [
       "    0    1    2    3    4    5    6    7    8    9    10   11   12   13   14  \\\n",
       "0  0.0  1.0  0.0  0.0  0.0  0.0  0.0  1.0  0.0  0.0  0.0  0.0  0.0  0.0  0.0   \n",
       "1  0.0  1.0  0.0  0.0  0.0  0.0  0.0  1.0  0.0  0.0  0.0  0.0  0.0  0.0  0.0   \n",
       "2  0.0  1.0  0.0  0.0  0.0  0.0  0.0  1.0  0.0  0.0  0.0  0.0  1.0  0.0  0.0   \n",
       "\n",
       "    15   16  \n",
       "0  1.0  0.0  \n",
       "1  1.0  0.0  \n",
       "2  0.0  0.0  "
      ]
     },
     "execution_count": 198,
     "metadata": {},
     "output_type": "execute_result"
    }
   ],
   "source": [
    "dfn_onehot_encoded.head(3)"
   ]
  },
  {
   "cell_type": "code",
   "execution_count": 199,
   "metadata": {},
   "outputs": [],
   "source": [
    "jframes = [[df_bool,dfn_numeric_scaled,dfn_onehot_encoded]]"
   ]
  },
  {
   "cell_type": "code",
   "execution_count": 200,
   "metadata": {},
   "outputs": [
    {
     "data": {
      "text/html": [
       "<div>\n",
       "<style scoped>\n",
       "    .dataframe tbody tr th:only-of-type {\n",
       "        vertical-align: middle;\n",
       "    }\n",
       "\n",
       "    .dataframe tbody tr th {\n",
       "        vertical-align: top;\n",
       "    }\n",
       "\n",
       "    .dataframe thead th {\n",
       "        text-align: right;\n",
       "    }\n",
       "</style>\n",
       "<table border=\"1\" class=\"dataframe\">\n",
       "  <thead>\n",
       "    <tr style=\"text-align: right;\">\n",
       "      <th></th>\n",
       "      <th>ram</th>\n",
       "      <th>ssd</th>\n",
       "      <th>hdd</th>\n",
       "      <th>screen</th>\n",
       "    </tr>\n",
       "  </thead>\n",
       "  <tbody>\n",
       "    <tr>\n",
       "      <th>0</th>\n",
       "      <td>-0.403239</td>\n",
       "      <td>1.010545</td>\n",
       "      <td>-0.30266</td>\n",
       "      <td>1.855786</td>\n",
       "    </tr>\n",
       "    <tr>\n",
       "      <th>1</th>\n",
       "      <td>-0.403239</td>\n",
       "      <td>1.010545</td>\n",
       "      <td>-0.30266</td>\n",
       "      <td>1.855786</td>\n",
       "    </tr>\n",
       "    <tr>\n",
       "      <th>2</th>\n",
       "      <td>-0.403239</td>\n",
       "      <td>1.010545</td>\n",
       "      <td>-0.30266</td>\n",
       "      <td>0.161676</td>\n",
       "    </tr>\n",
       "    <tr>\n",
       "      <th>3</th>\n",
       "      <td>-0.403239</td>\n",
       "      <td>-0.689548</td>\n",
       "      <td>-0.30266</td>\n",
       "      <td>0.161676</td>\n",
       "    </tr>\n",
       "    <tr>\n",
       "      <th>4</th>\n",
       "      <td>-0.403239</td>\n",
       "      <td>-0.689548</td>\n",
       "      <td>-0.30266</td>\n",
       "      <td>0.161676</td>\n",
       "    </tr>\n",
       "    <tr>\n",
       "      <th>...</th>\n",
       "      <td>...</td>\n",
       "      <td>...</td>\n",
       "      <td>...</td>\n",
       "      <td>...</td>\n",
       "    </tr>\n",
       "    <tr>\n",
       "      <th>138</th>\n",
       "      <td>-0.403239</td>\n",
       "      <td>1.010545</td>\n",
       "      <td>-0.30266</td>\n",
       "      <td>0.161676</td>\n",
       "    </tr>\n",
       "    <tr>\n",
       "      <th>139</th>\n",
       "      <td>-0.403239</td>\n",
       "      <td>1.010545</td>\n",
       "      <td>-0.30266</td>\n",
       "      <td>0.161676</td>\n",
       "    </tr>\n",
       "    <tr>\n",
       "      <th>140</th>\n",
       "      <td>-0.403239</td>\n",
       "      <td>1.010545</td>\n",
       "      <td>-0.30266</td>\n",
       "      <td>0.161676</td>\n",
       "    </tr>\n",
       "    <tr>\n",
       "      <th>141</th>\n",
       "      <td>-0.403239</td>\n",
       "      <td>-0.689548</td>\n",
       "      <td>-0.30266</td>\n",
       "      <td>-2.130355</td>\n",
       "    </tr>\n",
       "    <tr>\n",
       "      <th>142</th>\n",
       "      <td>-0.403239</td>\n",
       "      <td>-0.689548</td>\n",
       "      <td>-0.30266</td>\n",
       "      <td>-2.130355</td>\n",
       "    </tr>\n",
       "  </tbody>\n",
       "</table>\n",
       "<p>143 rows × 4 columns</p>\n",
       "</div>"
      ],
      "text/plain": [
       "          ram       ssd      hdd    screen\n",
       "0   -0.403239  1.010545 -0.30266  1.855786\n",
       "1   -0.403239  1.010545 -0.30266  1.855786\n",
       "2   -0.403239  1.010545 -0.30266  0.161676\n",
       "3   -0.403239 -0.689548 -0.30266  0.161676\n",
       "4   -0.403239 -0.689548 -0.30266  0.161676\n",
       "..        ...       ...      ...       ...\n",
       "138 -0.403239  1.010545 -0.30266  0.161676\n",
       "139 -0.403239  1.010545 -0.30266  0.161676\n",
       "140 -0.403239  1.010545 -0.30266  0.161676\n",
       "141 -0.403239 -0.689548 -0.30266 -2.130355\n",
       "142 -0.403239 -0.689548 -0.30266 -2.130355\n",
       "\n",
       "[143 rows x 4 columns]"
      ]
     },
     "execution_count": 200,
     "metadata": {},
     "output_type": "execute_result"
    }
   ],
   "source": [
    "dfn_numeric_scaled"
   ]
  },
  {
   "cell_type": "code",
   "execution_count": 201,
   "metadata": {},
   "outputs": [],
   "source": [
    "X = pd.concat([df_bool,dfn_numeric_scaled,dfn_onehot_encoded],axis=1)"
   ]
  },
  {
   "cell_type": "code",
   "execution_count": 202,
   "metadata": {},
   "outputs": [
    {
     "data": {
      "text/html": [
       "<div>\n",
       "<style scoped>\n",
       "    .dataframe tbody tr th:only-of-type {\n",
       "        vertical-align: middle;\n",
       "    }\n",
       "\n",
       "    .dataframe tbody tr th {\n",
       "        vertical-align: top;\n",
       "    }\n",
       "\n",
       "    .dataframe thead th {\n",
       "        text-align: right;\n",
       "    }\n",
       "</style>\n",
       "<table border=\"1\" class=\"dataframe\">\n",
       "  <thead>\n",
       "    <tr style=\"text-align: right;\">\n",
       "      <th></th>\n",
       "      <th>flip</th>\n",
       "      <th>touchscreen</th>\n",
       "      <th>ram</th>\n",
       "      <th>ssd</th>\n",
       "      <th>hdd</th>\n",
       "      <th>screen</th>\n",
       "      <th>0</th>\n",
       "      <th>1</th>\n",
       "      <th>2</th>\n",
       "      <th>3</th>\n",
       "      <th>...</th>\n",
       "      <th>7</th>\n",
       "      <th>8</th>\n",
       "      <th>9</th>\n",
       "      <th>10</th>\n",
       "      <th>11</th>\n",
       "      <th>12</th>\n",
       "      <th>13</th>\n",
       "      <th>14</th>\n",
       "      <th>15</th>\n",
       "      <th>16</th>\n",
       "    </tr>\n",
       "  </thead>\n",
       "  <tbody>\n",
       "    <tr>\n",
       "      <th>0</th>\n",
       "      <td>0.0</td>\n",
       "      <td>0.0</td>\n",
       "      <td>-0.403239</td>\n",
       "      <td>1.010545</td>\n",
       "      <td>-0.30266</td>\n",
       "      <td>1.855786</td>\n",
       "      <td>0.0</td>\n",
       "      <td>1.0</td>\n",
       "      <td>0.0</td>\n",
       "      <td>0.0</td>\n",
       "      <td>...</td>\n",
       "      <td>1.0</td>\n",
       "      <td>0.0</td>\n",
       "      <td>0.0</td>\n",
       "      <td>0.0</td>\n",
       "      <td>0.0</td>\n",
       "      <td>0.0</td>\n",
       "      <td>0.0</td>\n",
       "      <td>0.0</td>\n",
       "      <td>1.0</td>\n",
       "      <td>0.0</td>\n",
       "    </tr>\n",
       "    <tr>\n",
       "      <th>1</th>\n",
       "      <td>0.0</td>\n",
       "      <td>0.0</td>\n",
       "      <td>-0.403239</td>\n",
       "      <td>1.010545</td>\n",
       "      <td>-0.30266</td>\n",
       "      <td>1.855786</td>\n",
       "      <td>0.0</td>\n",
       "      <td>1.0</td>\n",
       "      <td>0.0</td>\n",
       "      <td>0.0</td>\n",
       "      <td>...</td>\n",
       "      <td>1.0</td>\n",
       "      <td>0.0</td>\n",
       "      <td>0.0</td>\n",
       "      <td>0.0</td>\n",
       "      <td>0.0</td>\n",
       "      <td>0.0</td>\n",
       "      <td>0.0</td>\n",
       "      <td>0.0</td>\n",
       "      <td>1.0</td>\n",
       "      <td>0.0</td>\n",
       "    </tr>\n",
       "    <tr>\n",
       "      <th>2</th>\n",
       "      <td>0.0</td>\n",
       "      <td>0.0</td>\n",
       "      <td>-0.403239</td>\n",
       "      <td>1.010545</td>\n",
       "      <td>-0.30266</td>\n",
       "      <td>0.161676</td>\n",
       "      <td>0.0</td>\n",
       "      <td>1.0</td>\n",
       "      <td>0.0</td>\n",
       "      <td>0.0</td>\n",
       "      <td>...</td>\n",
       "      <td>1.0</td>\n",
       "      <td>0.0</td>\n",
       "      <td>0.0</td>\n",
       "      <td>0.0</td>\n",
       "      <td>0.0</td>\n",
       "      <td>1.0</td>\n",
       "      <td>0.0</td>\n",
       "      <td>0.0</td>\n",
       "      <td>0.0</td>\n",
       "      <td>0.0</td>\n",
       "    </tr>\n",
       "  </tbody>\n",
       "</table>\n",
       "<p>3 rows × 23 columns</p>\n",
       "</div>"
      ],
      "text/plain": [
       "   flip  touchscreen       ram       ssd      hdd    screen    0    1    2  \\\n",
       "0   0.0          0.0 -0.403239  1.010545 -0.30266  1.855786  0.0  1.0  0.0   \n",
       "1   0.0          0.0 -0.403239  1.010545 -0.30266  1.855786  0.0  1.0  0.0   \n",
       "2   0.0          0.0 -0.403239  1.010545 -0.30266  0.161676  0.0  1.0  0.0   \n",
       "\n",
       "     3  ...    7    8    9   10   11   12   13   14   15   16  \n",
       "0  0.0  ...  1.0  0.0  0.0  0.0  0.0  0.0  0.0  0.0  1.0  0.0  \n",
       "1  0.0  ...  1.0  0.0  0.0  0.0  0.0  0.0  0.0  0.0  1.0  0.0  \n",
       "2  0.0  ...  1.0  0.0  0.0  0.0  0.0  1.0  0.0  0.0  0.0  0.0  \n",
       "\n",
       "[3 rows x 23 columns]"
      ]
     },
     "execution_count": 202,
     "metadata": {},
     "output_type": "execute_result"
    }
   ],
   "source": [
    "X.head(3)"
   ]
  },
  {
   "cell_type": "markdown",
   "metadata": {},
   "source": [
    "# KMeans clustering"
   ]
  },
  {
   "cell_type": "code",
   "execution_count": 203,
   "metadata": {},
   "outputs": [],
   "source": [
    "from sklearn.metrics import silhouette_score"
   ]
  },
  {
   "cell_type": "code",
   "execution_count": 204,
   "metadata": {},
   "outputs": [],
   "source": [
    "from sklearn.cluster import KMeans"
   ]
  },
  {
   "cell_type": "code",
   "execution_count": 205,
   "metadata": {},
   "outputs": [
    {
     "data": {
      "text/plain": [
       "143"
      ]
     },
     "execution_count": 205,
     "metadata": {},
     "output_type": "execute_result"
    }
   ],
   "source": [
    "len(X)"
   ]
  },
  {
   "cell_type": "code",
   "execution_count": 206,
   "metadata": {},
   "outputs": [
    {
     "data": {
      "text/html": [
       "<div>\n",
       "<style scoped>\n",
       "    .dataframe tbody tr th:only-of-type {\n",
       "        vertical-align: middle;\n",
       "    }\n",
       "\n",
       "    .dataframe tbody tr th {\n",
       "        vertical-align: top;\n",
       "    }\n",
       "\n",
       "    .dataframe thead th {\n",
       "        text-align: right;\n",
       "    }\n",
       "</style>\n",
       "<table border=\"1\" class=\"dataframe\">\n",
       "  <thead>\n",
       "    <tr style=\"text-align: right;\">\n",
       "      <th></th>\n",
       "      <th>flip</th>\n",
       "      <th>touchscreen</th>\n",
       "      <th>ram</th>\n",
       "      <th>ssd</th>\n",
       "      <th>hdd</th>\n",
       "      <th>screen</th>\n",
       "      <th>0</th>\n",
       "      <th>1</th>\n",
       "      <th>2</th>\n",
       "      <th>3</th>\n",
       "      <th>...</th>\n",
       "      <th>7</th>\n",
       "      <th>8</th>\n",
       "      <th>9</th>\n",
       "      <th>10</th>\n",
       "      <th>11</th>\n",
       "      <th>12</th>\n",
       "      <th>13</th>\n",
       "      <th>14</th>\n",
       "      <th>15</th>\n",
       "      <th>16</th>\n",
       "    </tr>\n",
       "  </thead>\n",
       "  <tbody>\n",
       "    <tr>\n",
       "      <th>0</th>\n",
       "      <td>0.0</td>\n",
       "      <td>0.0</td>\n",
       "      <td>-0.403239</td>\n",
       "      <td>1.010545</td>\n",
       "      <td>-0.30266</td>\n",
       "      <td>1.855786</td>\n",
       "      <td>0.0</td>\n",
       "      <td>1.0</td>\n",
       "      <td>0.0</td>\n",
       "      <td>0.0</td>\n",
       "      <td>...</td>\n",
       "      <td>1.0</td>\n",
       "      <td>0.0</td>\n",
       "      <td>0.0</td>\n",
       "      <td>0.0</td>\n",
       "      <td>0.0</td>\n",
       "      <td>0.0</td>\n",
       "      <td>0.0</td>\n",
       "      <td>0.0</td>\n",
       "      <td>1.0</td>\n",
       "      <td>0.0</td>\n",
       "    </tr>\n",
       "    <tr>\n",
       "      <th>1</th>\n",
       "      <td>0.0</td>\n",
       "      <td>0.0</td>\n",
       "      <td>-0.403239</td>\n",
       "      <td>1.010545</td>\n",
       "      <td>-0.30266</td>\n",
       "      <td>1.855786</td>\n",
       "      <td>0.0</td>\n",
       "      <td>1.0</td>\n",
       "      <td>0.0</td>\n",
       "      <td>0.0</td>\n",
       "      <td>...</td>\n",
       "      <td>1.0</td>\n",
       "      <td>0.0</td>\n",
       "      <td>0.0</td>\n",
       "      <td>0.0</td>\n",
       "      <td>0.0</td>\n",
       "      <td>0.0</td>\n",
       "      <td>0.0</td>\n",
       "      <td>0.0</td>\n",
       "      <td>1.0</td>\n",
       "      <td>0.0</td>\n",
       "    </tr>\n",
       "    <tr>\n",
       "      <th>2</th>\n",
       "      <td>0.0</td>\n",
       "      <td>0.0</td>\n",
       "      <td>-0.403239</td>\n",
       "      <td>1.010545</td>\n",
       "      <td>-0.30266</td>\n",
       "      <td>0.161676</td>\n",
       "      <td>0.0</td>\n",
       "      <td>1.0</td>\n",
       "      <td>0.0</td>\n",
       "      <td>0.0</td>\n",
       "      <td>...</td>\n",
       "      <td>1.0</td>\n",
       "      <td>0.0</td>\n",
       "      <td>0.0</td>\n",
       "      <td>0.0</td>\n",
       "      <td>0.0</td>\n",
       "      <td>1.0</td>\n",
       "      <td>0.0</td>\n",
       "      <td>0.0</td>\n",
       "      <td>0.0</td>\n",
       "      <td>0.0</td>\n",
       "    </tr>\n",
       "    <tr>\n",
       "      <th>3</th>\n",
       "      <td>0.0</td>\n",
       "      <td>0.0</td>\n",
       "      <td>-0.403239</td>\n",
       "      <td>-0.689548</td>\n",
       "      <td>-0.30266</td>\n",
       "      <td>0.161676</td>\n",
       "      <td>0.0</td>\n",
       "      <td>0.0</td>\n",
       "      <td>1.0</td>\n",
       "      <td>0.0</td>\n",
       "      <td>...</td>\n",
       "      <td>1.0</td>\n",
       "      <td>0.0</td>\n",
       "      <td>0.0</td>\n",
       "      <td>0.0</td>\n",
       "      <td>0.0</td>\n",
       "      <td>1.0</td>\n",
       "      <td>0.0</td>\n",
       "      <td>0.0</td>\n",
       "      <td>0.0</td>\n",
       "      <td>0.0</td>\n",
       "    </tr>\n",
       "    <tr>\n",
       "      <th>4</th>\n",
       "      <td>0.0</td>\n",
       "      <td>0.0</td>\n",
       "      <td>-0.403239</td>\n",
       "      <td>-0.689548</td>\n",
       "      <td>-0.30266</td>\n",
       "      <td>0.161676</td>\n",
       "      <td>0.0</td>\n",
       "      <td>0.0</td>\n",
       "      <td>1.0</td>\n",
       "      <td>0.0</td>\n",
       "      <td>...</td>\n",
       "      <td>1.0</td>\n",
       "      <td>0.0</td>\n",
       "      <td>0.0</td>\n",
       "      <td>0.0</td>\n",
       "      <td>0.0</td>\n",
       "      <td>1.0</td>\n",
       "      <td>0.0</td>\n",
       "      <td>0.0</td>\n",
       "      <td>0.0</td>\n",
       "      <td>0.0</td>\n",
       "    </tr>\n",
       "    <tr>\n",
       "      <th>...</th>\n",
       "      <td>...</td>\n",
       "      <td>...</td>\n",
       "      <td>...</td>\n",
       "      <td>...</td>\n",
       "      <td>...</td>\n",
       "      <td>...</td>\n",
       "      <td>...</td>\n",
       "      <td>...</td>\n",
       "      <td>...</td>\n",
       "      <td>...</td>\n",
       "      <td>...</td>\n",
       "      <td>...</td>\n",
       "      <td>...</td>\n",
       "      <td>...</td>\n",
       "      <td>...</td>\n",
       "      <td>...</td>\n",
       "      <td>...</td>\n",
       "      <td>...</td>\n",
       "      <td>...</td>\n",
       "      <td>...</td>\n",
       "      <td>...</td>\n",
       "    </tr>\n",
       "    <tr>\n",
       "      <th>138</th>\n",
       "      <td>0.0</td>\n",
       "      <td>0.0</td>\n",
       "      <td>-0.403239</td>\n",
       "      <td>1.010545</td>\n",
       "      <td>-0.30266</td>\n",
       "      <td>0.161676</td>\n",
       "      <td>0.0</td>\n",
       "      <td>0.0</td>\n",
       "      <td>1.0</td>\n",
       "      <td>0.0</td>\n",
       "      <td>...</td>\n",
       "      <td>1.0</td>\n",
       "      <td>0.0</td>\n",
       "      <td>0.0</td>\n",
       "      <td>0.0</td>\n",
       "      <td>0.0</td>\n",
       "      <td>1.0</td>\n",
       "      <td>0.0</td>\n",
       "      <td>0.0</td>\n",
       "      <td>0.0</td>\n",
       "      <td>0.0</td>\n",
       "    </tr>\n",
       "    <tr>\n",
       "      <th>139</th>\n",
       "      <td>0.0</td>\n",
       "      <td>0.0</td>\n",
       "      <td>-0.403239</td>\n",
       "      <td>1.010545</td>\n",
       "      <td>-0.30266</td>\n",
       "      <td>0.161676</td>\n",
       "      <td>0.0</td>\n",
       "      <td>1.0</td>\n",
       "      <td>0.0</td>\n",
       "      <td>0.0</td>\n",
       "      <td>...</td>\n",
       "      <td>1.0</td>\n",
       "      <td>0.0</td>\n",
       "      <td>0.0</td>\n",
       "      <td>0.0</td>\n",
       "      <td>0.0</td>\n",
       "      <td>1.0</td>\n",
       "      <td>0.0</td>\n",
       "      <td>0.0</td>\n",
       "      <td>0.0</td>\n",
       "      <td>0.0</td>\n",
       "    </tr>\n",
       "    <tr>\n",
       "      <th>140</th>\n",
       "      <td>0.0</td>\n",
       "      <td>0.0</td>\n",
       "      <td>-0.403239</td>\n",
       "      <td>1.010545</td>\n",
       "      <td>-0.30266</td>\n",
       "      <td>0.161676</td>\n",
       "      <td>0.0</td>\n",
       "      <td>1.0</td>\n",
       "      <td>0.0</td>\n",
       "      <td>0.0</td>\n",
       "      <td>...</td>\n",
       "      <td>1.0</td>\n",
       "      <td>0.0</td>\n",
       "      <td>0.0</td>\n",
       "      <td>0.0</td>\n",
       "      <td>0.0</td>\n",
       "      <td>1.0</td>\n",
       "      <td>0.0</td>\n",
       "      <td>0.0</td>\n",
       "      <td>0.0</td>\n",
       "      <td>0.0</td>\n",
       "    </tr>\n",
       "    <tr>\n",
       "      <th>141</th>\n",
       "      <td>1.0</td>\n",
       "      <td>1.0</td>\n",
       "      <td>-0.403239</td>\n",
       "      <td>-0.689548</td>\n",
       "      <td>-0.30266</td>\n",
       "      <td>-2.130355</td>\n",
       "      <td>0.0</td>\n",
       "      <td>1.0</td>\n",
       "      <td>0.0</td>\n",
       "      <td>0.0</td>\n",
       "      <td>...</td>\n",
       "      <td>0.0</td>\n",
       "      <td>0.0</td>\n",
       "      <td>1.0</td>\n",
       "      <td>0.0</td>\n",
       "      <td>0.0</td>\n",
       "      <td>0.0</td>\n",
       "      <td>1.0</td>\n",
       "      <td>0.0</td>\n",
       "      <td>0.0</td>\n",
       "      <td>0.0</td>\n",
       "    </tr>\n",
       "    <tr>\n",
       "      <th>142</th>\n",
       "      <td>1.0</td>\n",
       "      <td>1.0</td>\n",
       "      <td>-0.403239</td>\n",
       "      <td>-0.689548</td>\n",
       "      <td>-0.30266</td>\n",
       "      <td>-2.130355</td>\n",
       "      <td>0.0</td>\n",
       "      <td>1.0</td>\n",
       "      <td>0.0</td>\n",
       "      <td>0.0</td>\n",
       "      <td>...</td>\n",
       "      <td>0.0</td>\n",
       "      <td>0.0</td>\n",
       "      <td>1.0</td>\n",
       "      <td>0.0</td>\n",
       "      <td>0.0</td>\n",
       "      <td>0.0</td>\n",
       "      <td>1.0</td>\n",
       "      <td>0.0</td>\n",
       "      <td>0.0</td>\n",
       "      <td>0.0</td>\n",
       "    </tr>\n",
       "  </tbody>\n",
       "</table>\n",
       "<p>143 rows × 23 columns</p>\n",
       "</div>"
      ],
      "text/plain": [
       "     flip  touchscreen       ram       ssd      hdd    screen    0    1    2  \\\n",
       "0     0.0          0.0 -0.403239  1.010545 -0.30266  1.855786  0.0  1.0  0.0   \n",
       "1     0.0          0.0 -0.403239  1.010545 -0.30266  1.855786  0.0  1.0  0.0   \n",
       "2     0.0          0.0 -0.403239  1.010545 -0.30266  0.161676  0.0  1.0  0.0   \n",
       "3     0.0          0.0 -0.403239 -0.689548 -0.30266  0.161676  0.0  0.0  1.0   \n",
       "4     0.0          0.0 -0.403239 -0.689548 -0.30266  0.161676  0.0  0.0  1.0   \n",
       "..    ...          ...       ...       ...      ...       ...  ...  ...  ...   \n",
       "138   0.0          0.0 -0.403239  1.010545 -0.30266  0.161676  0.0  0.0  1.0   \n",
       "139   0.0          0.0 -0.403239  1.010545 -0.30266  0.161676  0.0  1.0  0.0   \n",
       "140   0.0          0.0 -0.403239  1.010545 -0.30266  0.161676  0.0  1.0  0.0   \n",
       "141   1.0          1.0 -0.403239 -0.689548 -0.30266 -2.130355  0.0  1.0  0.0   \n",
       "142   1.0          1.0 -0.403239 -0.689548 -0.30266 -2.130355  0.0  1.0  0.0   \n",
       "\n",
       "       3  ...    7    8    9   10   11   12   13   14   15   16  \n",
       "0    0.0  ...  1.0  0.0  0.0  0.0  0.0  0.0  0.0  0.0  1.0  0.0  \n",
       "1    0.0  ...  1.0  0.0  0.0  0.0  0.0  0.0  0.0  0.0  1.0  0.0  \n",
       "2    0.0  ...  1.0  0.0  0.0  0.0  0.0  1.0  0.0  0.0  0.0  0.0  \n",
       "3    0.0  ...  1.0  0.0  0.0  0.0  0.0  1.0  0.0  0.0  0.0  0.0  \n",
       "4    0.0  ...  1.0  0.0  0.0  0.0  0.0  1.0  0.0  0.0  0.0  0.0  \n",
       "..   ...  ...  ...  ...  ...  ...  ...  ...  ...  ...  ...  ...  \n",
       "138  0.0  ...  1.0  0.0  0.0  0.0  0.0  1.0  0.0  0.0  0.0  0.0  \n",
       "139  0.0  ...  1.0  0.0  0.0  0.0  0.0  1.0  0.0  0.0  0.0  0.0  \n",
       "140  0.0  ...  1.0  0.0  0.0  0.0  0.0  1.0  0.0  0.0  0.0  0.0  \n",
       "141  0.0  ...  0.0  0.0  1.0  0.0  0.0  0.0  1.0  0.0  0.0  0.0  \n",
       "142  0.0  ...  0.0  0.0  1.0  0.0  0.0  0.0  1.0  0.0  0.0  0.0  \n",
       "\n",
       "[143 rows x 23 columns]"
      ]
     },
     "execution_count": 206,
     "metadata": {},
     "output_type": "execute_result"
    }
   ],
   "source": [
    "X"
   ]
  },
  {
   "cell_type": "code",
   "execution_count": 207,
   "metadata": {},
   "outputs": [],
   "source": [
    "from sklearn.pipeline import Pipeline, make_pipeline"
   ]
  },
  {
   "cell_type": "code",
   "execution_count": 208,
   "metadata": {},
   "outputs": [],
   "source": [
    "X.columns = X.columns.astype(str)"
   ]
  },
  {
   "cell_type": "code",
   "execution_count": 209,
   "metadata": {},
   "outputs": [
    {
     "name": "stdout",
     "output_type": "stream",
     "text": [
      "Inertia: [727.6174386762239, 579.9373205565967, 491.8872875360076]\n",
      "Silhouette scores: [0.18752181072292615, 0.21025450540283178, 0.2328687470289819]\n"
     ]
    }
   ],
   "source": [
    "n_clusters = range(2,15)\n",
    "inertia_errors=[]\n",
    "silhouette_scores = []\n",
    "for k in n_clusters:\n",
    "    model = make_pipeline(KMeans(n_clusters=k,n_init = 2, random_state=42))\n",
    "    model.fit(X)\n",
    "    inertia_errors.append(model.named_steps['kmeans'].inertia_)\n",
    "    silhouette_scores.append(silhouette_score(X,model.named_steps['kmeans'].labels_))\n",
    "print(\"Inertia:\", inertia_errors[:3])\n",
    "print(\"Silhouette scores:\",silhouette_scores[:3])\n"
   ]
  },
  {
   "cell_type": "code",
   "execution_count": 210,
   "metadata": {},
   "outputs": [],
   "source": [
    "import plotly.express as px"
   ]
  },
  {
   "cell_type": "code",
   "execution_count": 211,
   "metadata": {},
   "outputs": [],
   "source": [
    "fig = px.line(x = n_clusters, y= inertia_errors, title = 'KMeans Model:Inertia vs Number of Clusters')"
   ]
  },
  {
   "cell_type": "code",
   "execution_count": 212,
   "metadata": {},
   "outputs": [
    {
     "data": {
      "application/vnd.plotly.v1+json": {
       "config": {
        "plotlyServerURL": "https://plot.ly"
       },
       "data": [
        {
         "hovertemplate": "x=%{x}<br>y=%{y}<extra></extra>",
         "legendgroup": "",
         "line": {
          "color": "#636efa",
          "dash": "solid"
         },
         "marker": {
          "symbol": "circle"
         },
         "mode": "lines",
         "name": "",
         "orientation": "v",
         "showlegend": false,
         "type": "scatter",
         "x": [
          2,
          3,
          4,
          5,
          6,
          7,
          8,
          9,
          10,
          11,
          12,
          13,
          14
         ],
         "xaxis": "x",
         "y": [
          727.6174386762239,
          579.9373205565967,
          491.8872875360076,
          432.9438733699694,
          415.0495267909346,
          396.61167911527315,
          355.06184513979065,
          338.9917911776479,
          321.3900826447132,
          294.8381893089122,
          275.2483536617297,
          259.09344432710003,
          239.95629939690681
         ],
         "yaxis": "y"
        }
       ],
       "layout": {
        "legend": {
         "tracegroupgap": 0
        },
        "template": {
         "data": {
          "bar": [
           {
            "error_x": {
             "color": "#2a3f5f"
            },
            "error_y": {
             "color": "#2a3f5f"
            },
            "marker": {
             "line": {
              "color": "#E5ECF6",
              "width": 0.5
             },
             "pattern": {
              "fillmode": "overlay",
              "size": 10,
              "solidity": 0.2
             }
            },
            "type": "bar"
           }
          ],
          "barpolar": [
           {
            "marker": {
             "line": {
              "color": "#E5ECF6",
              "width": 0.5
             },
             "pattern": {
              "fillmode": "overlay",
              "size": 10,
              "solidity": 0.2
             }
            },
            "type": "barpolar"
           }
          ],
          "carpet": [
           {
            "aaxis": {
             "endlinecolor": "#2a3f5f",
             "gridcolor": "white",
             "linecolor": "white",
             "minorgridcolor": "white",
             "startlinecolor": "#2a3f5f"
            },
            "baxis": {
             "endlinecolor": "#2a3f5f",
             "gridcolor": "white",
             "linecolor": "white",
             "minorgridcolor": "white",
             "startlinecolor": "#2a3f5f"
            },
            "type": "carpet"
           }
          ],
          "choropleth": [
           {
            "colorbar": {
             "outlinewidth": 0,
             "ticks": ""
            },
            "type": "choropleth"
           }
          ],
          "contour": [
           {
            "colorbar": {
             "outlinewidth": 0,
             "ticks": ""
            },
            "colorscale": [
             [
              0,
              "#0d0887"
             ],
             [
              0.1111111111111111,
              "#46039f"
             ],
             [
              0.2222222222222222,
              "#7201a8"
             ],
             [
              0.3333333333333333,
              "#9c179e"
             ],
             [
              0.4444444444444444,
              "#bd3786"
             ],
             [
              0.5555555555555556,
              "#d8576b"
             ],
             [
              0.6666666666666666,
              "#ed7953"
             ],
             [
              0.7777777777777778,
              "#fb9f3a"
             ],
             [
              0.8888888888888888,
              "#fdca26"
             ],
             [
              1,
              "#f0f921"
             ]
            ],
            "type": "contour"
           }
          ],
          "contourcarpet": [
           {
            "colorbar": {
             "outlinewidth": 0,
             "ticks": ""
            },
            "type": "contourcarpet"
           }
          ],
          "heatmap": [
           {
            "colorbar": {
             "outlinewidth": 0,
             "ticks": ""
            },
            "colorscale": [
             [
              0,
              "#0d0887"
             ],
             [
              0.1111111111111111,
              "#46039f"
             ],
             [
              0.2222222222222222,
              "#7201a8"
             ],
             [
              0.3333333333333333,
              "#9c179e"
             ],
             [
              0.4444444444444444,
              "#bd3786"
             ],
             [
              0.5555555555555556,
              "#d8576b"
             ],
             [
              0.6666666666666666,
              "#ed7953"
             ],
             [
              0.7777777777777778,
              "#fb9f3a"
             ],
             [
              0.8888888888888888,
              "#fdca26"
             ],
             [
              1,
              "#f0f921"
             ]
            ],
            "type": "heatmap"
           }
          ],
          "heatmapgl": [
           {
            "colorbar": {
             "outlinewidth": 0,
             "ticks": ""
            },
            "colorscale": [
             [
              0,
              "#0d0887"
             ],
             [
              0.1111111111111111,
              "#46039f"
             ],
             [
              0.2222222222222222,
              "#7201a8"
             ],
             [
              0.3333333333333333,
              "#9c179e"
             ],
             [
              0.4444444444444444,
              "#bd3786"
             ],
             [
              0.5555555555555556,
              "#d8576b"
             ],
             [
              0.6666666666666666,
              "#ed7953"
             ],
             [
              0.7777777777777778,
              "#fb9f3a"
             ],
             [
              0.8888888888888888,
              "#fdca26"
             ],
             [
              1,
              "#f0f921"
             ]
            ],
            "type": "heatmapgl"
           }
          ],
          "histogram": [
           {
            "marker": {
             "pattern": {
              "fillmode": "overlay",
              "size": 10,
              "solidity": 0.2
             }
            },
            "type": "histogram"
           }
          ],
          "histogram2d": [
           {
            "colorbar": {
             "outlinewidth": 0,
             "ticks": ""
            },
            "colorscale": [
             [
              0,
              "#0d0887"
             ],
             [
              0.1111111111111111,
              "#46039f"
             ],
             [
              0.2222222222222222,
              "#7201a8"
             ],
             [
              0.3333333333333333,
              "#9c179e"
             ],
             [
              0.4444444444444444,
              "#bd3786"
             ],
             [
              0.5555555555555556,
              "#d8576b"
             ],
             [
              0.6666666666666666,
              "#ed7953"
             ],
             [
              0.7777777777777778,
              "#fb9f3a"
             ],
             [
              0.8888888888888888,
              "#fdca26"
             ],
             [
              1,
              "#f0f921"
             ]
            ],
            "type": "histogram2d"
           }
          ],
          "histogram2dcontour": [
           {
            "colorbar": {
             "outlinewidth": 0,
             "ticks": ""
            },
            "colorscale": [
             [
              0,
              "#0d0887"
             ],
             [
              0.1111111111111111,
              "#46039f"
             ],
             [
              0.2222222222222222,
              "#7201a8"
             ],
             [
              0.3333333333333333,
              "#9c179e"
             ],
             [
              0.4444444444444444,
              "#bd3786"
             ],
             [
              0.5555555555555556,
              "#d8576b"
             ],
             [
              0.6666666666666666,
              "#ed7953"
             ],
             [
              0.7777777777777778,
              "#fb9f3a"
             ],
             [
              0.8888888888888888,
              "#fdca26"
             ],
             [
              1,
              "#f0f921"
             ]
            ],
            "type": "histogram2dcontour"
           }
          ],
          "mesh3d": [
           {
            "colorbar": {
             "outlinewidth": 0,
             "ticks": ""
            },
            "type": "mesh3d"
           }
          ],
          "parcoords": [
           {
            "line": {
             "colorbar": {
              "outlinewidth": 0,
              "ticks": ""
             }
            },
            "type": "parcoords"
           }
          ],
          "pie": [
           {
            "automargin": true,
            "type": "pie"
           }
          ],
          "scatter": [
           {
            "fillpattern": {
             "fillmode": "overlay",
             "size": 10,
             "solidity": 0.2
            },
            "type": "scatter"
           }
          ],
          "scatter3d": [
           {
            "line": {
             "colorbar": {
              "outlinewidth": 0,
              "ticks": ""
             }
            },
            "marker": {
             "colorbar": {
              "outlinewidth": 0,
              "ticks": ""
             }
            },
            "type": "scatter3d"
           }
          ],
          "scattercarpet": [
           {
            "marker": {
             "colorbar": {
              "outlinewidth": 0,
              "ticks": ""
             }
            },
            "type": "scattercarpet"
           }
          ],
          "scattergeo": [
           {
            "marker": {
             "colorbar": {
              "outlinewidth": 0,
              "ticks": ""
             }
            },
            "type": "scattergeo"
           }
          ],
          "scattergl": [
           {
            "marker": {
             "colorbar": {
              "outlinewidth": 0,
              "ticks": ""
             }
            },
            "type": "scattergl"
           }
          ],
          "scattermapbox": [
           {
            "marker": {
             "colorbar": {
              "outlinewidth": 0,
              "ticks": ""
             }
            },
            "type": "scattermapbox"
           }
          ],
          "scatterpolar": [
           {
            "marker": {
             "colorbar": {
              "outlinewidth": 0,
              "ticks": ""
             }
            },
            "type": "scatterpolar"
           }
          ],
          "scatterpolargl": [
           {
            "marker": {
             "colorbar": {
              "outlinewidth": 0,
              "ticks": ""
             }
            },
            "type": "scatterpolargl"
           }
          ],
          "scatterternary": [
           {
            "marker": {
             "colorbar": {
              "outlinewidth": 0,
              "ticks": ""
             }
            },
            "type": "scatterternary"
           }
          ],
          "surface": [
           {
            "colorbar": {
             "outlinewidth": 0,
             "ticks": ""
            },
            "colorscale": [
             [
              0,
              "#0d0887"
             ],
             [
              0.1111111111111111,
              "#46039f"
             ],
             [
              0.2222222222222222,
              "#7201a8"
             ],
             [
              0.3333333333333333,
              "#9c179e"
             ],
             [
              0.4444444444444444,
              "#bd3786"
             ],
             [
              0.5555555555555556,
              "#d8576b"
             ],
             [
              0.6666666666666666,
              "#ed7953"
             ],
             [
              0.7777777777777778,
              "#fb9f3a"
             ],
             [
              0.8888888888888888,
              "#fdca26"
             ],
             [
              1,
              "#f0f921"
             ]
            ],
            "type": "surface"
           }
          ],
          "table": [
           {
            "cells": {
             "fill": {
              "color": "#EBF0F8"
             },
             "line": {
              "color": "white"
             }
            },
            "header": {
             "fill": {
              "color": "#C8D4E3"
             },
             "line": {
              "color": "white"
             }
            },
            "type": "table"
           }
          ]
         },
         "layout": {
          "annotationdefaults": {
           "arrowcolor": "#2a3f5f",
           "arrowhead": 0,
           "arrowwidth": 1
          },
          "autotypenumbers": "strict",
          "coloraxis": {
           "colorbar": {
            "outlinewidth": 0,
            "ticks": ""
           }
          },
          "colorscale": {
           "diverging": [
            [
             0,
             "#8e0152"
            ],
            [
             0.1,
             "#c51b7d"
            ],
            [
             0.2,
             "#de77ae"
            ],
            [
             0.3,
             "#f1b6da"
            ],
            [
             0.4,
             "#fde0ef"
            ],
            [
             0.5,
             "#f7f7f7"
            ],
            [
             0.6,
             "#e6f5d0"
            ],
            [
             0.7,
             "#b8e186"
            ],
            [
             0.8,
             "#7fbc41"
            ],
            [
             0.9,
             "#4d9221"
            ],
            [
             1,
             "#276419"
            ]
           ],
           "sequential": [
            [
             0,
             "#0d0887"
            ],
            [
             0.1111111111111111,
             "#46039f"
            ],
            [
             0.2222222222222222,
             "#7201a8"
            ],
            [
             0.3333333333333333,
             "#9c179e"
            ],
            [
             0.4444444444444444,
             "#bd3786"
            ],
            [
             0.5555555555555556,
             "#d8576b"
            ],
            [
             0.6666666666666666,
             "#ed7953"
            ],
            [
             0.7777777777777778,
             "#fb9f3a"
            ],
            [
             0.8888888888888888,
             "#fdca26"
            ],
            [
             1,
             "#f0f921"
            ]
           ],
           "sequentialminus": [
            [
             0,
             "#0d0887"
            ],
            [
             0.1111111111111111,
             "#46039f"
            ],
            [
             0.2222222222222222,
             "#7201a8"
            ],
            [
             0.3333333333333333,
             "#9c179e"
            ],
            [
             0.4444444444444444,
             "#bd3786"
            ],
            [
             0.5555555555555556,
             "#d8576b"
            ],
            [
             0.6666666666666666,
             "#ed7953"
            ],
            [
             0.7777777777777778,
             "#fb9f3a"
            ],
            [
             0.8888888888888888,
             "#fdca26"
            ],
            [
             1,
             "#f0f921"
            ]
           ]
          },
          "colorway": [
           "#636efa",
           "#EF553B",
           "#00cc96",
           "#ab63fa",
           "#FFA15A",
           "#19d3f3",
           "#FF6692",
           "#B6E880",
           "#FF97FF",
           "#FECB52"
          ],
          "font": {
           "color": "#2a3f5f"
          },
          "geo": {
           "bgcolor": "white",
           "lakecolor": "white",
           "landcolor": "#E5ECF6",
           "showlakes": true,
           "showland": true,
           "subunitcolor": "white"
          },
          "hoverlabel": {
           "align": "left"
          },
          "hovermode": "closest",
          "mapbox": {
           "style": "light"
          },
          "paper_bgcolor": "white",
          "plot_bgcolor": "#E5ECF6",
          "polar": {
           "angularaxis": {
            "gridcolor": "white",
            "linecolor": "white",
            "ticks": ""
           },
           "bgcolor": "#E5ECF6",
           "radialaxis": {
            "gridcolor": "white",
            "linecolor": "white",
            "ticks": ""
           }
          },
          "scene": {
           "xaxis": {
            "backgroundcolor": "#E5ECF6",
            "gridcolor": "white",
            "gridwidth": 2,
            "linecolor": "white",
            "showbackground": true,
            "ticks": "",
            "zerolinecolor": "white"
           },
           "yaxis": {
            "backgroundcolor": "#E5ECF6",
            "gridcolor": "white",
            "gridwidth": 2,
            "linecolor": "white",
            "showbackground": true,
            "ticks": "",
            "zerolinecolor": "white"
           },
           "zaxis": {
            "backgroundcolor": "#E5ECF6",
            "gridcolor": "white",
            "gridwidth": 2,
            "linecolor": "white",
            "showbackground": true,
            "ticks": "",
            "zerolinecolor": "white"
           }
          },
          "shapedefaults": {
           "line": {
            "color": "#2a3f5f"
           }
          },
          "ternary": {
           "aaxis": {
            "gridcolor": "white",
            "linecolor": "white",
            "ticks": ""
           },
           "baxis": {
            "gridcolor": "white",
            "linecolor": "white",
            "ticks": ""
           },
           "bgcolor": "#E5ECF6",
           "caxis": {
            "gridcolor": "white",
            "linecolor": "white",
            "ticks": ""
           }
          },
          "title": {
           "x": 0.05
          },
          "xaxis": {
           "automargin": true,
           "gridcolor": "white",
           "linecolor": "white",
           "ticks": "",
           "title": {
            "standoff": 15
           },
           "zerolinecolor": "white",
           "zerolinewidth": 2
          },
          "yaxis": {
           "automargin": true,
           "gridcolor": "white",
           "linecolor": "white",
           "ticks": "",
           "title": {
            "standoff": 15
           },
           "zerolinecolor": "white",
           "zerolinewidth": 2
          }
         }
        },
        "title": {
         "text": "KMeans Model:Inertia vs Number of Clusters"
        },
        "xaxis": {
         "anchor": "y",
         "domain": [
          0,
          1
         ],
         "title": {
          "text": "Number of cluster (k)"
         }
        },
        "yaxis": {
         "anchor": "x",
         "domain": [
          0,
          1
         ],
         "title": {
          "text": "Inertia"
         }
        }
       }
      },
      "text/html": [
       "<div>                            <div id=\"70fe21da-a510-4212-8882-31b9a4ed921b\" class=\"plotly-graph-div\" style=\"height:525px; width:100%;\"></div>            <script type=\"text/javascript\">                require([\"plotly\"], function(Plotly) {                    window.PLOTLYENV=window.PLOTLYENV || {};                                    if (document.getElementById(\"70fe21da-a510-4212-8882-31b9a4ed921b\")) {                    Plotly.newPlot(                        \"70fe21da-a510-4212-8882-31b9a4ed921b\",                        [{\"hovertemplate\":\"x=%{x}<br>y=%{y}<extra></extra>\",\"legendgroup\":\"\",\"line\":{\"color\":\"#636efa\",\"dash\":\"solid\"},\"marker\":{\"symbol\":\"circle\"},\"mode\":\"lines\",\"name\":\"\",\"orientation\":\"v\",\"showlegend\":false,\"x\":[2,3,4,5,6,7,8,9,10,11,12,13,14],\"xaxis\":\"x\",\"y\":[727.6174386762239,579.9373205565967,491.8872875360076,432.9438733699694,415.0495267909346,396.61167911527315,355.06184513979065,338.9917911776479,321.3900826447132,294.8381893089122,275.2483536617297,259.09344432710003,239.95629939690681],\"yaxis\":\"y\",\"type\":\"scatter\"}],                        {\"template\":{\"data\":{\"histogram2dcontour\":[{\"type\":\"histogram2dcontour\",\"colorbar\":{\"outlinewidth\":0,\"ticks\":\"\"},\"colorscale\":[[0.0,\"#0d0887\"],[0.1111111111111111,\"#46039f\"],[0.2222222222222222,\"#7201a8\"],[0.3333333333333333,\"#9c179e\"],[0.4444444444444444,\"#bd3786\"],[0.5555555555555556,\"#d8576b\"],[0.6666666666666666,\"#ed7953\"],[0.7777777777777778,\"#fb9f3a\"],[0.8888888888888888,\"#fdca26\"],[1.0,\"#f0f921\"]]}],\"choropleth\":[{\"type\":\"choropleth\",\"colorbar\":{\"outlinewidth\":0,\"ticks\":\"\"}}],\"histogram2d\":[{\"type\":\"histogram2d\",\"colorbar\":{\"outlinewidth\":0,\"ticks\":\"\"},\"colorscale\":[[0.0,\"#0d0887\"],[0.1111111111111111,\"#46039f\"],[0.2222222222222222,\"#7201a8\"],[0.3333333333333333,\"#9c179e\"],[0.4444444444444444,\"#bd3786\"],[0.5555555555555556,\"#d8576b\"],[0.6666666666666666,\"#ed7953\"],[0.7777777777777778,\"#fb9f3a\"],[0.8888888888888888,\"#fdca26\"],[1.0,\"#f0f921\"]]}],\"heatmap\":[{\"type\":\"heatmap\",\"colorbar\":{\"outlinewidth\":0,\"ticks\":\"\"},\"colorscale\":[[0.0,\"#0d0887\"],[0.1111111111111111,\"#46039f\"],[0.2222222222222222,\"#7201a8\"],[0.3333333333333333,\"#9c179e\"],[0.4444444444444444,\"#bd3786\"],[0.5555555555555556,\"#d8576b\"],[0.6666666666666666,\"#ed7953\"],[0.7777777777777778,\"#fb9f3a\"],[0.8888888888888888,\"#fdca26\"],[1.0,\"#f0f921\"]]}],\"heatmapgl\":[{\"type\":\"heatmapgl\",\"colorbar\":{\"outlinewidth\":0,\"ticks\":\"\"},\"colorscale\":[[0.0,\"#0d0887\"],[0.1111111111111111,\"#46039f\"],[0.2222222222222222,\"#7201a8\"],[0.3333333333333333,\"#9c179e\"],[0.4444444444444444,\"#bd3786\"],[0.5555555555555556,\"#d8576b\"],[0.6666666666666666,\"#ed7953\"],[0.7777777777777778,\"#fb9f3a\"],[0.8888888888888888,\"#fdca26\"],[1.0,\"#f0f921\"]]}],\"contourcarpet\":[{\"type\":\"contourcarpet\",\"colorbar\":{\"outlinewidth\":0,\"ticks\":\"\"}}],\"contour\":[{\"type\":\"contour\",\"colorbar\":{\"outlinewidth\":0,\"ticks\":\"\"},\"colorscale\":[[0.0,\"#0d0887\"],[0.1111111111111111,\"#46039f\"],[0.2222222222222222,\"#7201a8\"],[0.3333333333333333,\"#9c179e\"],[0.4444444444444444,\"#bd3786\"],[0.5555555555555556,\"#d8576b\"],[0.6666666666666666,\"#ed7953\"],[0.7777777777777778,\"#fb9f3a\"],[0.8888888888888888,\"#fdca26\"],[1.0,\"#f0f921\"]]}],\"surface\":[{\"type\":\"surface\",\"colorbar\":{\"outlinewidth\":0,\"ticks\":\"\"},\"colorscale\":[[0.0,\"#0d0887\"],[0.1111111111111111,\"#46039f\"],[0.2222222222222222,\"#7201a8\"],[0.3333333333333333,\"#9c179e\"],[0.4444444444444444,\"#bd3786\"],[0.5555555555555556,\"#d8576b\"],[0.6666666666666666,\"#ed7953\"],[0.7777777777777778,\"#fb9f3a\"],[0.8888888888888888,\"#fdca26\"],[1.0,\"#f0f921\"]]}],\"mesh3d\":[{\"type\":\"mesh3d\",\"colorbar\":{\"outlinewidth\":0,\"ticks\":\"\"}}],\"scatter\":[{\"fillpattern\":{\"fillmode\":\"overlay\",\"size\":10,\"solidity\":0.2},\"type\":\"scatter\"}],\"parcoords\":[{\"type\":\"parcoords\",\"line\":{\"colorbar\":{\"outlinewidth\":0,\"ticks\":\"\"}}}],\"scatterpolargl\":[{\"type\":\"scatterpolargl\",\"marker\":{\"colorbar\":{\"outlinewidth\":0,\"ticks\":\"\"}}}],\"bar\":[{\"error_x\":{\"color\":\"#2a3f5f\"},\"error_y\":{\"color\":\"#2a3f5f\"},\"marker\":{\"line\":{\"color\":\"#E5ECF6\",\"width\":0.5},\"pattern\":{\"fillmode\":\"overlay\",\"size\":10,\"solidity\":0.2}},\"type\":\"bar\"}],\"scattergeo\":[{\"type\":\"scattergeo\",\"marker\":{\"colorbar\":{\"outlinewidth\":0,\"ticks\":\"\"}}}],\"scatterpolar\":[{\"type\":\"scatterpolar\",\"marker\":{\"colorbar\":{\"outlinewidth\":0,\"ticks\":\"\"}}}],\"histogram\":[{\"marker\":{\"pattern\":{\"fillmode\":\"overlay\",\"size\":10,\"solidity\":0.2}},\"type\":\"histogram\"}],\"scattergl\":[{\"type\":\"scattergl\",\"marker\":{\"colorbar\":{\"outlinewidth\":0,\"ticks\":\"\"}}}],\"scatter3d\":[{\"type\":\"scatter3d\",\"line\":{\"colorbar\":{\"outlinewidth\":0,\"ticks\":\"\"}},\"marker\":{\"colorbar\":{\"outlinewidth\":0,\"ticks\":\"\"}}}],\"scattermapbox\":[{\"type\":\"scattermapbox\",\"marker\":{\"colorbar\":{\"outlinewidth\":0,\"ticks\":\"\"}}}],\"scatterternary\":[{\"type\":\"scatterternary\",\"marker\":{\"colorbar\":{\"outlinewidth\":0,\"ticks\":\"\"}}}],\"scattercarpet\":[{\"type\":\"scattercarpet\",\"marker\":{\"colorbar\":{\"outlinewidth\":0,\"ticks\":\"\"}}}],\"carpet\":[{\"aaxis\":{\"endlinecolor\":\"#2a3f5f\",\"gridcolor\":\"white\",\"linecolor\":\"white\",\"minorgridcolor\":\"white\",\"startlinecolor\":\"#2a3f5f\"},\"baxis\":{\"endlinecolor\":\"#2a3f5f\",\"gridcolor\":\"white\",\"linecolor\":\"white\",\"minorgridcolor\":\"white\",\"startlinecolor\":\"#2a3f5f\"},\"type\":\"carpet\"}],\"table\":[{\"cells\":{\"fill\":{\"color\":\"#EBF0F8\"},\"line\":{\"color\":\"white\"}},\"header\":{\"fill\":{\"color\":\"#C8D4E3\"},\"line\":{\"color\":\"white\"}},\"type\":\"table\"}],\"barpolar\":[{\"marker\":{\"line\":{\"color\":\"#E5ECF6\",\"width\":0.5},\"pattern\":{\"fillmode\":\"overlay\",\"size\":10,\"solidity\":0.2}},\"type\":\"barpolar\"}],\"pie\":[{\"automargin\":true,\"type\":\"pie\"}]},\"layout\":{\"autotypenumbers\":\"strict\",\"colorway\":[\"#636efa\",\"#EF553B\",\"#00cc96\",\"#ab63fa\",\"#FFA15A\",\"#19d3f3\",\"#FF6692\",\"#B6E880\",\"#FF97FF\",\"#FECB52\"],\"font\":{\"color\":\"#2a3f5f\"},\"hovermode\":\"closest\",\"hoverlabel\":{\"align\":\"left\"},\"paper_bgcolor\":\"white\",\"plot_bgcolor\":\"#E5ECF6\",\"polar\":{\"bgcolor\":\"#E5ECF6\",\"angularaxis\":{\"gridcolor\":\"white\",\"linecolor\":\"white\",\"ticks\":\"\"},\"radialaxis\":{\"gridcolor\":\"white\",\"linecolor\":\"white\",\"ticks\":\"\"}},\"ternary\":{\"bgcolor\":\"#E5ECF6\",\"aaxis\":{\"gridcolor\":\"white\",\"linecolor\":\"white\",\"ticks\":\"\"},\"baxis\":{\"gridcolor\":\"white\",\"linecolor\":\"white\",\"ticks\":\"\"},\"caxis\":{\"gridcolor\":\"white\",\"linecolor\":\"white\",\"ticks\":\"\"}},\"coloraxis\":{\"colorbar\":{\"outlinewidth\":0,\"ticks\":\"\"}},\"colorscale\":{\"sequential\":[[0.0,\"#0d0887\"],[0.1111111111111111,\"#46039f\"],[0.2222222222222222,\"#7201a8\"],[0.3333333333333333,\"#9c179e\"],[0.4444444444444444,\"#bd3786\"],[0.5555555555555556,\"#d8576b\"],[0.6666666666666666,\"#ed7953\"],[0.7777777777777778,\"#fb9f3a\"],[0.8888888888888888,\"#fdca26\"],[1.0,\"#f0f921\"]],\"sequentialminus\":[[0.0,\"#0d0887\"],[0.1111111111111111,\"#46039f\"],[0.2222222222222222,\"#7201a8\"],[0.3333333333333333,\"#9c179e\"],[0.4444444444444444,\"#bd3786\"],[0.5555555555555556,\"#d8576b\"],[0.6666666666666666,\"#ed7953\"],[0.7777777777777778,\"#fb9f3a\"],[0.8888888888888888,\"#fdca26\"],[1.0,\"#f0f921\"]],\"diverging\":[[0,\"#8e0152\"],[0.1,\"#c51b7d\"],[0.2,\"#de77ae\"],[0.3,\"#f1b6da\"],[0.4,\"#fde0ef\"],[0.5,\"#f7f7f7\"],[0.6,\"#e6f5d0\"],[0.7,\"#b8e186\"],[0.8,\"#7fbc41\"],[0.9,\"#4d9221\"],[1,\"#276419\"]]},\"xaxis\":{\"gridcolor\":\"white\",\"linecolor\":\"white\",\"ticks\":\"\",\"title\":{\"standoff\":15},\"zerolinecolor\":\"white\",\"automargin\":true,\"zerolinewidth\":2},\"yaxis\":{\"gridcolor\":\"white\",\"linecolor\":\"white\",\"ticks\":\"\",\"title\":{\"standoff\":15},\"zerolinecolor\":\"white\",\"automargin\":true,\"zerolinewidth\":2},\"scene\":{\"xaxis\":{\"backgroundcolor\":\"#E5ECF6\",\"gridcolor\":\"white\",\"linecolor\":\"white\",\"showbackground\":true,\"ticks\":\"\",\"zerolinecolor\":\"white\",\"gridwidth\":2},\"yaxis\":{\"backgroundcolor\":\"#E5ECF6\",\"gridcolor\":\"white\",\"linecolor\":\"white\",\"showbackground\":true,\"ticks\":\"\",\"zerolinecolor\":\"white\",\"gridwidth\":2},\"zaxis\":{\"backgroundcolor\":\"#E5ECF6\",\"gridcolor\":\"white\",\"linecolor\":\"white\",\"showbackground\":true,\"ticks\":\"\",\"zerolinecolor\":\"white\",\"gridwidth\":2}},\"shapedefaults\":{\"line\":{\"color\":\"#2a3f5f\"}},\"annotationdefaults\":{\"arrowcolor\":\"#2a3f5f\",\"arrowhead\":0,\"arrowwidth\":1},\"geo\":{\"bgcolor\":\"white\",\"landcolor\":\"#E5ECF6\",\"subunitcolor\":\"white\",\"showland\":true,\"showlakes\":true,\"lakecolor\":\"white\"},\"title\":{\"x\":0.05},\"mapbox\":{\"style\":\"light\"}}},\"xaxis\":{\"anchor\":\"y\",\"domain\":[0.0,1.0],\"title\":{\"text\":\"Number of cluster (k)\"}},\"yaxis\":{\"anchor\":\"x\",\"domain\":[0.0,1.0],\"title\":{\"text\":\"Inertia\"}},\"legend\":{\"tracegroupgap\":0},\"title\":{\"text\":\"KMeans Model:Inertia vs Number of Clusters\"}},                        {\"responsive\": true}                    ).then(function(){\n",
       "                            \n",
       "var gd = document.getElementById('70fe21da-a510-4212-8882-31b9a4ed921b');\n",
       "var x = new MutationObserver(function (mutations, observer) {{\n",
       "        var display = window.getComputedStyle(gd).display;\n",
       "        if (!display || display === 'none') {{\n",
       "            console.log([gd, 'removed!']);\n",
       "            Plotly.purge(gd);\n",
       "            observer.disconnect();\n",
       "        }}\n",
       "}});\n",
       "\n",
       "// Listen for the removal of the full notebook cells\n",
       "var notebookContainer = gd.closest('#notebook-container');\n",
       "if (notebookContainer) {{\n",
       "    x.observe(notebookContainer, {childList: true});\n",
       "}}\n",
       "\n",
       "// Listen for the clearing of the current output cell\n",
       "var outputEl = gd.closest('.output');\n",
       "if (outputEl) {{\n",
       "    x.observe(outputEl, {childList: true});\n",
       "}}\n",
       "\n",
       "                        })                };                });            </script>        </div>"
      ]
     },
     "metadata": {},
     "output_type": "display_data"
    }
   ],
   "source": [
    "fig.update_layout(xaxis_title = 'Number of cluster (k)',yaxis_title = 'Inertia')\n",
    "fig.show()"
   ]
  },
  {
   "cell_type": "code",
   "execution_count": 213,
   "metadata": {},
   "outputs": [],
   "source": [
    "final_model = make_pipeline(KMeans(n_clusters=5, random_state=42))\n",
    "final_model.fit(X)\n",
    "labels = final_model.named_steps['kmeans'].labels_"
   ]
  },
  {
   "cell_type": "code",
   "execution_count": 214,
   "metadata": {},
   "outputs": [],
   "source": [
    "labels = pd.DataFrame(labels)"
   ]
  },
  {
   "cell_type": "code",
   "execution_count": 215,
   "metadata": {},
   "outputs": [],
   "source": [
    "df_fin = pd.concat([dfn,labels],axis=1)"
   ]
  },
  {
   "cell_type": "code",
   "execution_count": 216,
   "metadata": {},
   "outputs": [],
   "source": [
    "df_fin.rename(columns={0:'labels'},inplace=True)"
   ]
  },
  {
   "cell_type": "code",
   "execution_count": 217,
   "metadata": {
    "scrolled": false
   },
   "outputs": [],
   "source": [
    "avg_price=df_fin.groupby(['labels']).mean()"
   ]
  },
  {
   "cell_type": "code",
   "execution_count": 218,
   "metadata": {},
   "outputs": [
    {
     "data": {
      "text/html": [
       "<div>\n",
       "<style scoped>\n",
       "    .dataframe tbody tr th:only-of-type {\n",
       "        vertical-align: middle;\n",
       "    }\n",
       "\n",
       "    .dataframe tbody tr th {\n",
       "        vertical-align: top;\n",
       "    }\n",
       "\n",
       "    .dataframe thead th {\n",
       "        text-align: right;\n",
       "    }\n",
       "</style>\n",
       "<table border=\"1\" class=\"dataframe\">\n",
       "  <thead>\n",
       "    <tr style=\"text-align: right;\">\n",
       "      <th></th>\n",
       "      <th>id</th>\n",
       "      <th>flip</th>\n",
       "      <th>touchscreen</th>\n",
       "      <th>ram</th>\n",
       "      <th>ssd</th>\n",
       "      <th>hdd</th>\n",
       "      <th>spec</th>\n",
       "      <th>screen</th>\n",
       "      <th>price</th>\n",
       "      <th>pricecash</th>\n",
       "      <th>pricemonthly</th>\n",
       "    </tr>\n",
       "    <tr>\n",
       "      <th>labels</th>\n",
       "      <th></th>\n",
       "      <th></th>\n",
       "      <th></th>\n",
       "      <th></th>\n",
       "      <th></th>\n",
       "      <th></th>\n",
       "      <th></th>\n",
       "      <th></th>\n",
       "      <th></th>\n",
       "      <th></th>\n",
       "      <th></th>\n",
       "    </tr>\n",
       "  </thead>\n",
       "  <tbody>\n",
       "    <tr>\n",
       "      <th>0</th>\n",
       "      <td>77.814815</td>\n",
       "      <td>0.148148</td>\n",
       "      <td>0.259259</td>\n",
       "      <td>8.444444</td>\n",
       "      <td>317.629630</td>\n",
       "      <td>0.0</td>\n",
       "      <td>1.0</td>\n",
       "      <td>13.844444</td>\n",
       "      <td>324248.148148</td>\n",
       "      <td>302259.259259</td>\n",
       "      <td>16692.592593</td>\n",
       "    </tr>\n",
       "    <tr>\n",
       "      <th>1</th>\n",
       "      <td>61.840909</td>\n",
       "      <td>0.136364</td>\n",
       "      <td>0.204545</td>\n",
       "      <td>8.272727</td>\n",
       "      <td>253.090909</td>\n",
       "      <td>0.0</td>\n",
       "      <td>1.0</td>\n",
       "      <td>15.715909</td>\n",
       "      <td>297790.909091</td>\n",
       "      <td>276727.272727</td>\n",
       "      <td>15331.818182</td>\n",
       "    </tr>\n",
       "    <tr>\n",
       "      <th>2</th>\n",
       "      <td>90.428571</td>\n",
       "      <td>0.000000</td>\n",
       "      <td>0.380952</td>\n",
       "      <td>17.142857</td>\n",
       "      <td>487.619048</td>\n",
       "      <td>0.0</td>\n",
       "      <td>NaN</td>\n",
       "      <td>15.609524</td>\n",
       "      <td>346747.619048</td>\n",
       "      <td>321095.238095</td>\n",
       "      <td>17866.666667</td>\n",
       "    </tr>\n",
       "    <tr>\n",
       "      <th>3</th>\n",
       "      <td>77.000000</td>\n",
       "      <td>0.000000</td>\n",
       "      <td>0.166667</td>\n",
       "      <td>10.000000</td>\n",
       "      <td>128.000000</td>\n",
       "      <td>1.0</td>\n",
       "      <td>1.0</td>\n",
       "      <td>16.041667</td>\n",
       "      <td>316050.000000</td>\n",
       "      <td>296916.666667</td>\n",
       "      <td>16283.333333</td>\n",
       "    </tr>\n",
       "    <tr>\n",
       "      <th>4</th>\n",
       "      <td>89.974359</td>\n",
       "      <td>0.000000</td>\n",
       "      <td>0.000000</td>\n",
       "      <td>8.000000</td>\n",
       "      <td>512.000000</td>\n",
       "      <td>0.0</td>\n",
       "      <td>1.0</td>\n",
       "      <td>15.948718</td>\n",
       "      <td>343192.307692</td>\n",
       "      <td>320333.333333</td>\n",
       "      <td>17666.666667</td>\n",
       "    </tr>\n",
       "  </tbody>\n",
       "</table>\n",
       "</div>"
      ],
      "text/plain": [
       "               id      flip  touchscreen        ram         ssd  hdd  spec  \\\n",
       "labels                                                                       \n",
       "0       77.814815  0.148148     0.259259   8.444444  317.629630  0.0   1.0   \n",
       "1       61.840909  0.136364     0.204545   8.272727  253.090909  0.0   1.0   \n",
       "2       90.428571  0.000000     0.380952  17.142857  487.619048  0.0   NaN   \n",
       "3       77.000000  0.000000     0.166667  10.000000  128.000000  1.0   1.0   \n",
       "4       89.974359  0.000000     0.000000   8.000000  512.000000  0.0   1.0   \n",
       "\n",
       "           screen          price      pricecash  pricemonthly  \n",
       "labels                                                         \n",
       "0       13.844444  324248.148148  302259.259259  16692.592593  \n",
       "1       15.715909  297790.909091  276727.272727  15331.818182  \n",
       "2       15.609524  346747.619048  321095.238095  17866.666667  \n",
       "3       16.041667  316050.000000  296916.666667  16283.333333  \n",
       "4       15.948718  343192.307692  320333.333333  17666.666667  "
      ]
     },
     "execution_count": 218,
     "metadata": {},
     "output_type": "execute_result"
    }
   ],
   "source": [
    "avg_price"
   ]
  },
  {
   "cell_type": "code",
   "execution_count": 219,
   "metadata": {},
   "outputs": [
    {
     "data": {
      "application/vnd.plotly.v1+json": {
       "config": {
        "plotlyServerURL": "https://plot.ly"
       },
       "data": [
        {
         "alignmentgroup": "True",
         "hovertemplate": "x=%{x}<br>y=%{y}<extra></extra>",
         "legendgroup": "",
         "marker": {
          "color": "#636efa",
          "pattern": {
           "shape": ""
          }
         },
         "name": "",
         "offsetgroup": "",
         "orientation": "h",
         "showlegend": false,
         "textposition": "auto",
         "type": "bar",
         "x": [
          276727.2727272727,
          296916.6666666667,
          302259.25925925927,
          320333.3333333333,
          321095.2380952381
         ],
         "xaxis": "x",
         "y": [
          0,
          1,
          2,
          3,
          4
         ],
         "yaxis": "y"
        }
       ],
       "layout": {
        "barmode": "group",
        "legend": {
         "tracegroupgap": 0
        },
        "template": {
         "data": {
          "bar": [
           {
            "error_x": {
             "color": "#2a3f5f"
            },
            "error_y": {
             "color": "#2a3f5f"
            },
            "marker": {
             "line": {
              "color": "#E5ECF6",
              "width": 0.5
             },
             "pattern": {
              "fillmode": "overlay",
              "size": 10,
              "solidity": 0.2
             }
            },
            "type": "bar"
           }
          ],
          "barpolar": [
           {
            "marker": {
             "line": {
              "color": "#E5ECF6",
              "width": 0.5
             },
             "pattern": {
              "fillmode": "overlay",
              "size": 10,
              "solidity": 0.2
             }
            },
            "type": "barpolar"
           }
          ],
          "carpet": [
           {
            "aaxis": {
             "endlinecolor": "#2a3f5f",
             "gridcolor": "white",
             "linecolor": "white",
             "minorgridcolor": "white",
             "startlinecolor": "#2a3f5f"
            },
            "baxis": {
             "endlinecolor": "#2a3f5f",
             "gridcolor": "white",
             "linecolor": "white",
             "minorgridcolor": "white",
             "startlinecolor": "#2a3f5f"
            },
            "type": "carpet"
           }
          ],
          "choropleth": [
           {
            "colorbar": {
             "outlinewidth": 0,
             "ticks": ""
            },
            "type": "choropleth"
           }
          ],
          "contour": [
           {
            "colorbar": {
             "outlinewidth": 0,
             "ticks": ""
            },
            "colorscale": [
             [
              0,
              "#0d0887"
             ],
             [
              0.1111111111111111,
              "#46039f"
             ],
             [
              0.2222222222222222,
              "#7201a8"
             ],
             [
              0.3333333333333333,
              "#9c179e"
             ],
             [
              0.4444444444444444,
              "#bd3786"
             ],
             [
              0.5555555555555556,
              "#d8576b"
             ],
             [
              0.6666666666666666,
              "#ed7953"
             ],
             [
              0.7777777777777778,
              "#fb9f3a"
             ],
             [
              0.8888888888888888,
              "#fdca26"
             ],
             [
              1,
              "#f0f921"
             ]
            ],
            "type": "contour"
           }
          ],
          "contourcarpet": [
           {
            "colorbar": {
             "outlinewidth": 0,
             "ticks": ""
            },
            "type": "contourcarpet"
           }
          ],
          "heatmap": [
           {
            "colorbar": {
             "outlinewidth": 0,
             "ticks": ""
            },
            "colorscale": [
             [
              0,
              "#0d0887"
             ],
             [
              0.1111111111111111,
              "#46039f"
             ],
             [
              0.2222222222222222,
              "#7201a8"
             ],
             [
              0.3333333333333333,
              "#9c179e"
             ],
             [
              0.4444444444444444,
              "#bd3786"
             ],
             [
              0.5555555555555556,
              "#d8576b"
             ],
             [
              0.6666666666666666,
              "#ed7953"
             ],
             [
              0.7777777777777778,
              "#fb9f3a"
             ],
             [
              0.8888888888888888,
              "#fdca26"
             ],
             [
              1,
              "#f0f921"
             ]
            ],
            "type": "heatmap"
           }
          ],
          "heatmapgl": [
           {
            "colorbar": {
             "outlinewidth": 0,
             "ticks": ""
            },
            "colorscale": [
             [
              0,
              "#0d0887"
             ],
             [
              0.1111111111111111,
              "#46039f"
             ],
             [
              0.2222222222222222,
              "#7201a8"
             ],
             [
              0.3333333333333333,
              "#9c179e"
             ],
             [
              0.4444444444444444,
              "#bd3786"
             ],
             [
              0.5555555555555556,
              "#d8576b"
             ],
             [
              0.6666666666666666,
              "#ed7953"
             ],
             [
              0.7777777777777778,
              "#fb9f3a"
             ],
             [
              0.8888888888888888,
              "#fdca26"
             ],
             [
              1,
              "#f0f921"
             ]
            ],
            "type": "heatmapgl"
           }
          ],
          "histogram": [
           {
            "marker": {
             "pattern": {
              "fillmode": "overlay",
              "size": 10,
              "solidity": 0.2
             }
            },
            "type": "histogram"
           }
          ],
          "histogram2d": [
           {
            "colorbar": {
             "outlinewidth": 0,
             "ticks": ""
            },
            "colorscale": [
             [
              0,
              "#0d0887"
             ],
             [
              0.1111111111111111,
              "#46039f"
             ],
             [
              0.2222222222222222,
              "#7201a8"
             ],
             [
              0.3333333333333333,
              "#9c179e"
             ],
             [
              0.4444444444444444,
              "#bd3786"
             ],
             [
              0.5555555555555556,
              "#d8576b"
             ],
             [
              0.6666666666666666,
              "#ed7953"
             ],
             [
              0.7777777777777778,
              "#fb9f3a"
             ],
             [
              0.8888888888888888,
              "#fdca26"
             ],
             [
              1,
              "#f0f921"
             ]
            ],
            "type": "histogram2d"
           }
          ],
          "histogram2dcontour": [
           {
            "colorbar": {
             "outlinewidth": 0,
             "ticks": ""
            },
            "colorscale": [
             [
              0,
              "#0d0887"
             ],
             [
              0.1111111111111111,
              "#46039f"
             ],
             [
              0.2222222222222222,
              "#7201a8"
             ],
             [
              0.3333333333333333,
              "#9c179e"
             ],
             [
              0.4444444444444444,
              "#bd3786"
             ],
             [
              0.5555555555555556,
              "#d8576b"
             ],
             [
              0.6666666666666666,
              "#ed7953"
             ],
             [
              0.7777777777777778,
              "#fb9f3a"
             ],
             [
              0.8888888888888888,
              "#fdca26"
             ],
             [
              1,
              "#f0f921"
             ]
            ],
            "type": "histogram2dcontour"
           }
          ],
          "mesh3d": [
           {
            "colorbar": {
             "outlinewidth": 0,
             "ticks": ""
            },
            "type": "mesh3d"
           }
          ],
          "parcoords": [
           {
            "line": {
             "colorbar": {
              "outlinewidth": 0,
              "ticks": ""
             }
            },
            "type": "parcoords"
           }
          ],
          "pie": [
           {
            "automargin": true,
            "type": "pie"
           }
          ],
          "scatter": [
           {
            "fillpattern": {
             "fillmode": "overlay",
             "size": 10,
             "solidity": 0.2
            },
            "type": "scatter"
           }
          ],
          "scatter3d": [
           {
            "line": {
             "colorbar": {
              "outlinewidth": 0,
              "ticks": ""
             }
            },
            "marker": {
             "colorbar": {
              "outlinewidth": 0,
              "ticks": ""
             }
            },
            "type": "scatter3d"
           }
          ],
          "scattercarpet": [
           {
            "marker": {
             "colorbar": {
              "outlinewidth": 0,
              "ticks": ""
             }
            },
            "type": "scattercarpet"
           }
          ],
          "scattergeo": [
           {
            "marker": {
             "colorbar": {
              "outlinewidth": 0,
              "ticks": ""
             }
            },
            "type": "scattergeo"
           }
          ],
          "scattergl": [
           {
            "marker": {
             "colorbar": {
              "outlinewidth": 0,
              "ticks": ""
             }
            },
            "type": "scattergl"
           }
          ],
          "scattermapbox": [
           {
            "marker": {
             "colorbar": {
              "outlinewidth": 0,
              "ticks": ""
             }
            },
            "type": "scattermapbox"
           }
          ],
          "scatterpolar": [
           {
            "marker": {
             "colorbar": {
              "outlinewidth": 0,
              "ticks": ""
             }
            },
            "type": "scatterpolar"
           }
          ],
          "scatterpolargl": [
           {
            "marker": {
             "colorbar": {
              "outlinewidth": 0,
              "ticks": ""
             }
            },
            "type": "scatterpolargl"
           }
          ],
          "scatterternary": [
           {
            "marker": {
             "colorbar": {
              "outlinewidth": 0,
              "ticks": ""
             }
            },
            "type": "scatterternary"
           }
          ],
          "surface": [
           {
            "colorbar": {
             "outlinewidth": 0,
             "ticks": ""
            },
            "colorscale": [
             [
              0,
              "#0d0887"
             ],
             [
              0.1111111111111111,
              "#46039f"
             ],
             [
              0.2222222222222222,
              "#7201a8"
             ],
             [
              0.3333333333333333,
              "#9c179e"
             ],
             [
              0.4444444444444444,
              "#bd3786"
             ],
             [
              0.5555555555555556,
              "#d8576b"
             ],
             [
              0.6666666666666666,
              "#ed7953"
             ],
             [
              0.7777777777777778,
              "#fb9f3a"
             ],
             [
              0.8888888888888888,
              "#fdca26"
             ],
             [
              1,
              "#f0f921"
             ]
            ],
            "type": "surface"
           }
          ],
          "table": [
           {
            "cells": {
             "fill": {
              "color": "#EBF0F8"
             },
             "line": {
              "color": "white"
             }
            },
            "header": {
             "fill": {
              "color": "#C8D4E3"
             },
             "line": {
              "color": "white"
             }
            },
            "type": "table"
           }
          ]
         },
         "layout": {
          "annotationdefaults": {
           "arrowcolor": "#2a3f5f",
           "arrowhead": 0,
           "arrowwidth": 1
          },
          "autotypenumbers": "strict",
          "coloraxis": {
           "colorbar": {
            "outlinewidth": 0,
            "ticks": ""
           }
          },
          "colorscale": {
           "diverging": [
            [
             0,
             "#8e0152"
            ],
            [
             0.1,
             "#c51b7d"
            ],
            [
             0.2,
             "#de77ae"
            ],
            [
             0.3,
             "#f1b6da"
            ],
            [
             0.4,
             "#fde0ef"
            ],
            [
             0.5,
             "#f7f7f7"
            ],
            [
             0.6,
             "#e6f5d0"
            ],
            [
             0.7,
             "#b8e186"
            ],
            [
             0.8,
             "#7fbc41"
            ],
            [
             0.9,
             "#4d9221"
            ],
            [
             1,
             "#276419"
            ]
           ],
           "sequential": [
            [
             0,
             "#0d0887"
            ],
            [
             0.1111111111111111,
             "#46039f"
            ],
            [
             0.2222222222222222,
             "#7201a8"
            ],
            [
             0.3333333333333333,
             "#9c179e"
            ],
            [
             0.4444444444444444,
             "#bd3786"
            ],
            [
             0.5555555555555556,
             "#d8576b"
            ],
            [
             0.6666666666666666,
             "#ed7953"
            ],
            [
             0.7777777777777778,
             "#fb9f3a"
            ],
            [
             0.8888888888888888,
             "#fdca26"
            ],
            [
             1,
             "#f0f921"
            ]
           ],
           "sequentialminus": [
            [
             0,
             "#0d0887"
            ],
            [
             0.1111111111111111,
             "#46039f"
            ],
            [
             0.2222222222222222,
             "#7201a8"
            ],
            [
             0.3333333333333333,
             "#9c179e"
            ],
            [
             0.4444444444444444,
             "#bd3786"
            ],
            [
             0.5555555555555556,
             "#d8576b"
            ],
            [
             0.6666666666666666,
             "#ed7953"
            ],
            [
             0.7777777777777778,
             "#fb9f3a"
            ],
            [
             0.8888888888888888,
             "#fdca26"
            ],
            [
             1,
             "#f0f921"
            ]
           ]
          },
          "colorway": [
           "#636efa",
           "#EF553B",
           "#00cc96",
           "#ab63fa",
           "#FFA15A",
           "#19d3f3",
           "#FF6692",
           "#B6E880",
           "#FF97FF",
           "#FECB52"
          ],
          "font": {
           "color": "#2a3f5f"
          },
          "geo": {
           "bgcolor": "white",
           "lakecolor": "white",
           "landcolor": "#E5ECF6",
           "showlakes": true,
           "showland": true,
           "subunitcolor": "white"
          },
          "hoverlabel": {
           "align": "left"
          },
          "hovermode": "closest",
          "mapbox": {
           "style": "light"
          },
          "paper_bgcolor": "white",
          "plot_bgcolor": "#E5ECF6",
          "polar": {
           "angularaxis": {
            "gridcolor": "white",
            "linecolor": "white",
            "ticks": ""
           },
           "bgcolor": "#E5ECF6",
           "radialaxis": {
            "gridcolor": "white",
            "linecolor": "white",
            "ticks": ""
           }
          },
          "scene": {
           "xaxis": {
            "backgroundcolor": "#E5ECF6",
            "gridcolor": "white",
            "gridwidth": 2,
            "linecolor": "white",
            "showbackground": true,
            "ticks": "",
            "zerolinecolor": "white"
           },
           "yaxis": {
            "backgroundcolor": "#E5ECF6",
            "gridcolor": "white",
            "gridwidth": 2,
            "linecolor": "white",
            "showbackground": true,
            "ticks": "",
            "zerolinecolor": "white"
           },
           "zaxis": {
            "backgroundcolor": "#E5ECF6",
            "gridcolor": "white",
            "gridwidth": 2,
            "linecolor": "white",
            "showbackground": true,
            "ticks": "",
            "zerolinecolor": "white"
           }
          },
          "shapedefaults": {
           "line": {
            "color": "#2a3f5f"
           }
          },
          "ternary": {
           "aaxis": {
            "gridcolor": "white",
            "linecolor": "white",
            "ticks": ""
           },
           "baxis": {
            "gridcolor": "white",
            "linecolor": "white",
            "ticks": ""
           },
           "bgcolor": "#E5ECF6",
           "caxis": {
            "gridcolor": "white",
            "linecolor": "white",
            "ticks": ""
           }
          },
          "title": {
           "x": 0.05
          },
          "xaxis": {
           "automargin": true,
           "gridcolor": "white",
           "linecolor": "white",
           "ticks": "",
           "title": {
            "standoff": 15
           },
           "zerolinecolor": "white",
           "zerolinewidth": 2
          },
          "yaxis": {
           "automargin": true,
           "gridcolor": "white",
           "linecolor": "white",
           "ticks": "",
           "title": {
            "standoff": 15
           },
           "zerolinecolor": "white",
           "zerolinewidth": 2
          }
         }
        },
        "title": {
         "text": "Mean notebook price by Cluster"
        },
        "xaxis": {
         "anchor": "y",
         "domain": [
          0,
          1
         ],
         "title": {
          "text": "Price (AMD)"
         }
        },
        "yaxis": {
         "anchor": "x",
         "domain": [
          0,
          1
         ],
         "title": {
          "text": "Clusters"
         }
        }
       }
      },
      "text/html": [
       "<div>                            <div id=\"4025cff8-1550-4a59-929e-d30dc03dd935\" class=\"plotly-graph-div\" style=\"height:525px; width:100%;\"></div>            <script type=\"text/javascript\">                require([\"plotly\"], function(Plotly) {                    window.PLOTLYENV=window.PLOTLYENV || {};                                    if (document.getElementById(\"4025cff8-1550-4a59-929e-d30dc03dd935\")) {                    Plotly.newPlot(                        \"4025cff8-1550-4a59-929e-d30dc03dd935\",                        [{\"alignmentgroup\":\"True\",\"hovertemplate\":\"x=%{x}<br>y=%{y}<extra></extra>\",\"legendgroup\":\"\",\"marker\":{\"color\":\"#636efa\",\"pattern\":{\"shape\":\"\"}},\"name\":\"\",\"offsetgroup\":\"\",\"orientation\":\"h\",\"showlegend\":false,\"textposition\":\"auto\",\"x\":[276727.2727272727,296916.6666666667,302259.25925925927,320333.3333333333,321095.2380952381],\"xaxis\":\"x\",\"y\":[0,1,2,3,4],\"yaxis\":\"y\",\"type\":\"bar\"}],                        {\"template\":{\"data\":{\"histogram2dcontour\":[{\"type\":\"histogram2dcontour\",\"colorbar\":{\"outlinewidth\":0,\"ticks\":\"\"},\"colorscale\":[[0.0,\"#0d0887\"],[0.1111111111111111,\"#46039f\"],[0.2222222222222222,\"#7201a8\"],[0.3333333333333333,\"#9c179e\"],[0.4444444444444444,\"#bd3786\"],[0.5555555555555556,\"#d8576b\"],[0.6666666666666666,\"#ed7953\"],[0.7777777777777778,\"#fb9f3a\"],[0.8888888888888888,\"#fdca26\"],[1.0,\"#f0f921\"]]}],\"choropleth\":[{\"type\":\"choropleth\",\"colorbar\":{\"outlinewidth\":0,\"ticks\":\"\"}}],\"histogram2d\":[{\"type\":\"histogram2d\",\"colorbar\":{\"outlinewidth\":0,\"ticks\":\"\"},\"colorscale\":[[0.0,\"#0d0887\"],[0.1111111111111111,\"#46039f\"],[0.2222222222222222,\"#7201a8\"],[0.3333333333333333,\"#9c179e\"],[0.4444444444444444,\"#bd3786\"],[0.5555555555555556,\"#d8576b\"],[0.6666666666666666,\"#ed7953\"],[0.7777777777777778,\"#fb9f3a\"],[0.8888888888888888,\"#fdca26\"],[1.0,\"#f0f921\"]]}],\"heatmap\":[{\"type\":\"heatmap\",\"colorbar\":{\"outlinewidth\":0,\"ticks\":\"\"},\"colorscale\":[[0.0,\"#0d0887\"],[0.1111111111111111,\"#46039f\"],[0.2222222222222222,\"#7201a8\"],[0.3333333333333333,\"#9c179e\"],[0.4444444444444444,\"#bd3786\"],[0.5555555555555556,\"#d8576b\"],[0.6666666666666666,\"#ed7953\"],[0.7777777777777778,\"#fb9f3a\"],[0.8888888888888888,\"#fdca26\"],[1.0,\"#f0f921\"]]}],\"heatmapgl\":[{\"type\":\"heatmapgl\",\"colorbar\":{\"outlinewidth\":0,\"ticks\":\"\"},\"colorscale\":[[0.0,\"#0d0887\"],[0.1111111111111111,\"#46039f\"],[0.2222222222222222,\"#7201a8\"],[0.3333333333333333,\"#9c179e\"],[0.4444444444444444,\"#bd3786\"],[0.5555555555555556,\"#d8576b\"],[0.6666666666666666,\"#ed7953\"],[0.7777777777777778,\"#fb9f3a\"],[0.8888888888888888,\"#fdca26\"],[1.0,\"#f0f921\"]]}],\"contourcarpet\":[{\"type\":\"contourcarpet\",\"colorbar\":{\"outlinewidth\":0,\"ticks\":\"\"}}],\"contour\":[{\"type\":\"contour\",\"colorbar\":{\"outlinewidth\":0,\"ticks\":\"\"},\"colorscale\":[[0.0,\"#0d0887\"],[0.1111111111111111,\"#46039f\"],[0.2222222222222222,\"#7201a8\"],[0.3333333333333333,\"#9c179e\"],[0.4444444444444444,\"#bd3786\"],[0.5555555555555556,\"#d8576b\"],[0.6666666666666666,\"#ed7953\"],[0.7777777777777778,\"#fb9f3a\"],[0.8888888888888888,\"#fdca26\"],[1.0,\"#f0f921\"]]}],\"surface\":[{\"type\":\"surface\",\"colorbar\":{\"outlinewidth\":0,\"ticks\":\"\"},\"colorscale\":[[0.0,\"#0d0887\"],[0.1111111111111111,\"#46039f\"],[0.2222222222222222,\"#7201a8\"],[0.3333333333333333,\"#9c179e\"],[0.4444444444444444,\"#bd3786\"],[0.5555555555555556,\"#d8576b\"],[0.6666666666666666,\"#ed7953\"],[0.7777777777777778,\"#fb9f3a\"],[0.8888888888888888,\"#fdca26\"],[1.0,\"#f0f921\"]]}],\"mesh3d\":[{\"type\":\"mesh3d\",\"colorbar\":{\"outlinewidth\":0,\"ticks\":\"\"}}],\"scatter\":[{\"fillpattern\":{\"fillmode\":\"overlay\",\"size\":10,\"solidity\":0.2},\"type\":\"scatter\"}],\"parcoords\":[{\"type\":\"parcoords\",\"line\":{\"colorbar\":{\"outlinewidth\":0,\"ticks\":\"\"}}}],\"scatterpolargl\":[{\"type\":\"scatterpolargl\",\"marker\":{\"colorbar\":{\"outlinewidth\":0,\"ticks\":\"\"}}}],\"bar\":[{\"error_x\":{\"color\":\"#2a3f5f\"},\"error_y\":{\"color\":\"#2a3f5f\"},\"marker\":{\"line\":{\"color\":\"#E5ECF6\",\"width\":0.5},\"pattern\":{\"fillmode\":\"overlay\",\"size\":10,\"solidity\":0.2}},\"type\":\"bar\"}],\"scattergeo\":[{\"type\":\"scattergeo\",\"marker\":{\"colorbar\":{\"outlinewidth\":0,\"ticks\":\"\"}}}],\"scatterpolar\":[{\"type\":\"scatterpolar\",\"marker\":{\"colorbar\":{\"outlinewidth\":0,\"ticks\":\"\"}}}],\"histogram\":[{\"marker\":{\"pattern\":{\"fillmode\":\"overlay\",\"size\":10,\"solidity\":0.2}},\"type\":\"histogram\"}],\"scattergl\":[{\"type\":\"scattergl\",\"marker\":{\"colorbar\":{\"outlinewidth\":0,\"ticks\":\"\"}}}],\"scatter3d\":[{\"type\":\"scatter3d\",\"line\":{\"colorbar\":{\"outlinewidth\":0,\"ticks\":\"\"}},\"marker\":{\"colorbar\":{\"outlinewidth\":0,\"ticks\":\"\"}}}],\"scattermapbox\":[{\"type\":\"scattermapbox\",\"marker\":{\"colorbar\":{\"outlinewidth\":0,\"ticks\":\"\"}}}],\"scatterternary\":[{\"type\":\"scatterternary\",\"marker\":{\"colorbar\":{\"outlinewidth\":0,\"ticks\":\"\"}}}],\"scattercarpet\":[{\"type\":\"scattercarpet\",\"marker\":{\"colorbar\":{\"outlinewidth\":0,\"ticks\":\"\"}}}],\"carpet\":[{\"aaxis\":{\"endlinecolor\":\"#2a3f5f\",\"gridcolor\":\"white\",\"linecolor\":\"white\",\"minorgridcolor\":\"white\",\"startlinecolor\":\"#2a3f5f\"},\"baxis\":{\"endlinecolor\":\"#2a3f5f\",\"gridcolor\":\"white\",\"linecolor\":\"white\",\"minorgridcolor\":\"white\",\"startlinecolor\":\"#2a3f5f\"},\"type\":\"carpet\"}],\"table\":[{\"cells\":{\"fill\":{\"color\":\"#EBF0F8\"},\"line\":{\"color\":\"white\"}},\"header\":{\"fill\":{\"color\":\"#C8D4E3\"},\"line\":{\"color\":\"white\"}},\"type\":\"table\"}],\"barpolar\":[{\"marker\":{\"line\":{\"color\":\"#E5ECF6\",\"width\":0.5},\"pattern\":{\"fillmode\":\"overlay\",\"size\":10,\"solidity\":0.2}},\"type\":\"barpolar\"}],\"pie\":[{\"automargin\":true,\"type\":\"pie\"}]},\"layout\":{\"autotypenumbers\":\"strict\",\"colorway\":[\"#636efa\",\"#EF553B\",\"#00cc96\",\"#ab63fa\",\"#FFA15A\",\"#19d3f3\",\"#FF6692\",\"#B6E880\",\"#FF97FF\",\"#FECB52\"],\"font\":{\"color\":\"#2a3f5f\"},\"hovermode\":\"closest\",\"hoverlabel\":{\"align\":\"left\"},\"paper_bgcolor\":\"white\",\"plot_bgcolor\":\"#E5ECF6\",\"polar\":{\"bgcolor\":\"#E5ECF6\",\"angularaxis\":{\"gridcolor\":\"white\",\"linecolor\":\"white\",\"ticks\":\"\"},\"radialaxis\":{\"gridcolor\":\"white\",\"linecolor\":\"white\",\"ticks\":\"\"}},\"ternary\":{\"bgcolor\":\"#E5ECF6\",\"aaxis\":{\"gridcolor\":\"white\",\"linecolor\":\"white\",\"ticks\":\"\"},\"baxis\":{\"gridcolor\":\"white\",\"linecolor\":\"white\",\"ticks\":\"\"},\"caxis\":{\"gridcolor\":\"white\",\"linecolor\":\"white\",\"ticks\":\"\"}},\"coloraxis\":{\"colorbar\":{\"outlinewidth\":0,\"ticks\":\"\"}},\"colorscale\":{\"sequential\":[[0.0,\"#0d0887\"],[0.1111111111111111,\"#46039f\"],[0.2222222222222222,\"#7201a8\"],[0.3333333333333333,\"#9c179e\"],[0.4444444444444444,\"#bd3786\"],[0.5555555555555556,\"#d8576b\"],[0.6666666666666666,\"#ed7953\"],[0.7777777777777778,\"#fb9f3a\"],[0.8888888888888888,\"#fdca26\"],[1.0,\"#f0f921\"]],\"sequentialminus\":[[0.0,\"#0d0887\"],[0.1111111111111111,\"#46039f\"],[0.2222222222222222,\"#7201a8\"],[0.3333333333333333,\"#9c179e\"],[0.4444444444444444,\"#bd3786\"],[0.5555555555555556,\"#d8576b\"],[0.6666666666666666,\"#ed7953\"],[0.7777777777777778,\"#fb9f3a\"],[0.8888888888888888,\"#fdca26\"],[1.0,\"#f0f921\"]],\"diverging\":[[0,\"#8e0152\"],[0.1,\"#c51b7d\"],[0.2,\"#de77ae\"],[0.3,\"#f1b6da\"],[0.4,\"#fde0ef\"],[0.5,\"#f7f7f7\"],[0.6,\"#e6f5d0\"],[0.7,\"#b8e186\"],[0.8,\"#7fbc41\"],[0.9,\"#4d9221\"],[1,\"#276419\"]]},\"xaxis\":{\"gridcolor\":\"white\",\"linecolor\":\"white\",\"ticks\":\"\",\"title\":{\"standoff\":15},\"zerolinecolor\":\"white\",\"automargin\":true,\"zerolinewidth\":2},\"yaxis\":{\"gridcolor\":\"white\",\"linecolor\":\"white\",\"ticks\":\"\",\"title\":{\"standoff\":15},\"zerolinecolor\":\"white\",\"automargin\":true,\"zerolinewidth\":2},\"scene\":{\"xaxis\":{\"backgroundcolor\":\"#E5ECF6\",\"gridcolor\":\"white\",\"linecolor\":\"white\",\"showbackground\":true,\"ticks\":\"\",\"zerolinecolor\":\"white\",\"gridwidth\":2},\"yaxis\":{\"backgroundcolor\":\"#E5ECF6\",\"gridcolor\":\"white\",\"linecolor\":\"white\",\"showbackground\":true,\"ticks\":\"\",\"zerolinecolor\":\"white\",\"gridwidth\":2},\"zaxis\":{\"backgroundcolor\":\"#E5ECF6\",\"gridcolor\":\"white\",\"linecolor\":\"white\",\"showbackground\":true,\"ticks\":\"\",\"zerolinecolor\":\"white\",\"gridwidth\":2}},\"shapedefaults\":{\"line\":{\"color\":\"#2a3f5f\"}},\"annotationdefaults\":{\"arrowcolor\":\"#2a3f5f\",\"arrowhead\":0,\"arrowwidth\":1},\"geo\":{\"bgcolor\":\"white\",\"landcolor\":\"#E5ECF6\",\"subunitcolor\":\"white\",\"showland\":true,\"showlakes\":true,\"lakecolor\":\"white\"},\"title\":{\"x\":0.05},\"mapbox\":{\"style\":\"light\"}}},\"xaxis\":{\"anchor\":\"y\",\"domain\":[0.0,1.0],\"title\":{\"text\":\"Price (AMD)\"}},\"yaxis\":{\"anchor\":\"x\",\"domain\":[0.0,1.0],\"title\":{\"text\":\"Clusters\"}},\"legend\":{\"tracegroupgap\":0},\"title\":{\"text\":\"Mean notebook price by Cluster\"},\"barmode\":\"group\"},                        {\"responsive\": true}                    ).then(function(){\n",
       "                            \n",
       "var gd = document.getElementById('4025cff8-1550-4a59-929e-d30dc03dd935');\n",
       "var x = new MutationObserver(function (mutations, observer) {{\n",
       "        var display = window.getComputedStyle(gd).display;\n",
       "        if (!display || display === 'none') {{\n",
       "            console.log([gd, 'removed!']);\n",
       "            Plotly.purge(gd);\n",
       "            observer.disconnect();\n",
       "        }}\n",
       "}});\n",
       "\n",
       "// Listen for the removal of the full notebook cells\n",
       "var notebookContainer = gd.closest('#notebook-container');\n",
       "if (notebookContainer) {{\n",
       "    x.observe(notebookContainer, {childList: true});\n",
       "}}\n",
       "\n",
       "// Listen for the clearing of the current output cell\n",
       "var outputEl = gd.closest('.output');\n",
       "if (outputEl) {{\n",
       "    x.observe(outputEl, {childList: true});\n",
       "}}\n",
       "\n",
       "                        })                };                });            </script>        </div>"
      ]
     },
     "metadata": {},
     "output_type": "display_data"
    }
   ],
   "source": [
    "fig = px.bar(x = avg_price['pricecash'].sort_values(), barmode='group', title = 'Mean notebook price by Cluster')\n",
    "fig.update_layout(xaxis_title = 'Price (AMD)',yaxis_title = 'Clusters')\n",
    "fig.show()"
   ]
  },
  {
   "cell_type": "code",
   "execution_count": 228,
   "metadata": {},
   "outputs": [
    {
     "data": {
      "text/html": [
       "<div>\n",
       "<style scoped>\n",
       "    .dataframe tbody tr th:only-of-type {\n",
       "        vertical-align: middle;\n",
       "    }\n",
       "\n",
       "    .dataframe tbody tr th {\n",
       "        vertical-align: top;\n",
       "    }\n",
       "\n",
       "    .dataframe thead th {\n",
       "        text-align: right;\n",
       "    }\n",
       "</style>\n",
       "<table border=\"1\" class=\"dataframe\">\n",
       "  <thead>\n",
       "    <tr style=\"text-align: right;\">\n",
       "      <th></th>\n",
       "      <th>id</th>\n",
       "      <th>flip</th>\n",
       "      <th>touchscreen</th>\n",
       "      <th>brand</th>\n",
       "      <th>full brand</th>\n",
       "      <th>processor</th>\n",
       "      <th>ram</th>\n",
       "      <th>ssd</th>\n",
       "      <th>hdd</th>\n",
       "      <th>graphics</th>\n",
       "      <th>spec</th>\n",
       "      <th>screen</th>\n",
       "      <th>dos</th>\n",
       "      <th>price</th>\n",
       "      <th>pricecash</th>\n",
       "      <th>pricemonthly</th>\n",
       "      <th>processor1</th>\n",
       "      <th>grafika</th>\n",
       "      <th>labels</th>\n",
       "    </tr>\n",
       "  </thead>\n",
       "  <tbody>\n",
       "    <tr>\n",
       "      <th>0</th>\n",
       "      <td>75</td>\n",
       "      <td>0.0</td>\n",
       "      <td>0.0</td>\n",
       "      <td>Asus</td>\n",
       "      <td>.Asus VivoBook K1703ZA-SB54</td>\n",
       "      <td>Core i5 12500H</td>\n",
       "      <td>8.0</td>\n",
       "      <td>512.0</td>\n",
       "      <td>0.0</td>\n",
       "      <td>Intel Iris Plus Graphics</td>\n",
       "      <td>NaN</td>\n",
       "      <td>17.3</td>\n",
       "      <td>Windows 11</td>\n",
       "      <td>372600</td>\n",
       "      <td>345000</td>\n",
       "      <td>19200</td>\n",
       "      <td>Core i5</td>\n",
       "      <td>Intel Ir</td>\n",
       "      <td>4</td>\n",
       "    </tr>\n",
       "    <tr>\n",
       "      <th>1</th>\n",
       "      <td>135</td>\n",
       "      <td>0.0</td>\n",
       "      <td>0.0</td>\n",
       "      <td>Asus</td>\n",
       "      <td>.Asus VivoBook K1703ZA-SB54</td>\n",
       "      <td>Core i5 12500H</td>\n",
       "      <td>8.0</td>\n",
       "      <td>512.0</td>\n",
       "      <td>0.0</td>\n",
       "      <td>Intel Iris Plus Graphics</td>\n",
       "      <td>NaN</td>\n",
       "      <td>17.3</td>\n",
       "      <td>Windows 11</td>\n",
       "      <td>372600</td>\n",
       "      <td>345000</td>\n",
       "      <td>19200</td>\n",
       "      <td>Core i5</td>\n",
       "      <td>Intel Ir</td>\n",
       "      <td>4</td>\n",
       "    </tr>\n",
       "    <tr>\n",
       "      <th>2</th>\n",
       "      <td>27</td>\n",
       "      <td>0.0</td>\n",
       "      <td>0.0</td>\n",
       "      <td>Acer</td>\n",
       "      <td>Acer Aspire 3 A315-59-534T</td>\n",
       "      <td>Core i5 1235U</td>\n",
       "      <td>8.0</td>\n",
       "      <td>512.0</td>\n",
       "      <td>0.0</td>\n",
       "      <td>Intel Iris Plus Graphics</td>\n",
       "      <td>NaN</td>\n",
       "      <td>15.6</td>\n",
       "      <td>Dos</td>\n",
       "      <td>268900</td>\n",
       "      <td>249000</td>\n",
       "      <td>13800</td>\n",
       "      <td>Core i5</td>\n",
       "      <td>Intel Ir</td>\n",
       "      <td>4</td>\n",
       "    </tr>\n",
       "    <tr>\n",
       "      <th>8</th>\n",
       "      <td>36</td>\n",
       "      <td>0.0</td>\n",
       "      <td>0.0</td>\n",
       "      <td>Acer</td>\n",
       "      <td>Acer Aspire A317-33-P3A8</td>\n",
       "      <td>Intel N6000</td>\n",
       "      <td>4.0</td>\n",
       "      <td>512.0</td>\n",
       "      <td>0.0</td>\n",
       "      <td>Intel Iris Plus Graphics</td>\n",
       "      <td>NaN</td>\n",
       "      <td>17.3</td>\n",
       "      <td>Dos</td>\n",
       "      <td>286200</td>\n",
       "      <td>265000</td>\n",
       "      <td>14700</td>\n",
       "      <td>Intel N</td>\n",
       "      <td>Intel Ir</td>\n",
       "      <td>4</td>\n",
       "    </tr>\n",
       "    <tr>\n",
       "      <th>9</th>\n",
       "      <td>96</td>\n",
       "      <td>0.0</td>\n",
       "      <td>0.0</td>\n",
       "      <td>Acer</td>\n",
       "      <td>Acer Aspire A317-33-P3A8</td>\n",
       "      <td>Intel N6000</td>\n",
       "      <td>4.0</td>\n",
       "      <td>512.0</td>\n",
       "      <td>0.0</td>\n",
       "      <td>Intel Iris Plus Graphics</td>\n",
       "      <td>NaN</td>\n",
       "      <td>17.3</td>\n",
       "      <td>Dos</td>\n",
       "      <td>286200</td>\n",
       "      <td>265000</td>\n",
       "      <td>14700</td>\n",
       "      <td>Intel N</td>\n",
       "      <td>Intel Ir</td>\n",
       "      <td>4</td>\n",
       "    </tr>\n",
       "    <tr>\n",
       "      <th>10</th>\n",
       "      <td>38</td>\n",
       "      <td>0.0</td>\n",
       "      <td>0.0</td>\n",
       "      <td>Acer</td>\n",
       "      <td>Acer Aspire A317-33-P3A8</td>\n",
       "      <td>Intel N6000</td>\n",
       "      <td>12.0</td>\n",
       "      <td>512.0</td>\n",
       "      <td>0.0</td>\n",
       "      <td>Intel Iris Plus Graphics</td>\n",
       "      <td>NaN</td>\n",
       "      <td>17.3</td>\n",
       "      <td>Dos</td>\n",
       "      <td>297000</td>\n",
       "      <td>275000</td>\n",
       "      <td>15300</td>\n",
       "      <td>Intel N</td>\n",
       "      <td>Intel Ir</td>\n",
       "      <td>4</td>\n",
       "    </tr>\n",
       "    <tr>\n",
       "      <th>11</th>\n",
       "      <td>98</td>\n",
       "      <td>0.0</td>\n",
       "      <td>0.0</td>\n",
       "      <td>Acer</td>\n",
       "      <td>Acer Aspire A317-33-P3A8</td>\n",
       "      <td>Intel N6000</td>\n",
       "      <td>12.0</td>\n",
       "      <td>512.0</td>\n",
       "      <td>0.0</td>\n",
       "      <td>Intel Iris Plus Graphics</td>\n",
       "      <td>NaN</td>\n",
       "      <td>17.3</td>\n",
       "      <td>Dos</td>\n",
       "      <td>297000</td>\n",
       "      <td>275000</td>\n",
       "      <td>15300</td>\n",
       "      <td>Intel N</td>\n",
       "      <td>Intel Ir</td>\n",
       "      <td>4</td>\n",
       "    </tr>\n",
       "    <tr>\n",
       "      <th>20</th>\n",
       "      <td>85</td>\n",
       "      <td>0.0</td>\n",
       "      <td>0.0</td>\n",
       "      <td>Asus</td>\n",
       "      <td>Asus TUF Gaming F15 FX506HC-WS53</td>\n",
       "      <td>Core i5 11260H</td>\n",
       "      <td>8.0</td>\n",
       "      <td>512.0</td>\n",
       "      <td>0.0</td>\n",
       "      <td>Geforce RTX3050 4Gb</td>\n",
       "      <td>NaN</td>\n",
       "      <td>15.6</td>\n",
       "      <td>Windows 11</td>\n",
       "      <td>399600</td>\n",
       "      <td>370000</td>\n",
       "      <td>20600</td>\n",
       "      <td>Core i5</td>\n",
       "      <td>GeForce</td>\n",
       "      <td>4</td>\n",
       "    </tr>\n",
       "    <tr>\n",
       "      <th>21</th>\n",
       "      <td>145</td>\n",
       "      <td>0.0</td>\n",
       "      <td>0.0</td>\n",
       "      <td>Asus</td>\n",
       "      <td>Asus TUF Gaming F15 FX506HC-WS53</td>\n",
       "      <td>Core i5 11260H</td>\n",
       "      <td>8.0</td>\n",
       "      <td>512.0</td>\n",
       "      <td>0.0</td>\n",
       "      <td>Geforce RTX3050 4Gb</td>\n",
       "      <td>NaN</td>\n",
       "      <td>15.6</td>\n",
       "      <td>Windows 11</td>\n",
       "      <td>399600</td>\n",
       "      <td>370000</td>\n",
       "      <td>20600</td>\n",
       "      <td>Core i5</td>\n",
       "      <td>GeForce</td>\n",
       "      <td>4</td>\n",
       "    </tr>\n",
       "    <tr>\n",
       "      <th>22</th>\n",
       "      <td>73</td>\n",
       "      <td>0.0</td>\n",
       "      <td>0.0</td>\n",
       "      <td>Asus</td>\n",
       "      <td>Asus TUF Gaming FA506IHR-US51</td>\n",
       "      <td>Ryzen 5 4600H</td>\n",
       "      <td>8.0</td>\n",
       "      <td>512.0</td>\n",
       "      <td>0.0</td>\n",
       "      <td>GeForce GTX1650 4Gb</td>\n",
       "      <td>NaN</td>\n",
       "      <td>15.6</td>\n",
       "      <td>Windows 11</td>\n",
       "      <td>369300</td>\n",
       "      <td>342000</td>\n",
       "      <td>19000</td>\n",
       "      <td>Ryzen 5</td>\n",
       "      <td>GeForce</td>\n",
       "      <td>4</td>\n",
       "    </tr>\n",
       "    <tr>\n",
       "      <th>23</th>\n",
       "      <td>133</td>\n",
       "      <td>0.0</td>\n",
       "      <td>0.0</td>\n",
       "      <td>Asus</td>\n",
       "      <td>Asus TUF Gaming FA506IHR-US51</td>\n",
       "      <td>Ryzen 5 4600H</td>\n",
       "      <td>8.0</td>\n",
       "      <td>512.0</td>\n",
       "      <td>0.0</td>\n",
       "      <td>GeForce GTX1650 4Gb</td>\n",
       "      <td>NaN</td>\n",
       "      <td>15.6</td>\n",
       "      <td>Windows 11</td>\n",
       "      <td>369300</td>\n",
       "      <td>342000</td>\n",
       "      <td>19000</td>\n",
       "      <td>Ryzen 5</td>\n",
       "      <td>GeForce</td>\n",
       "      <td>4</td>\n",
       "    </tr>\n",
       "    <tr>\n",
       "      <th>34</th>\n",
       "      <td>69</td>\n",
       "      <td>0.0</td>\n",
       "      <td>0.0</td>\n",
       "      <td>Asus</td>\n",
       "      <td>Asus VivoBook X515E</td>\n",
       "      <td>Core i7 1165G7</td>\n",
       "      <td>8.0</td>\n",
       "      <td>512.0</td>\n",
       "      <td>0.0</td>\n",
       "      <td>GeForce MX330 2Gb</td>\n",
       "      <td>NaN</td>\n",
       "      <td>15.6</td>\n",
       "      <td>Dos</td>\n",
       "      <td>369300</td>\n",
       "      <td>342000</td>\n",
       "      <td>19000</td>\n",
       "      <td>Core i7</td>\n",
       "      <td>GeForce</td>\n",
       "      <td>4</td>\n",
       "    </tr>\n",
       "    <tr>\n",
       "      <th>35</th>\n",
       "      <td>129</td>\n",
       "      <td>0.0</td>\n",
       "      <td>0.0</td>\n",
       "      <td>Asus</td>\n",
       "      <td>Asus VivoBook X515E</td>\n",
       "      <td>Core i7 1165G7</td>\n",
       "      <td>8.0</td>\n",
       "      <td>512.0</td>\n",
       "      <td>0.0</td>\n",
       "      <td>GeForce MX330 2Gb</td>\n",
       "      <td>NaN</td>\n",
       "      <td>15.6</td>\n",
       "      <td>Dos</td>\n",
       "      <td>369300</td>\n",
       "      <td>342000</td>\n",
       "      <td>19000</td>\n",
       "      <td>Core i7</td>\n",
       "      <td>GeForce</td>\n",
       "      <td>4</td>\n",
       "    </tr>\n",
       "    <tr>\n",
       "      <th>54</th>\n",
       "      <td>53</td>\n",
       "      <td>0.0</td>\n",
       "      <td>0.0</td>\n",
       "      <td>HP</td>\n",
       "      <td>HP 15-dw3170nia</td>\n",
       "      <td>Core i7 1165G7</td>\n",
       "      <td>8.0</td>\n",
       "      <td>512.0</td>\n",
       "      <td>0.0</td>\n",
       "      <td>GeForce MX450 2Gb</td>\n",
       "      <td>NaN</td>\n",
       "      <td>15.6</td>\n",
       "      <td>Dos</td>\n",
       "      <td>335800</td>\n",
       "      <td>311000</td>\n",
       "      <td>17300</td>\n",
       "      <td>Core i7</td>\n",
       "      <td>GeForce</td>\n",
       "      <td>4</td>\n",
       "    </tr>\n",
       "    <tr>\n",
       "      <th>55</th>\n",
       "      <td>113</td>\n",
       "      <td>0.0</td>\n",
       "      <td>0.0</td>\n",
       "      <td>HP</td>\n",
       "      <td>HP 15-dw3170nia</td>\n",
       "      <td>Core i7 1165G7</td>\n",
       "      <td>8.0</td>\n",
       "      <td>512.0</td>\n",
       "      <td>0.0</td>\n",
       "      <td>GeForce MX450 2Gb</td>\n",
       "      <td>NaN</td>\n",
       "      <td>15.6</td>\n",
       "      <td>Dos</td>\n",
       "      <td>335800</td>\n",
       "      <td>311000</td>\n",
       "      <td>17300</td>\n",
       "      <td>Core i7</td>\n",
       "      <td>GeForce</td>\n",
       "      <td>4</td>\n",
       "    </tr>\n",
       "    <tr>\n",
       "      <th>56</th>\n",
       "      <td>64</td>\n",
       "      <td>0.0</td>\n",
       "      <td>0.0</td>\n",
       "      <td>HP</td>\n",
       "      <td>HP 15-dw4028nia</td>\n",
       "      <td>Core i7 1255U</td>\n",
       "      <td>8.0</td>\n",
       "      <td>512.0</td>\n",
       "      <td>0.0</td>\n",
       "      <td>GeForce MX550 2Gb</td>\n",
       "      <td>NaN</td>\n",
       "      <td>15.6</td>\n",
       "      <td>Dos</td>\n",
       "      <td>355300</td>\n",
       "      <td>329000</td>\n",
       "      <td>18300</td>\n",
       "      <td>Core i7</td>\n",
       "      <td>GeForce</td>\n",
       "      <td>4</td>\n",
       "    </tr>\n",
       "    <tr>\n",
       "      <th>57</th>\n",
       "      <td>124</td>\n",
       "      <td>0.0</td>\n",
       "      <td>0.0</td>\n",
       "      <td>HP</td>\n",
       "      <td>HP 15-dw4028nia</td>\n",
       "      <td>Core i7 1255U</td>\n",
       "      <td>8.0</td>\n",
       "      <td>512.0</td>\n",
       "      <td>0.0</td>\n",
       "      <td>GeForce MX550 2Gb</td>\n",
       "      <td>NaN</td>\n",
       "      <td>15.6</td>\n",
       "      <td>Dos</td>\n",
       "      <td>355300</td>\n",
       "      <td>329000</td>\n",
       "      <td>18300</td>\n",
       "      <td>Core i7</td>\n",
       "      <td>GeForce</td>\n",
       "      <td>4</td>\n",
       "    </tr>\n",
       "    <tr>\n",
       "      <th>71</th>\n",
       "      <td>58</td>\n",
       "      <td>0.0</td>\n",
       "      <td>0.0</td>\n",
       "      <td>HP</td>\n",
       "      <td>HP 15s-fq5020nia</td>\n",
       "      <td>Core i7 1255U</td>\n",
       "      <td>8.0</td>\n",
       "      <td>512.0</td>\n",
       "      <td>0.0</td>\n",
       "      <td>Intel Iris Plus Graphics</td>\n",
       "      <td>NaN</td>\n",
       "      <td>15.6</td>\n",
       "      <td>Dos</td>\n",
       "      <td>340200</td>\n",
       "      <td>315000</td>\n",
       "      <td>17500</td>\n",
       "      <td>Core i7</td>\n",
       "      <td>Intel Ir</td>\n",
       "      <td>4</td>\n",
       "    </tr>\n",
       "    <tr>\n",
       "      <th>72</th>\n",
       "      <td>118</td>\n",
       "      <td>0.0</td>\n",
       "      <td>0.0</td>\n",
       "      <td>HP</td>\n",
       "      <td>HP 15s-fq5020nia</td>\n",
       "      <td>Core i7 1255U</td>\n",
       "      <td>8.0</td>\n",
       "      <td>512.0</td>\n",
       "      <td>0.0</td>\n",
       "      <td>Intel Iris Plus Graphics</td>\n",
       "      <td>NaN</td>\n",
       "      <td>15.6</td>\n",
       "      <td>Dos</td>\n",
       "      <td>340200</td>\n",
       "      <td>315000</td>\n",
       "      <td>17500</td>\n",
       "      <td>Core i7</td>\n",
       "      <td>Intel Ir</td>\n",
       "      <td>4</td>\n",
       "    </tr>\n",
       "    <tr>\n",
       "      <th>73</th>\n",
       "      <td>35</td>\n",
       "      <td>0.0</td>\n",
       "      <td>0.0</td>\n",
       "      <td>HP</td>\n",
       "      <td>HP 15s-fq5292nia</td>\n",
       "      <td>Core i5 1235U</td>\n",
       "      <td>8.0</td>\n",
       "      <td>512.0</td>\n",
       "      <td>0.0</td>\n",
       "      <td>Intel Iris Plus Graphics</td>\n",
       "      <td>NaN</td>\n",
       "      <td>15.6</td>\n",
       "      <td>Dos</td>\n",
       "      <td>285100</td>\n",
       "      <td>264000</td>\n",
       "      <td>14700</td>\n",
       "      <td>Core i5</td>\n",
       "      <td>Intel Ir</td>\n",
       "      <td>4</td>\n",
       "    </tr>\n",
       "    <tr>\n",
       "      <th>74</th>\n",
       "      <td>95</td>\n",
       "      <td>0.0</td>\n",
       "      <td>0.0</td>\n",
       "      <td>HP</td>\n",
       "      <td>HP 15s-fq5292nia</td>\n",
       "      <td>Core i5 1235U</td>\n",
       "      <td>8.0</td>\n",
       "      <td>512.0</td>\n",
       "      <td>0.0</td>\n",
       "      <td>Intel Iris Plus Graphics</td>\n",
       "      <td>NaN</td>\n",
       "      <td>15.6</td>\n",
       "      <td>Dos</td>\n",
       "      <td>285100</td>\n",
       "      <td>264000</td>\n",
       "      <td>14700</td>\n",
       "      <td>Core i5</td>\n",
       "      <td>Intel Ir</td>\n",
       "      <td>4</td>\n",
       "    </tr>\n",
       "    <tr>\n",
       "      <th>75</th>\n",
       "      <td>65</td>\n",
       "      <td>0.0</td>\n",
       "      <td>0.0</td>\n",
       "      <td>HP</td>\n",
       "      <td>HP 15s-fq5296nia</td>\n",
       "      <td>Core i7 1255U</td>\n",
       "      <td>8.0</td>\n",
       "      <td>512.0</td>\n",
       "      <td>0.0</td>\n",
       "      <td>Intel Iris Plus Graphics</td>\n",
       "      <td>NaN</td>\n",
       "      <td>15.6</td>\n",
       "      <td>Dos</td>\n",
       "      <td>355300</td>\n",
       "      <td>329000</td>\n",
       "      <td>18300</td>\n",
       "      <td>Core i7</td>\n",
       "      <td>Intel Ir</td>\n",
       "      <td>4</td>\n",
       "    </tr>\n",
       "    <tr>\n",
       "      <th>76</th>\n",
       "      <td>125</td>\n",
       "      <td>0.0</td>\n",
       "      <td>0.0</td>\n",
       "      <td>HP</td>\n",
       "      <td>HP 15s-fq5296nia</td>\n",
       "      <td>Core i7 1255U</td>\n",
       "      <td>8.0</td>\n",
       "      <td>512.0</td>\n",
       "      <td>0.0</td>\n",
       "      <td>Intel Iris Plus Graphics</td>\n",
       "      <td>NaN</td>\n",
       "      <td>15.6</td>\n",
       "      <td>Dos</td>\n",
       "      <td>355300</td>\n",
       "      <td>329000</td>\n",
       "      <td>18300</td>\n",
       "      <td>Core i7</td>\n",
       "      <td>Intel Ir</td>\n",
       "      <td>4</td>\n",
       "    </tr>\n",
       "    <tr>\n",
       "      <th>77</th>\n",
       "      <td>66</td>\n",
       "      <td>0.0</td>\n",
       "      <td>0.0</td>\n",
       "      <td>HP</td>\n",
       "      <td>HP 15s-fq5297nia</td>\n",
       "      <td>Core i7 1255U</td>\n",
       "      <td>8.0</td>\n",
       "      <td>512.0</td>\n",
       "      <td>0.0</td>\n",
       "      <td>Intel Iris Plus Graphics</td>\n",
       "      <td>NaN</td>\n",
       "      <td>15.6</td>\n",
       "      <td>Dos</td>\n",
       "      <td>355300</td>\n",
       "      <td>329000</td>\n",
       "      <td>18300</td>\n",
       "      <td>Core i7</td>\n",
       "      <td>Intel Ir</td>\n",
       "      <td>4</td>\n",
       "    </tr>\n",
       "    <tr>\n",
       "      <th>78</th>\n",
       "      <td>126</td>\n",
       "      <td>0.0</td>\n",
       "      <td>0.0</td>\n",
       "      <td>HP</td>\n",
       "      <td>HP 15s-fq5297nia</td>\n",
       "      <td>Core i7 1255U</td>\n",
       "      <td>8.0</td>\n",
       "      <td>512.0</td>\n",
       "      <td>0.0</td>\n",
       "      <td>Intel Iris Plus Graphics</td>\n",
       "      <td>NaN</td>\n",
       "      <td>15.6</td>\n",
       "      <td>Dos</td>\n",
       "      <td>355300</td>\n",
       "      <td>329000</td>\n",
       "      <td>18300</td>\n",
       "      <td>Core i7</td>\n",
       "      <td>Intel Ir</td>\n",
       "      <td>4</td>\n",
       "    </tr>\n",
       "    <tr>\n",
       "      <th>92</th>\n",
       "      <td>62</td>\n",
       "      <td>0.0</td>\n",
       "      <td>0.0</td>\n",
       "      <td>HP</td>\n",
       "      <td>HP Pavilion 15-eg0081cl</td>\n",
       "      <td>Core i7 1165G7</td>\n",
       "      <td>8.0</td>\n",
       "      <td>512.0</td>\n",
       "      <td>0.0</td>\n",
       "      <td>Intel Iris Plus Graphics</td>\n",
       "      <td>NaN</td>\n",
       "      <td>15.6</td>\n",
       "      <td>Windows 11</td>\n",
       "      <td>355300</td>\n",
       "      <td>329000</td>\n",
       "      <td>18300</td>\n",
       "      <td>Core i7</td>\n",
       "      <td>Intel Ir</td>\n",
       "      <td>4</td>\n",
       "    </tr>\n",
       "    <tr>\n",
       "      <th>93</th>\n",
       "      <td>122</td>\n",
       "      <td>0.0</td>\n",
       "      <td>0.0</td>\n",
       "      <td>HP</td>\n",
       "      <td>HP Pavilion 15-eg0081cl</td>\n",
       "      <td>Core i7 1165G7</td>\n",
       "      <td>8.0</td>\n",
       "      <td>512.0</td>\n",
       "      <td>0.0</td>\n",
       "      <td>Intel Iris Plus Graphics</td>\n",
       "      <td>NaN</td>\n",
       "      <td>15.6</td>\n",
       "      <td>Windows 11</td>\n",
       "      <td>355300</td>\n",
       "      <td>329000</td>\n",
       "      <td>18300</td>\n",
       "      <td>Core i7</td>\n",
       "      <td>Intel Ir</td>\n",
       "      <td>4</td>\n",
       "    </tr>\n",
       "    <tr>\n",
       "      <th>96</th>\n",
       "      <td>82</td>\n",
       "      <td>0.0</td>\n",
       "      <td>0.0</td>\n",
       "      <td>HP</td>\n",
       "      <td>HP ProBook 450 G8</td>\n",
       "      <td>Core i7 1165G7</td>\n",
       "      <td>8.0</td>\n",
       "      <td>512.0</td>\n",
       "      <td>0.0</td>\n",
       "      <td>Intel Iris Plus Graphics</td>\n",
       "      <td>NaN</td>\n",
       "      <td>15.6</td>\n",
       "      <td>Dos</td>\n",
       "      <td>388800</td>\n",
       "      <td>360000</td>\n",
       "      <td>20000</td>\n",
       "      <td>Core i7</td>\n",
       "      <td>Intel Ir</td>\n",
       "      <td>4</td>\n",
       "    </tr>\n",
       "    <tr>\n",
       "      <th>97</th>\n",
       "      <td>142</td>\n",
       "      <td>0.0</td>\n",
       "      <td>0.0</td>\n",
       "      <td>HP</td>\n",
       "      <td>HP ProBook 450 G8</td>\n",
       "      <td>Core i7 1165G7</td>\n",
       "      <td>8.0</td>\n",
       "      <td>512.0</td>\n",
       "      <td>0.0</td>\n",
       "      <td>Intel Iris Plus Graphics</td>\n",
       "      <td>NaN</td>\n",
       "      <td>15.6</td>\n",
       "      <td>Dos</td>\n",
       "      <td>388800</td>\n",
       "      <td>360000</td>\n",
       "      <td>20000</td>\n",
       "      <td>Core i7</td>\n",
       "      <td>Intel Ir</td>\n",
       "      <td>4</td>\n",
       "    </tr>\n",
       "    <tr>\n",
       "      <th>102</th>\n",
       "      <td>60</td>\n",
       "      <td>0.0</td>\n",
       "      <td>0.0</td>\n",
       "      <td>HP</td>\n",
       "      <td>HP Victus 15-fa0031dx</td>\n",
       "      <td>Core i5 12450H</td>\n",
       "      <td>8.0</td>\n",
       "      <td>512.0</td>\n",
       "      <td>0.0</td>\n",
       "      <td>GeForce GTX1650 4Gb</td>\n",
       "      <td>NaN</td>\n",
       "      <td>15.6</td>\n",
       "      <td>Windows 11</td>\n",
       "      <td>345600</td>\n",
       "      <td>320000</td>\n",
       "      <td>17800</td>\n",
       "      <td>Core i5</td>\n",
       "      <td>GeForce</td>\n",
       "      <td>4</td>\n",
       "    </tr>\n",
       "    <tr>\n",
       "      <th>103</th>\n",
       "      <td>120</td>\n",
       "      <td>0.0</td>\n",
       "      <td>0.0</td>\n",
       "      <td>HP</td>\n",
       "      <td>HP Victus 15-fa0031dx</td>\n",
       "      <td>Core i5 12450H</td>\n",
       "      <td>8.0</td>\n",
       "      <td>512.0</td>\n",
       "      <td>0.0</td>\n",
       "      <td>GeForce GTX1650 4Gb</td>\n",
       "      <td>NaN</td>\n",
       "      <td>15.6</td>\n",
       "      <td>Windows 11</td>\n",
       "      <td>345600</td>\n",
       "      <td>320000</td>\n",
       "      <td>17800</td>\n",
       "      <td>Core i5</td>\n",
       "      <td>GeForce</td>\n",
       "      <td>4</td>\n",
       "    </tr>\n",
       "    <tr>\n",
       "      <th>110</th>\n",
       "      <td>46</td>\n",
       "      <td>0.0</td>\n",
       "      <td>0.0</td>\n",
       "      <td>Lenovo</td>\n",
       "      <td>Lenovo IP 3 17IAU7</td>\n",
       "      <td>Core i5 1235U</td>\n",
       "      <td>8.0</td>\n",
       "      <td>512.0</td>\n",
       "      <td>0.0</td>\n",
       "      <td>Intel Iris Plus Graphics</td>\n",
       "      <td>NaN</td>\n",
       "      <td>17.3</td>\n",
       "      <td>Dos</td>\n",
       "      <td>315300</td>\n",
       "      <td>292000</td>\n",
       "      <td>16200</td>\n",
       "      <td>Core i5</td>\n",
       "      <td>Intel Ir</td>\n",
       "      <td>4</td>\n",
       "    </tr>\n",
       "    <tr>\n",
       "      <th>111</th>\n",
       "      <td>106</td>\n",
       "      <td>0.0</td>\n",
       "      <td>0.0</td>\n",
       "      <td>Lenovo</td>\n",
       "      <td>Lenovo IP 3 17IAU7</td>\n",
       "      <td>Core i5 1235U</td>\n",
       "      <td>8.0</td>\n",
       "      <td>512.0</td>\n",
       "      <td>0.0</td>\n",
       "      <td>Intel Iris Plus Graphics</td>\n",
       "      <td>NaN</td>\n",
       "      <td>17.3</td>\n",
       "      <td>Dos</td>\n",
       "      <td>315300</td>\n",
       "      <td>292000</td>\n",
       "      <td>16200</td>\n",
       "      <td>Core i5</td>\n",
       "      <td>Intel Ir</td>\n",
       "      <td>4</td>\n",
       "    </tr>\n",
       "    <tr>\n",
       "      <th>129</th>\n",
       "      <td>68</td>\n",
       "      <td>0.0</td>\n",
       "      <td>0.0</td>\n",
       "      <td>MSI</td>\n",
       "      <td>MSI GF63 Thin 11SC-1053XGE</td>\n",
       "      <td>Core i5 11400H</td>\n",
       "      <td>8.0</td>\n",
       "      <td>512.0</td>\n",
       "      <td>0.0</td>\n",
       "      <td>GeForce GTX1650 4Gb</td>\n",
       "      <td>NaN</td>\n",
       "      <td>15.6</td>\n",
       "      <td>Dos</td>\n",
       "      <td>361800</td>\n",
       "      <td>335000</td>\n",
       "      <td>18600</td>\n",
       "      <td>Core i5</td>\n",
       "      <td>GeForce</td>\n",
       "      <td>4</td>\n",
       "    </tr>\n",
       "    <tr>\n",
       "      <th>130</th>\n",
       "      <td>128</td>\n",
       "      <td>0.0</td>\n",
       "      <td>0.0</td>\n",
       "      <td>MSI</td>\n",
       "      <td>MSI GF63 Thin 11SC-1053XGE</td>\n",
       "      <td>Core i5 11400H</td>\n",
       "      <td>8.0</td>\n",
       "      <td>512.0</td>\n",
       "      <td>0.0</td>\n",
       "      <td>GeForce GTX1650 4Gb</td>\n",
       "      <td>NaN</td>\n",
       "      <td>15.6</td>\n",
       "      <td>Dos</td>\n",
       "      <td>361800</td>\n",
       "      <td>335000</td>\n",
       "      <td>18600</td>\n",
       "      <td>Core i5</td>\n",
       "      <td>GeForce</td>\n",
       "      <td>4</td>\n",
       "    </tr>\n",
       "    <tr>\n",
       "      <th>137</th>\n",
       "      <td>80</td>\n",
       "      <td>0.0</td>\n",
       "      <td>0.0</td>\n",
       "      <td>MSI</td>\n",
       "      <td>MSI Modern 15 B11M-006XGE</td>\n",
       "      <td>Core i7 1195G7</td>\n",
       "      <td>8.0</td>\n",
       "      <td>512.0</td>\n",
       "      <td>0.0</td>\n",
       "      <td>Intel Iris Plus Graphics</td>\n",
       "      <td>1.0</td>\n",
       "      <td>15.6</td>\n",
       "      <td>Dos</td>\n",
       "      <td>355000</td>\n",
       "      <td>355000</td>\n",
       "      <td>18300</td>\n",
       "      <td>Core i7</td>\n",
       "      <td>Intel Ir</td>\n",
       "      <td>4</td>\n",
       "    </tr>\n",
       "    <tr>\n",
       "      <th>138</th>\n",
       "      <td>140</td>\n",
       "      <td>0.0</td>\n",
       "      <td>0.0</td>\n",
       "      <td>MSI</td>\n",
       "      <td>MSI Modern 15 B11M-006XGE</td>\n",
       "      <td>Core i7 1195G7</td>\n",
       "      <td>8.0</td>\n",
       "      <td>512.0</td>\n",
       "      <td>0.0</td>\n",
       "      <td>Intel Iris Plus Graphics</td>\n",
       "      <td>1.0</td>\n",
       "      <td>15.6</td>\n",
       "      <td>Dos</td>\n",
       "      <td>355000</td>\n",
       "      <td>355000</td>\n",
       "      <td>18300</td>\n",
       "      <td>Core i7</td>\n",
       "      <td>Intel Ir</td>\n",
       "      <td>4</td>\n",
       "    </tr>\n",
       "    <tr>\n",
       "      <th>139</th>\n",
       "      <td>56</td>\n",
       "      <td>0.0</td>\n",
       "      <td>0.0</td>\n",
       "      <td>MSI</td>\n",
       "      <td>MSI Modern 15 B12M-232XGE</td>\n",
       "      <td>Core i5 1235U</td>\n",
       "      <td>8.0</td>\n",
       "      <td>512.0</td>\n",
       "      <td>0.0</td>\n",
       "      <td>Intel Iris Plus Graphics</td>\n",
       "      <td>1.0</td>\n",
       "      <td>15.6</td>\n",
       "      <td>Dos</td>\n",
       "      <td>315000</td>\n",
       "      <td>315000</td>\n",
       "      <td>16200</td>\n",
       "      <td>Core i5</td>\n",
       "      <td>Intel Ir</td>\n",
       "      <td>4</td>\n",
       "    </tr>\n",
       "    <tr>\n",
       "      <th>140</th>\n",
       "      <td>116</td>\n",
       "      <td>0.0</td>\n",
       "      <td>0.0</td>\n",
       "      <td>MSI</td>\n",
       "      <td>MSI Modern 15 B12M-232XGE</td>\n",
       "      <td>Core i5 1235U</td>\n",
       "      <td>8.0</td>\n",
       "      <td>512.0</td>\n",
       "      <td>0.0</td>\n",
       "      <td>Intel Iris Plus Graphics</td>\n",
       "      <td>1.0</td>\n",
       "      <td>15.6</td>\n",
       "      <td>Dos</td>\n",
       "      <td>315000</td>\n",
       "      <td>315000</td>\n",
       "      <td>16200</td>\n",
       "      <td>Core i5</td>\n",
       "      <td>Intel Ir</td>\n",
       "      <td>4</td>\n",
       "    </tr>\n",
       "  </tbody>\n",
       "</table>\n",
       "</div>"
      ],
      "text/plain": [
       "      id  flip  touchscreen   brand                        full brand  \\\n",
       "0     75   0.0          0.0    Asus       .Asus VivoBook K1703ZA-SB54   \n",
       "1    135   0.0          0.0    Asus       .Asus VivoBook K1703ZA-SB54   \n",
       "2     27   0.0          0.0   Acer         Acer Aspire 3 A315-59-534T   \n",
       "8     36   0.0          0.0   Acer           Acer Aspire A317-33-P3A8   \n",
       "9     96   0.0          0.0   Acer           Acer Aspire A317-33-P3A8   \n",
       "10    38   0.0          0.0   Acer           Acer Aspire A317-33-P3A8   \n",
       "11    98   0.0          0.0   Acer           Acer Aspire A317-33-P3A8   \n",
       "20    85   0.0          0.0    Asus  Asus TUF Gaming F15 FX506HC-WS53   \n",
       "21   145   0.0          0.0    Asus  Asus TUF Gaming F15 FX506HC-WS53   \n",
       "22    73   0.0          0.0    Asus     Asus TUF Gaming FA506IHR-US51   \n",
       "23   133   0.0          0.0    Asus     Asus TUF Gaming FA506IHR-US51   \n",
       "34    69   0.0          0.0    Asus               Asus VivoBook X515E   \n",
       "35   129   0.0          0.0    Asus               Asus VivoBook X515E   \n",
       "54    53   0.0          0.0      HP                   HP 15-dw3170nia   \n",
       "55   113   0.0          0.0      HP                   HP 15-dw3170nia   \n",
       "56    64   0.0          0.0      HP                   HP 15-dw4028nia   \n",
       "57   124   0.0          0.0      HP                   HP 15-dw4028nia   \n",
       "71    58   0.0          0.0      HP                  HP 15s-fq5020nia   \n",
       "72   118   0.0          0.0      HP                  HP 15s-fq5020nia   \n",
       "73    35   0.0          0.0      HP                  HP 15s-fq5292nia   \n",
       "74    95   0.0          0.0      HP                  HP 15s-fq5292nia   \n",
       "75    65   0.0          0.0      HP                  HP 15s-fq5296nia   \n",
       "76   125   0.0          0.0      HP                  HP 15s-fq5296nia   \n",
       "77    66   0.0          0.0      HP                  HP 15s-fq5297nia   \n",
       "78   126   0.0          0.0      HP                  HP 15s-fq5297nia   \n",
       "92    62   0.0          0.0      HP           HP Pavilion 15-eg0081cl   \n",
       "93   122   0.0          0.0      HP           HP Pavilion 15-eg0081cl   \n",
       "96    82   0.0          0.0      HP                 HP ProBook 450 G8   \n",
       "97   142   0.0          0.0      HP                 HP ProBook 450 G8   \n",
       "102   60   0.0          0.0      HP             HP Victus 15-fa0031dx   \n",
       "103  120   0.0          0.0      HP             HP Victus 15-fa0031dx   \n",
       "110   46   0.0          0.0  Lenovo                Lenovo IP 3 17IAU7   \n",
       "111  106   0.0          0.0  Lenovo                Lenovo IP 3 17IAU7   \n",
       "129   68   0.0          0.0    MSI         MSI GF63 Thin 11SC-1053XGE   \n",
       "130  128   0.0          0.0    MSI         MSI GF63 Thin 11SC-1053XGE   \n",
       "137   80   0.0          0.0    MSI          MSI Modern 15 B11M-006XGE   \n",
       "138  140   0.0          0.0    MSI          MSI Modern 15 B11M-006XGE   \n",
       "139   56   0.0          0.0    MSI          MSI Modern 15 B12M-232XGE   \n",
       "140  116   0.0          0.0    MSI          MSI Modern 15 B12M-232XGE   \n",
       "\n",
       "            processor   ram    ssd  hdd                    graphics  spec  \\\n",
       "0     Core i5 12500H    8.0  512.0  0.0   Intel Iris Plus Graphics    NaN   \n",
       "1     Core i5 12500H    8.0  512.0  0.0   Intel Iris Plus Graphics    NaN   \n",
       "2      Core i5 1235U    8.0  512.0  0.0   Intel Iris Plus Graphics    NaN   \n",
       "8        Intel N6000    4.0  512.0  0.0   Intel Iris Plus Graphics    NaN   \n",
       "9        Intel N6000    4.0  512.0  0.0   Intel Iris Plus Graphics    NaN   \n",
       "10       Intel N6000   12.0  512.0  0.0   Intel Iris Plus Graphics    NaN   \n",
       "11       Intel N6000   12.0  512.0  0.0   Intel Iris Plus Graphics    NaN   \n",
       "20    Core i5 11260H    8.0  512.0  0.0        Geforce RTX3050 4Gb    NaN   \n",
       "21    Core i5 11260H    8.0  512.0  0.0        Geforce RTX3050 4Gb    NaN   \n",
       "22     Ryzen 5 4600H    8.0  512.0  0.0        GeForce GTX1650 4Gb    NaN   \n",
       "23     Ryzen 5 4600H    8.0  512.0  0.0        GeForce GTX1650 4Gb    NaN   \n",
       "34    Core i7 1165G7    8.0  512.0  0.0          GeForce MX330 2Gb    NaN   \n",
       "35    Core i7 1165G7    8.0  512.0  0.0          GeForce MX330 2Gb    NaN   \n",
       "54    Core i7 1165G7    8.0  512.0  0.0          GeForce MX450 2Gb    NaN   \n",
       "55    Core i7 1165G7    8.0  512.0  0.0          GeForce MX450 2Gb    NaN   \n",
       "56     Core i7 1255U    8.0  512.0  0.0          GeForce MX550 2Gb    NaN   \n",
       "57     Core i7 1255U    8.0  512.0  0.0          GeForce MX550 2Gb    NaN   \n",
       "71     Core i7 1255U    8.0  512.0  0.0   Intel Iris Plus Graphics    NaN   \n",
       "72     Core i7 1255U    8.0  512.0  0.0   Intel Iris Plus Graphics    NaN   \n",
       "73     Core i5 1235U    8.0  512.0  0.0   Intel Iris Plus Graphics    NaN   \n",
       "74     Core i5 1235U    8.0  512.0  0.0   Intel Iris Plus Graphics    NaN   \n",
       "75     Core i7 1255U    8.0  512.0  0.0   Intel Iris Plus Graphics    NaN   \n",
       "76     Core i7 1255U    8.0  512.0  0.0   Intel Iris Plus Graphics    NaN   \n",
       "77     Core i7 1255U    8.0  512.0  0.0   Intel Iris Plus Graphics    NaN   \n",
       "78     Core i7 1255U    8.0  512.0  0.0   Intel Iris Plus Graphics    NaN   \n",
       "92    Core i7 1165G7    8.0  512.0  0.0   Intel Iris Plus Graphics    NaN   \n",
       "93    Core i7 1165G7    8.0  512.0  0.0   Intel Iris Plus Graphics    NaN   \n",
       "96    Core i7 1165G7    8.0  512.0  0.0   Intel Iris Plus Graphics    NaN   \n",
       "97    Core i7 1165G7    8.0  512.0  0.0   Intel Iris Plus Graphics    NaN   \n",
       "102   Core i5 12450H    8.0  512.0  0.0        GeForce GTX1650 4Gb    NaN   \n",
       "103   Core i5 12450H    8.0  512.0  0.0        GeForce GTX1650 4Gb    NaN   \n",
       "110    Core i5 1235U    8.0  512.0  0.0   Intel Iris Plus Graphics    NaN   \n",
       "111    Core i5 1235U    8.0  512.0  0.0   Intel Iris Plus Graphics    NaN   \n",
       "129   Core i5 11400H    8.0  512.0  0.0        GeForce GTX1650 4Gb    NaN   \n",
       "130   Core i5 11400H    8.0  512.0  0.0        GeForce GTX1650 4Gb    NaN   \n",
       "137   Core i7 1195G7    8.0  512.0  0.0   Intel Iris Plus Graphics    1.0   \n",
       "138   Core i7 1195G7    8.0  512.0  0.0   Intel Iris Plus Graphics    1.0   \n",
       "139    Core i5 1235U    8.0  512.0  0.0   Intel Iris Plus Graphics    1.0   \n",
       "140    Core i5 1235U    8.0  512.0  0.0   Intel Iris Plus Graphics    1.0   \n",
       "\n",
       "     screen         dos   price  pricecash  pricemonthly processor1  \\\n",
       "0      17.3  Windows 11  372600     345000         19200    Core i5   \n",
       "1      17.3  Windows 11  372600     345000         19200    Core i5   \n",
       "2      15.6         Dos  268900     249000         13800    Core i5   \n",
       "8      17.3         Dos  286200     265000         14700    Intel N   \n",
       "9      17.3         Dos  286200     265000         14700    Intel N   \n",
       "10     17.3         Dos  297000     275000         15300    Intel N   \n",
       "11     17.3         Dos  297000     275000         15300    Intel N   \n",
       "20     15.6  Windows 11  399600     370000         20600    Core i5   \n",
       "21     15.6  Windows 11  399600     370000         20600    Core i5   \n",
       "22     15.6  Windows 11  369300     342000         19000    Ryzen 5   \n",
       "23     15.6  Windows 11  369300     342000         19000    Ryzen 5   \n",
       "34     15.6         Dos  369300     342000         19000    Core i7   \n",
       "35     15.6         Dos  369300     342000         19000    Core i7   \n",
       "54     15.6         Dos  335800     311000         17300    Core i7   \n",
       "55     15.6         Dos  335800     311000         17300    Core i7   \n",
       "56     15.6         Dos  355300     329000         18300    Core i7   \n",
       "57     15.6         Dos  355300     329000         18300    Core i7   \n",
       "71     15.6         Dos  340200     315000         17500    Core i7   \n",
       "72     15.6         Dos  340200     315000         17500    Core i7   \n",
       "73     15.6         Dos  285100     264000         14700    Core i5   \n",
       "74     15.6         Dos  285100     264000         14700    Core i5   \n",
       "75     15.6         Dos  355300     329000         18300    Core i7   \n",
       "76     15.6         Dos  355300     329000         18300    Core i7   \n",
       "77     15.6         Dos  355300     329000         18300    Core i7   \n",
       "78     15.6         Dos  355300     329000         18300    Core i7   \n",
       "92     15.6  Windows 11  355300     329000         18300    Core i7   \n",
       "93     15.6  Windows 11  355300     329000         18300    Core i7   \n",
       "96     15.6         Dos  388800     360000         20000    Core i7   \n",
       "97     15.6         Dos  388800     360000         20000    Core i7   \n",
       "102    15.6  Windows 11  345600     320000         17800    Core i5   \n",
       "103    15.6  Windows 11  345600     320000         17800    Core i5   \n",
       "110    17.3         Dos  315300     292000         16200    Core i5   \n",
       "111    17.3         Dos  315300     292000         16200    Core i5   \n",
       "129    15.6         Dos  361800     335000         18600    Core i5   \n",
       "130    15.6         Dos  361800     335000         18600    Core i5   \n",
       "137    15.6         Dos  355000     355000         18300    Core i7   \n",
       "138    15.6         Dos  355000     355000         18300    Core i7   \n",
       "139    15.6         Dos  315000     315000         16200    Core i5   \n",
       "140    15.6         Dos  315000     315000         16200    Core i5   \n",
       "\n",
       "       grafika  labels  \n",
       "0     Intel Ir       4  \n",
       "1     Intel Ir       4  \n",
       "2     Intel Ir       4  \n",
       "8     Intel Ir       4  \n",
       "9     Intel Ir       4  \n",
       "10    Intel Ir       4  \n",
       "11    Intel Ir       4  \n",
       "20    GeForce        4  \n",
       "21    GeForce        4  \n",
       "22    GeForce        4  \n",
       "23    GeForce        4  \n",
       "34    GeForce        4  \n",
       "35    GeForce        4  \n",
       "54    GeForce        4  \n",
       "55    GeForce        4  \n",
       "56    GeForce        4  \n",
       "57    GeForce        4  \n",
       "71    Intel Ir       4  \n",
       "72    Intel Ir       4  \n",
       "73    Intel Ir       4  \n",
       "74    Intel Ir       4  \n",
       "75    Intel Ir       4  \n",
       "76    Intel Ir       4  \n",
       "77    Intel Ir       4  \n",
       "78    Intel Ir       4  \n",
       "92    Intel Ir       4  \n",
       "93    Intel Ir       4  \n",
       "96    Intel Ir       4  \n",
       "97    Intel Ir       4  \n",
       "102   GeForce        4  \n",
       "103   GeForce        4  \n",
       "110   Intel Ir       4  \n",
       "111   Intel Ir       4  \n",
       "129   GeForce        4  \n",
       "130   GeForce        4  \n",
       "137   Intel Ir       4  \n",
       "138   Intel Ir       4  \n",
       "139   Intel Ir       4  \n",
       "140   Intel Ir       4  "
      ]
     },
     "execution_count": 228,
     "metadata": {},
     "output_type": "execute_result"
    }
   ],
   "source": [
    "df_fin[(df_fin['labels']==4)]\n",
    "\n",
    "#0 - small ram large ssd\n",
    "#1 - weaker models\n",
    "#2 - better ram,ssd,screen\n",
    "#3 - hdd\n",
    "#4 - ram 8 ssd 512"
   ]
  },
  {
   "cell_type": "code",
   "execution_count": 221,
   "metadata": {},
   "outputs": [
    {
     "data": {
      "text/plain": [
       "<Axes: xlabel='labels', ylabel='pricecash'>"
      ]
     },
     "execution_count": 221,
     "metadata": {},
     "output_type": "execute_result"
    },
    {
     "data": {
      "image/png": "[encoded data removed]",
      "text/plain": [
       "<Figure size 600x600 with 1 Axes>"
      ]
     },
     "metadata": {},
     "output_type": "display_data"
    }
   ],
   "source": [
    "f, ax = plt.subplots(figsize=(6, 6))\n",
    "sns.despine(f, left=True, bottom=True)\n",
    "sns.scatterplot(x=\"labels\", y=\"pricecash\",\n",
    "                palette=\"ch:r=-.2,d=.3_r\", linewidth=0,\n",
    "                data=df_fin, ax=ax)"
   ]
  },
  {
   "cell_type": "code",
   "execution_count": 222,
   "metadata": {},
   "outputs": [],
   "source": [
    "choice = df_fin[(df_fin['ram']>=16)&(df_fin['ssd']>=512)&(df_fin['screen']>=15.6)]"
   ]
  },
  {
   "cell_type": "code",
   "execution_count": 223,
   "metadata": {},
   "outputs": [
    {
     "data": {
      "text/html": [
       "<div>\n",
       "<style scoped>\n",
       "    .dataframe tbody tr th:only-of-type {\n",
       "        vertical-align: middle;\n",
       "    }\n",
       "\n",
       "    .dataframe tbody tr th {\n",
       "        vertical-align: top;\n",
       "    }\n",
       "\n",
       "    .dataframe thead th {\n",
       "        text-align: right;\n",
       "    }\n",
       "</style>\n",
       "<table border=\"1\" class=\"dataframe\">\n",
       "  <thead>\n",
       "    <tr style=\"text-align: right;\">\n",
       "      <th></th>\n",
       "      <th>id</th>\n",
       "      <th>flip</th>\n",
       "      <th>touchscreen</th>\n",
       "      <th>brand</th>\n",
       "      <th>full brand</th>\n",
       "      <th>processor</th>\n",
       "      <th>ram</th>\n",
       "      <th>ssd</th>\n",
       "      <th>hdd</th>\n",
       "      <th>graphics</th>\n",
       "      <th>spec</th>\n",
       "      <th>screen</th>\n",
       "      <th>dos</th>\n",
       "      <th>price</th>\n",
       "      <th>pricecash</th>\n",
       "      <th>pricemonthly</th>\n",
       "      <th>processor1</th>\n",
       "      <th>grafika</th>\n",
       "      <th>labels</th>\n",
       "    </tr>\n",
       "  </thead>\n",
       "  <tbody>\n",
       "    <tr>\n",
       "      <th>64</th>\n",
       "      <td>21</td>\n",
       "      <td>0.0</td>\n",
       "      <td>0.0</td>\n",
       "      <td>HP</td>\n",
       "      <td>HP 15s-eq3013ci</td>\n",
       "      <td>Ryzen 5 5625U</td>\n",
       "      <td>16.0</td>\n",
       "      <td>512.0</td>\n",
       "      <td>0.0</td>\n",
       "      <td>Radeon Graphics</td>\n",
       "      <td>NaN</td>\n",
       "      <td>15.6</td>\n",
       "      <td>Dos</td>\n",
       "      <td>255900</td>\n",
       "      <td>237000</td>\n",
       "      <td>13200</td>\n",
       "      <td>Ryzen 5</td>\n",
       "      <td>Radeon G</td>\n",
       "      <td>2</td>\n",
       "    </tr>\n",
       "    <tr>\n",
       "      <th>81</th>\n",
       "      <td>78</td>\n",
       "      <td>0.0</td>\n",
       "      <td>1.0</td>\n",
       "      <td>HP</td>\n",
       "      <td>HP 17-cn0065cl Touch</td>\n",
       "      <td>Core i7 1165G7</td>\n",
       "      <td>16.0</td>\n",
       "      <td>512.0</td>\n",
       "      <td>0.0</td>\n",
       "      <td>Intel Iris Plus Graphics</td>\n",
       "      <td>NaN</td>\n",
       "      <td>17.3</td>\n",
       "      <td>Windows 11</td>\n",
       "      <td>375800</td>\n",
       "      <td>348000</td>\n",
       "      <td>19400</td>\n",
       "      <td>Core i7</td>\n",
       "      <td>Intel Ir</td>\n",
       "      <td>2</td>\n",
       "    </tr>\n",
       "    <tr>\n",
       "      <th>82</th>\n",
       "      <td>138</td>\n",
       "      <td>0.0</td>\n",
       "      <td>1.0</td>\n",
       "      <td>HP</td>\n",
       "      <td>HP 17-cn0065cl Touch</td>\n",
       "      <td>Core i7 1165G7</td>\n",
       "      <td>16.0</td>\n",
       "      <td>512.0</td>\n",
       "      <td>0.0</td>\n",
       "      <td>Intel Iris Plus Graphics</td>\n",
       "      <td>NaN</td>\n",
       "      <td>17.3</td>\n",
       "      <td>Windows 11</td>\n",
       "      <td>375800</td>\n",
       "      <td>348000</td>\n",
       "      <td>19400</td>\n",
       "      <td>Core i7</td>\n",
       "      <td>Intel Ir</td>\n",
       "      <td>2</td>\n",
       "    </tr>\n",
       "    <tr>\n",
       "      <th>94</th>\n",
       "      <td>77</td>\n",
       "      <td>0.0</td>\n",
       "      <td>1.0</td>\n",
       "      <td>HP</td>\n",
       "      <td>HP Pavilion 15-eh2085cl Touch</td>\n",
       "      <td>Ryzen 7 5825U</td>\n",
       "      <td>16.0</td>\n",
       "      <td>512.0</td>\n",
       "      <td>0.0</td>\n",
       "      <td>Radeon Graphics</td>\n",
       "      <td>NaN</td>\n",
       "      <td>15.6</td>\n",
       "      <td>Windows 11</td>\n",
       "      <td>374700</td>\n",
       "      <td>347000</td>\n",
       "      <td>19300</td>\n",
       "      <td>Ryzen 7</td>\n",
       "      <td>Radeon G</td>\n",
       "      <td>2</td>\n",
       "    </tr>\n",
       "    <tr>\n",
       "      <th>95</th>\n",
       "      <td>137</td>\n",
       "      <td>0.0</td>\n",
       "      <td>1.0</td>\n",
       "      <td>HP</td>\n",
       "      <td>HP Pavilion 15-eh2085cl Touch</td>\n",
       "      <td>Ryzen 7 5825U</td>\n",
       "      <td>16.0</td>\n",
       "      <td>512.0</td>\n",
       "      <td>0.0</td>\n",
       "      <td>Radeon Graphics</td>\n",
       "      <td>NaN</td>\n",
       "      <td>15.6</td>\n",
       "      <td>Windows 11</td>\n",
       "      <td>374700</td>\n",
       "      <td>347000</td>\n",
       "      <td>19300</td>\n",
       "      <td>Ryzen 7</td>\n",
       "      <td>Radeon G</td>\n",
       "      <td>2</td>\n",
       "    </tr>\n",
       "    <tr>\n",
       "      <th>104</th>\n",
       "      <td>67</td>\n",
       "      <td>0.0</td>\n",
       "      <td>0.0</td>\n",
       "      <td>HP</td>\n",
       "      <td>HP Victus 15-fa0031dx</td>\n",
       "      <td>Core i5 12450H</td>\n",
       "      <td>16.0</td>\n",
       "      <td>512.0</td>\n",
       "      <td>0.0</td>\n",
       "      <td>GeForce GTX1650 4Gb</td>\n",
       "      <td>NaN</td>\n",
       "      <td>15.6</td>\n",
       "      <td>Windows 11</td>\n",
       "      <td>356400</td>\n",
       "      <td>330000</td>\n",
       "      <td>18400</td>\n",
       "      <td>Core i5</td>\n",
       "      <td>GeForce</td>\n",
       "      <td>2</td>\n",
       "    </tr>\n",
       "    <tr>\n",
       "      <th>105</th>\n",
       "      <td>127</td>\n",
       "      <td>0.0</td>\n",
       "      <td>0.0</td>\n",
       "      <td>HP</td>\n",
       "      <td>HP Victus 15-fa0031dx</td>\n",
       "      <td>Core i5 12450H</td>\n",
       "      <td>16.0</td>\n",
       "      <td>512.0</td>\n",
       "      <td>0.0</td>\n",
       "      <td>GeForce GTX1650 4Gb</td>\n",
       "      <td>NaN</td>\n",
       "      <td>15.6</td>\n",
       "      <td>Windows 11</td>\n",
       "      <td>356400</td>\n",
       "      <td>330000</td>\n",
       "      <td>18400</td>\n",
       "      <td>Core i5</td>\n",
       "      <td>GeForce</td>\n",
       "      <td>2</td>\n",
       "    </tr>\n",
       "  </tbody>\n",
       "</table>\n",
       "</div>"
      ],
      "text/plain": [
       "      id  flip  touchscreen brand                     full brand  \\\n",
       "64    21   0.0          0.0    HP                HP 15s-eq3013ci   \n",
       "81    78   0.0          1.0    HP           HP 17-cn0065cl Touch   \n",
       "82   138   0.0          1.0    HP           HP 17-cn0065cl Touch   \n",
       "94    77   0.0          1.0    HP  HP Pavilion 15-eh2085cl Touch   \n",
       "95   137   0.0          1.0    HP  HP Pavilion 15-eh2085cl Touch   \n",
       "104   67   0.0          0.0    HP          HP Victus 15-fa0031dx   \n",
       "105  127   0.0          0.0    HP          HP Victus 15-fa0031dx   \n",
       "\n",
       "            processor   ram    ssd  hdd                    graphics  spec  \\\n",
       "64     Ryzen 5 5625U   16.0  512.0  0.0            Radeon Graphics    NaN   \n",
       "81    Core i7 1165G7   16.0  512.0  0.0   Intel Iris Plus Graphics    NaN   \n",
       "82    Core i7 1165G7   16.0  512.0  0.0   Intel Iris Plus Graphics    NaN   \n",
       "94     Ryzen 7 5825U   16.0  512.0  0.0            Radeon Graphics    NaN   \n",
       "95     Ryzen 7 5825U   16.0  512.0  0.0            Radeon Graphics    NaN   \n",
       "104   Core i5 12450H   16.0  512.0  0.0        GeForce GTX1650 4Gb    NaN   \n",
       "105   Core i5 12450H   16.0  512.0  0.0        GeForce GTX1650 4Gb    NaN   \n",
       "\n",
       "     screen         dos   price  pricecash  pricemonthly processor1  \\\n",
       "64     15.6         Dos  255900     237000         13200    Ryzen 5   \n",
       "81     17.3  Windows 11  375800     348000         19400    Core i7   \n",
       "82     17.3  Windows 11  375800     348000         19400    Core i7   \n",
       "94     15.6  Windows 11  374700     347000         19300    Ryzen 7   \n",
       "95     15.6  Windows 11  374700     347000         19300    Ryzen 7   \n",
       "104    15.6  Windows 11  356400     330000         18400    Core i5   \n",
       "105    15.6  Windows 11  356400     330000         18400    Core i5   \n",
       "\n",
       "       grafika  labels  \n",
       "64    Radeon G       2  \n",
       "81    Intel Ir       2  \n",
       "82    Intel Ir       2  \n",
       "94    Radeon G       2  \n",
       "95    Radeon G       2  \n",
       "104   GeForce        2  \n",
       "105   GeForce        2  "
      ]
     },
     "execution_count": 223,
     "metadata": {},
     "output_type": "execute_result"
    }
   ],
   "source": [
    "choice[choice['brand']=='HP']"
   ]
  },
  {
   "cell_type": "code",
   "execution_count": 229,
   "metadata": {},
   "outputs": [
    {
     "data": {
      "text/html": [
       "<div>\n",
       "<style scoped>\n",
       "    .dataframe tbody tr th:only-of-type {\n",
       "        vertical-align: middle;\n",
       "    }\n",
       "\n",
       "    .dataframe tbody tr th {\n",
       "        vertical-align: top;\n",
       "    }\n",
       "\n",
       "    .dataframe thead th {\n",
       "        text-align: right;\n",
       "    }\n",
       "</style>\n",
       "<table border=\"1\" class=\"dataframe\">\n",
       "  <thead>\n",
       "    <tr style=\"text-align: right;\">\n",
       "      <th></th>\n",
       "      <th>id</th>\n",
       "      <th>flip</th>\n",
       "      <th>touchscreen</th>\n",
       "      <th>brand</th>\n",
       "      <th>full brand</th>\n",
       "      <th>processor</th>\n",
       "      <th>ram</th>\n",
       "      <th>ssd</th>\n",
       "      <th>hdd</th>\n",
       "      <th>graphics</th>\n",
       "      <th>spec</th>\n",
       "      <th>screen</th>\n",
       "      <th>dos</th>\n",
       "      <th>price</th>\n",
       "      <th>pricecash</th>\n",
       "      <th>pricemonthly</th>\n",
       "      <th>processor1</th>\n",
       "      <th>grafika</th>\n",
       "    </tr>\n",
       "    <tr>\n",
       "      <th>labels</th>\n",
       "      <th></th>\n",
       "      <th></th>\n",
       "      <th></th>\n",
       "      <th></th>\n",
       "      <th></th>\n",
       "      <th></th>\n",
       "      <th></th>\n",
       "      <th></th>\n",
       "      <th></th>\n",
       "      <th></th>\n",
       "      <th></th>\n",
       "      <th></th>\n",
       "      <th></th>\n",
       "      <th></th>\n",
       "      <th></th>\n",
       "      <th></th>\n",
       "      <th></th>\n",
       "      <th></th>\n",
       "    </tr>\n",
       "  </thead>\n",
       "  <tbody>\n",
       "    <tr>\n",
       "      <th>0</th>\n",
       "      <td>16</td>\n",
       "      <td>0.0</td>\n",
       "      <td>0.0</td>\n",
       "      <td>Acer</td>\n",
       "      <td>Acer Swift 3 SF313-53G-501C</td>\n",
       "      <td>Core i5 10210U</td>\n",
       "      <td>4.0</td>\n",
       "      <td>128.0</td>\n",
       "      <td>0.0</td>\n",
       "      <td>Geforce MX350 2Gb</td>\n",
       "      <td>1.0</td>\n",
       "      <td>13.3</td>\n",
       "      <td>Chrome OS</td>\n",
       "      <td>230000</td>\n",
       "      <td>213000</td>\n",
       "      <td>11800</td>\n",
       "      <td>Core i5</td>\n",
       "      <td>GeForce</td>\n",
       "    </tr>\n",
       "    <tr>\n",
       "      <th>1</th>\n",
       "      <td>7</td>\n",
       "      <td>0.0</td>\n",
       "      <td>0.0</td>\n",
       "      <td>Acer</td>\n",
       "      <td>Acer Aspire 3 A315-59-79CL</td>\n",
       "      <td>Core i3 1005G1</td>\n",
       "      <td>4.0</td>\n",
       "      <td>128.0</td>\n",
       "      <td>0.0</td>\n",
       "      <td>GeForce GTX1650 4Gb</td>\n",
       "      <td>1.0</td>\n",
       "      <td>15.6</td>\n",
       "      <td>Dos</td>\n",
       "      <td>182500</td>\n",
       "      <td>169000</td>\n",
       "      <td>9400</td>\n",
       "      <td>Core i3</td>\n",
       "      <td>GeForce</td>\n",
       "    </tr>\n",
       "    <tr>\n",
       "      <th>2</th>\n",
       "      <td>21</td>\n",
       "      <td>0.0</td>\n",
       "      <td>0.0</td>\n",
       "      <td>Acer</td>\n",
       "      <td>Acer Aspire A515-56-765W</td>\n",
       "      <td>Core i5 11400H</td>\n",
       "      <td>12.0</td>\n",
       "      <td>256.0</td>\n",
       "      <td>0.0</td>\n",
       "      <td>GeForce GTX1650 4Gb</td>\n",
       "      <td>NaN</td>\n",
       "      <td>14.0</td>\n",
       "      <td>Dos</td>\n",
       "      <td>255900</td>\n",
       "      <td>237000</td>\n",
       "      <td>13200</td>\n",
       "      <td>Core i5</td>\n",
       "      <td>GeForce</td>\n",
       "    </tr>\n",
       "    <tr>\n",
       "      <th>3</th>\n",
       "      <td>11</td>\n",
       "      <td>0.0</td>\n",
       "      <td>0.0</td>\n",
       "      <td>Acer</td>\n",
       "      <td>Acer Aspire A315-59G-50FH</td>\n",
       "      <td>Core i3 10110U</td>\n",
       "      <td>4.0</td>\n",
       "      <td>0.0</td>\n",
       "      <td>1.0</td>\n",
       "      <td>GeForce GTX1650 4Gb</td>\n",
       "      <td>1.0</td>\n",
       "      <td>14.0</td>\n",
       "      <td>Dos</td>\n",
       "      <td>199800</td>\n",
       "      <td>185000</td>\n",
       "      <td>10300</td>\n",
       "      <td>Core i3</td>\n",
       "      <td>GeForce</td>\n",
       "    </tr>\n",
       "    <tr>\n",
       "      <th>4</th>\n",
       "      <td>27</td>\n",
       "      <td>0.0</td>\n",
       "      <td>0.0</td>\n",
       "      <td>Acer</td>\n",
       "      <td>.Asus VivoBook K1703ZA-SB54</td>\n",
       "      <td>Core i5 11260H</td>\n",
       "      <td>4.0</td>\n",
       "      <td>512.0</td>\n",
       "      <td>0.0</td>\n",
       "      <td>GeForce GTX1650 4Gb</td>\n",
       "      <td>1.0</td>\n",
       "      <td>15.6</td>\n",
       "      <td>Dos</td>\n",
       "      <td>268900</td>\n",
       "      <td>249000</td>\n",
       "      <td>13800</td>\n",
       "      <td>Core i5</td>\n",
       "      <td>GeForce</td>\n",
       "    </tr>\n",
       "  </tbody>\n",
       "</table>\n",
       "</div>"
      ],
      "text/plain": [
       "        id  flip  touchscreen  brand                   full brand  \\\n",
       "labels                                                              \n",
       "0       16   0.0          0.0  Acer   Acer Swift 3 SF313-53G-501C   \n",
       "1        7   0.0          0.0  Acer    Acer Aspire 3 A315-59-79CL   \n",
       "2       21   0.0          0.0  Acer      Acer Aspire A515-56-765W   \n",
       "3       11   0.0          0.0  Acer     Acer Aspire A315-59G-50FH   \n",
       "4       27   0.0          0.0  Acer   .Asus VivoBook K1703ZA-SB54   \n",
       "\n",
       "               processor   ram    ssd  hdd               graphics  spec  \\\n",
       "labels                                                                    \n",
       "0        Core i5 10210U    4.0  128.0  0.0     Geforce MX350 2Gb    1.0   \n",
       "1        Core i3 1005G1    4.0  128.0  0.0   GeForce GTX1650 4Gb    1.0   \n",
       "2        Core i5 11400H   12.0  256.0  0.0   GeForce GTX1650 4Gb    NaN   \n",
       "3        Core i3 10110U    4.0    0.0  1.0   GeForce GTX1650 4Gb    1.0   \n",
       "4        Core i5 11260H    4.0  512.0  0.0   GeForce GTX1650 4Gb    1.0   \n",
       "\n",
       "        screen          dos   price  pricecash  pricemonthly processor1  \\\n",
       "labels                                                                    \n",
       "0         13.3    Chrome OS  230000     213000         11800    Core i5   \n",
       "1         15.6          Dos  182500     169000          9400    Core i3   \n",
       "2         14.0          Dos  255900     237000         13200    Core i5   \n",
       "3         14.0          Dos  199800     185000         10300    Core i3   \n",
       "4         15.6          Dos  268900     249000         13800    Core i5   \n",
       "\n",
       "          grafika  \n",
       "labels             \n",
       "0        GeForce   \n",
       "1        GeForce   \n",
       "2        GeForce   \n",
       "3        GeForce   \n",
       "4        GeForce   "
      ]
     },
     "execution_count": 229,
     "metadata": {},
     "output_type": "execute_result"
    }
   ],
   "source": [
    "min_price=df_fin.groupby(['labels']).min()\n",
    "min_price"
   ]
  },
  {
   "cell_type": "markdown",
   "metadata": {},
   "source": [
    "***Though I would like to choose a new brand for notebook, in google still people say that HP is more powerfull laptop for working professionals.It turned out that all the relevant notebooks I would like to choose belong to 2 cluster.Maybe I will choose between laptops in 2nd & 4th clusters.***"
   ]
  }
 ],
 "metadata": {
  "kernelspec": {
   "display_name": "Python 3 (ipykernel)",
   "language": "python",
   "name": "python3"
  },
  "language_info": {
   "codemirror_mode": {
    "name": "ipython",
    "version": 3
   },
   "file_extension": ".py",
   "mimetype": "text/x-python",
   "name": "python",
   "nbconvert_exporter": "python",
   "pygments_lexer": "ipython3",
   "version": "3.10.9"
  }
 },
 "nbformat": 4,
 "nbformat_minor": 4
}
