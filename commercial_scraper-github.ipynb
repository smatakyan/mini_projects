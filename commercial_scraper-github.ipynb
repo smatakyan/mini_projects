{
 "cells": [
  {
   "cell_type": "markdown",
   "metadata": {},
   "source": [
    "# WEB-SCRAPING PROJECT\n",
    "\n",
    "I need to replace my laptop.It is already not powerfull enough to serve my needs.The choice of laptops is large & one can spend hours in the shop asking the assisstant different questions & annoying them in the end. \n",
    "So I decided to scrape some data from a commercial site, thus both practiced web scraping & solved a real-life problem I had encountered.\n",
    "* Technology: selenium, pandas\n",
    "* Problems faced when scraping: when scrolling page there was a link-text \"Load more\", which stopped automatic loading of the     page and should be clicked. When researching html, I found out that we have certain number of pages,so decided to loop over     the pages.\n",
    "* Data cleaning rule: when cleaning data I found out several key varying parameters, which would not obey a single rule & would destruct the table's structure. First, I decided to separate MacBooks, since their parameter listing was different from others.Since I didn't plan to buy a MacBook I left the df_apple unprocessed.Then I saw that presence of 'HDD','SSD' varied among laptops, so main df divided into 3 dfs: with both hdd & ssd, with only hdd, with only ssd. Then combined 3 dfs to get 1 df."
   ]
  },
  {
   "cell_type": "code",
   "execution_count": 383,
   "metadata": {},
   "outputs": [],
   "source": [
    "import pandas as pd\n",
    "import matplotlib.pyplot as plt"
   ]
  },
  {
   "cell_type": "code",
   "execution_count": 384,
   "metadata": {},
   "outputs": [],
   "source": [
    "from selenium import webdriver\n",
    "from selenium.webdriver.common.keys import Keys\n",
    "from selenium.webdriver.support import expected_conditions as EC\n",
    "from selenium.webdriver.common.by import By\n",
    "from selenium.webdriver.support.wait import WebDriverWait\n",
    "import time"
   ]
  },
  {
   "cell_type": "code",
   "execution_count": 385,
   "metadata": {},
   "outputs": [],
   "source": [
    "chrome_options = webdriver.ChromeOptions()\n",
    "prefs = {\"profile.default_content_setting_values.notifications\" : 2}\n",
    "chrome_options.add_experimental_option(\"prefs\",prefs)"
   ]
  },
  {
   "cell_type": "code",
   "execution_count": 386,
   "metadata": {},
   "outputs": [
    {
     "name": "stderr",
     "output_type": "stream",
     "text": [
      "C:\\Users\\Universe\\AppData\\Local\\Temp\\ipykernel_7444\\1380345671.py:2: DeprecationWarning: executable_path has been deprecated, please pass in a Service object\n",
      "  driver = webdriver.Chrome('C:\\\\Program Files (x86)\\\\Google\\\\Chrome\\\\Application\\\\chromedriver.exe', chrome_options=chrome_options)\n",
      "C:\\Users\\Universe\\AppData\\Local\\Temp\\ipykernel_7444\\1380345671.py:2: DeprecationWarning: use options instead of chrome_options\n",
      "  driver = webdriver.Chrome('C:\\\\Program Files (x86)\\\\Google\\\\Chrome\\\\Application\\\\chromedriver.exe', chrome_options=chrome_options)\n"
     ]
    }
   ],
   "source": [
    "#specify the path to chromedriver.exe (download and save on your computer)\n",
    "driver = webdriver.Chrome('C:\\\\XXXXXXX\\\\Google\\\\Chrome\\\\Application\\\\chromedriver.exe', chrome_options=chrome_options)"
   ]
  },
  {
   "cell_type": "code",
   "execution_count": 387,
   "metadata": {},
   "outputs": [],
   "source": [
    "from selenium.webdriver.support.select import Select"
   ]
  },
  {
   "cell_type": "code",
   "execution_count": 395,
   "metadata": {},
   "outputs": [
    {
     "name": "stderr",
     "output_type": "stream",
     "text": [
      "C:\\Users\\Universe\\AppData\\Local\\Temp\\ipykernel_7444\\1882413339.py:5: DeprecationWarning: executable_path has been deprecated, please pass in a Service object\n",
      "  driver = webdriver.Chrome('C:\\\\Program Files (x86)\\\\Google\\\\Chrome\\\\Application\\\\chromedriver.exe', chrome_options=chrome_options)\n",
      "C:\\Users\\Universe\\AppData\\Local\\Temp\\ipykernel_7444\\1882413339.py:5: DeprecationWarning: use options instead of chrome_options\n",
      "  driver = webdriver.Chrome('C:\\\\Program Files (x86)\\\\Google\\\\Chrome\\\\Application\\\\chromedriver.exe', chrome_options=chrome_options)\n"
     ]
    }
   ],
   "source": [
    "anchlarge=dict()\n",
    "for i in range(1,8):\n",
    "    driver = webdriver.Chrome('C:\\\\XXXXXXXX\\\\Google\\\\Chrome\\\\Application\\\\chromedriver.exe', chrome_options=chrome_options)\n",
    "    driver.get('https://XXXXXXXXXX.XX/XXXXXX/XXXXXX/?page='+str(i))\n",
    "    time.sleep(5)\n",
    "    for j in range(1,10):  \n",
    "        time.sleep(10)   \n",
    "        driver.execute_script(\"window.scrollTo(0, document.body.scrollHeight);\")\n",
    "        time.sleep(10)\n",
    "        anchors = driver.find_elements(By.CLASS_NAME, 'product-item')\n",
    "        anchlarge[i] = anchors\n",
    "        time.sleep(10)"
   ]
  },
  {
   "cell_type": "code",
   "execution_count": 396,
   "metadata": {},
   "outputs": [],
   "source": [
    "large=[]\n",
    "for k in anchlarge.keys():\n",
    "    large.extend(anchlarge[k])"
   ]
  },
  {
   "cell_type": "code",
   "execution_count": 397,
   "metadata": {},
   "outputs": [],
   "source": [
    "listing=dict()\n",
    "for i in range(len(large)):\n",
    "    listing[i] = large[i].text"
   ]
  },
  {
   "cell_type": "code",
   "execution_count": 526,
   "metadata": {},
   "outputs": [],
   "source": [
    "df = pd.DataFrame(listing.values())"
   ]
  },
  {
   "cell_type": "code",
   "execution_count": 527,
   "metadata": {},
   "outputs": [],
   "source": [
    "import warnings\n",
    "warnings.filterwarnings('ignore')"
   ]
  },
  {
   "cell_type": "code",
   "execution_count": 528,
   "metadata": {},
   "outputs": [],
   "source": [
    "df.rename(columns={0:'description'},inplace=True)"
   ]
  },
  {
   "cell_type": "code",
   "execution_count": 529,
   "metadata": {},
   "outputs": [],
   "source": [
    "df_apple = df[(df['description'].str.contains('MacOS')==True)]"
   ]
  },
  {
   "cell_type": "code",
   "execution_count": 530,
   "metadata": {},
   "outputs": [
    {
     "data": {
      "text/html": [
       "<div>\n",
       "<style scoped>\n",
       "    .dataframe tbody tr th:only-of-type {\n",
       "        vertical-align: middle;\n",
       "    }\n",
       "\n",
       "    .dataframe tbody tr th {\n",
       "        vertical-align: top;\n",
       "    }\n",
       "\n",
       "    .dataframe thead th {\n",
       "        text-align: right;\n",
       "    }\n",
       "</style>\n",
       "<table border=\"1\" class=\"dataframe\">\n",
       "  <thead>\n",
       "    <tr style=\"text-align: right;\">\n",
       "      <th></th>\n",
       "      <th>description</th>\n",
       "    </tr>\n",
       "  </thead>\n",
       "  <tbody>\n",
       "    <tr>\n",
       "      <th>252</th>\n",
       "      <td>MacBook Pro MPHF3 (2023)\\n14.2 դյույմ / 16 ԳԲ ...</td>\n",
       "    </tr>\n",
       "    <tr>\n",
       "      <th>254</th>\n",
       "      <td>Macbook Pro MNW93 (2023)\\n16.2 դյույմ / 16 ԳԲ ...</td>\n",
       "    </tr>\n",
       "    <tr>\n",
       "      <th>255</th>\n",
       "      <td>Macbook Pro MNWD3 (2023)\\n16.2 դյույմ / 16 ԳԲ ...</td>\n",
       "    </tr>\n",
       "    <tr>\n",
       "      <th>261</th>\n",
       "      <td>MacBook Pro 16 MK1A3 (2021)\\n16.2 դյույմ / 32 ...</td>\n",
       "    </tr>\n",
       "    <tr>\n",
       "      <th>264</th>\n",
       "      <td>Macbook Pro MNWA3 (2023)\\n16.2 դյույմ / 32 ԳԲ ...</td>\n",
       "    </tr>\n",
       "  </tbody>\n",
       "</table>\n",
       "</div>"
      ],
      "text/plain": [
       "                                           description\n",
       "252  MacBook Pro MPHF3 (2023)\\n14.2 դյույմ / 16 ԳԲ ...\n",
       "254  Macbook Pro MNW93 (2023)\\n16.2 դյույմ / 16 ԳԲ ...\n",
       "255  Macbook Pro MNWD3 (2023)\\n16.2 դյույմ / 16 ԳԲ ...\n",
       "261  MacBook Pro 16 MK1A3 (2021)\\n16.2 դյույմ / 32 ...\n",
       "264  Macbook Pro MNWA3 (2023)\\n16.2 դյույմ / 32 ԳԲ ..."
      ]
     },
     "execution_count": 530,
     "metadata": {},
     "output_type": "execute_result"
    }
   ],
   "source": [
    "df_apple.tail()"
   ]
  },
  {
   "cell_type": "code",
   "execution_count": 531,
   "metadata": {},
   "outputs": [],
   "source": [
    "df.drop(df[(df['description'].str.contains('MacOS')==True)].index, inplace =True)"
   ]
  },
  {
   "cell_type": "code",
   "execution_count": 532,
   "metadata": {},
   "outputs": [],
   "source": [
    "df_hdd_ssd = df[(df['description'].str.contains('HDD') == True) & (df['description'].str.contains('SSD') == True)]"
   ]
  },
  {
   "cell_type": "code",
   "execution_count": 533,
   "metadata": {},
   "outputs": [],
   "source": [
    "df.drop(df[(df['description'].str.contains('HDD') == True) & (df['description'].str.contains('SSD') == True)].index, inplace =True)"
   ]
  },
  {
   "cell_type": "code",
   "execution_count": 534,
   "metadata": {},
   "outputs": [],
   "source": [
    "df_hdd = df[(df['description'].str.contains('HDD') == True)]\n",
    "df_ssd = df[(df['description'].str.contains('SSD') == True)]"
   ]
  },
  {
   "cell_type": "code",
   "execution_count": 535,
   "metadata": {},
   "outputs": [],
   "source": [
    "df.drop(df[(df['description'].str.contains('HDD') == True)].index, inplace =True)\n",
    "df.drop(df[(df['description'].str.contains('SSD') == True)].index, inplace =True)"
   ]
  },
  {
   "cell_type": "code",
   "execution_count": 536,
   "metadata": {},
   "outputs": [
    {
     "data": {
      "text/plain": [
       "7"
      ]
     },
     "execution_count": 536,
     "metadata": {},
     "output_type": "execute_result"
    }
   ],
   "source": [
    "len(df_hdd_ssd)"
   ]
  },
  {
   "cell_type": "code",
   "execution_count": 537,
   "metadata": {},
   "outputs": [],
   "source": [
    "#df_hdd_ssd"
   ]
  },
  {
   "cell_type": "code",
   "execution_count": 538,
   "metadata": {},
   "outputs": [],
   "source": [
    "       df_hdd_ssd['flip']= df_hdd_ssd['description'].str.contains(' Flip /')\n",
    "df_hdd_ssd['description']= df_hdd_ssd['description'].str.replace(' Flip /','')\n",
    "       df_hdd_ssd['flip']= df_hdd_ssd['description'].str.contains(' Flip 360 /')\n",
    "df_hdd_ssd['description']= df_hdd_ssd['description'].str.replace(' Flip 360 /','')\n",
    "df_hdd_ssd['touchscreen']= df_hdd_ssd['description'].str.contains(\"Touch Screen/\")\n",
    "df_hdd_ssd['description']= df_hdd_ssd['description'].str.replace(\"Touch Screen/\",'')\n",
    "df_hdd_ssd['touchscreen']= df_hdd_ssd['description'].str.contains(\"Touch Screen /\")\n",
    "df_hdd_ssd['description']= df_hdd_ssd['description'].str.replace(\"Touch Screen /\",'')"
   ]
  },
  {
   "cell_type": "code",
   "execution_count": 539,
   "metadata": {},
   "outputs": [],
   "source": [
    "#hdd"
   ]
  },
  {
   "cell_type": "code",
   "execution_count": 540,
   "metadata": {},
   "outputs": [],
   "source": [
    "       df_hdd['flip']= df_hdd['description'].str.contains(' Flip /')\n",
    "df_hdd['description']= df_hdd['description'].str.replace(' Flip /','')\n",
    "       df_hdd['flip']= df_hdd['description'].str.contains(' Flip 360 /')\n",
    "df_hdd['description']= df_hdd['description'].str.replace(' Flip 360 /','')\n",
    "df_hdd['touchscreen']= df_hdd['description'].str.contains(\"Touch Screen/\")\n",
    "df_hdd['description']= df_hdd['description'].str.replace(\"Touch Screen/\",'')\n",
    "df_hdd['touchscreen']= df_hdd['description'].str.contains(\"Touch Screen /\")\n",
    "df_hdd['description']= df_hdd['description'].str.replace(\"Touch Screen /\",'')"
   ]
  },
  {
   "cell_type": "code",
   "execution_count": 541,
   "metadata": {},
   "outputs": [],
   "source": [
    "#ssd"
   ]
  },
  {
   "cell_type": "code",
   "execution_count": 542,
   "metadata": {},
   "outputs": [],
   "source": [
    "       df_ssd['flip']= df_ssd['description'].str.contains(' Flip /')\n",
    "df_ssd['description']= df_ssd['description'].str.replace(' Flip /','')\n",
    "       df_ssd['flip']= df_ssd['description'].str.contains(' Flip 360 /')\n",
    "df_ssd['description']= df_ssd['description'].str.replace(' Flip 360 /','')\n",
    "df_ssd['touchscreen']= df_ssd['description'].str.contains(\"Touch Screen/\")\n",
    "df_ssd['description']= df_ssd['description'].str.replace(\"Touch Screen/\",'')\n",
    "df_ssd['touchscreen']= df_ssd['description'].str.contains(\"Touch Screen /\")\n",
    "df_ssd['description']= df_ssd['description'].str.replace(\"Touch Screen /\",'')"
   ]
  },
  {
   "cell_type": "code",
   "execution_count": 543,
   "metadata": {},
   "outputs": [],
   "source": [
    "#df_hdd_ssd"
   ]
  },
  {
   "cell_type": "code",
   "execution_count": 544,
   "metadata": {},
   "outputs": [],
   "source": [
    "df_hdd_ssd[['brand','processor','ram','ssd','hdd','graphics','param5']] = df_hdd_ssd['description'].str.split('/',expand=True)"
   ]
  },
  {
   "cell_type": "code",
   "execution_count": 546,
   "metadata": {},
   "outputs": [],
   "source": [
    "df_hdd_ssd['spec'] = df_hdd_ssd['brand'].str.contains(\"XXXXX\")\n",
    "df_hdd_ssd['brand']=df_hdd_ssd['brand'].str.replace(\"XXXXXX\\n\",'')\n",
    "df_hdd_ssd['brand']=df_hdd_ssd['brand'].str.replace(\"XXXXXXX\\n\",'')"
   ]
  },
  {
   "cell_type": "code",
   "execution_count": 547,
   "metadata": {},
   "outputs": [],
   "source": [
    "df_hdd_ssd[['brand','screen']] = df_hdd_ssd['brand'].str.split('\\n',expand=True)"
   ]
  },
  {
   "cell_type": "code",
   "execution_count": 548,
   "metadata": {},
   "outputs": [],
   "source": [
    "df_hdd_ssd[['dos','pr','price','pr1','pricecash','pr2','pricemonthly']] = df_hdd_ssd['param5'].str.split('\\n',expand=True)"
   ]
  },
  {
   "cell_type": "code",
   "execution_count": 549,
   "metadata": {},
   "outputs": [],
   "source": [
    "df_hdd_ssd['price'] = df_hdd_ssd['price'].str.replace('֏','')\n",
    "df_hdd_ssd['pricecash'] = df_hdd_ssd['pricecash'].str.replace('֏','')\n",
    "df_hdd_ssd['pricemonthly'] = df_hdd_ssd['pricemonthly'].str.replace('֏','')"
   ]
  },
  {
   "cell_type": "code",
   "execution_count": 551,
   "metadata": {},
   "outputs": [],
   "source": [
    "#hdd"
   ]
  },
  {
   "cell_type": "code",
   "execution_count": 552,
   "metadata": {},
   "outputs": [],
   "source": [
    "df_hdd[['brand','processor','ram','hdd','graphics','param5']] = df_hdd['description'].str.split('/',expand=True)"
   ]
  },
  {
   "cell_type": "code",
   "execution_count": 556,
   "metadata": {},
   "outputs": [],
   "source": [
    "df_hdd['spec'] = df_hdd['brand'].str.contains(\"XXXXXXXXXXX\")\n",
    "df_hdd['brand'] = df_hdd['brand'].str.replace(\"XXXXXXXXXXX\\n\",'')\n",
    "df_hdd['brand'] = df_hdd['brand'].str.replace(\"XXXXXXXXXXX\\n\",'')\n",
    "df_hdd[['brand','screen']] = df_hdd['brand'].str.split('\\n',expand=True)\n",
    "df_hdd[['dos','pr','price','pr1','pricecash','pr2','pricemonthly']] = df_hdd['param5'].str.split('\\n',expand=True)\n",
    "df_hdd['price'] = df_hdd['price'].str.replace('֏','')\n",
    "df_hdd['pricecash'] = df_hdd['pricecash'].str.replace('֏','')\n",
    "df_hdd['pricemonthly'] = df_hdd['pricemonthly'].str.replace('֏','')"
   ]
  },
  {
   "cell_type": "code",
   "execution_count": 558,
   "metadata": {},
   "outputs": [],
   "source": [
    "#ssd"
   ]
  },
  {
   "cell_type": "code",
   "execution_count": 559,
   "metadata": {},
   "outputs": [],
   "source": [
    "df_ssd[['brand','processor','ram','ssd','graphics','param5']] = df_ssd['description'].str.split('/',expand=True)"
   ]
  },
  {
   "cell_type": "code",
   "execution_count": 561,
   "metadata": {},
   "outputs": [
    {
     "data": {
      "text/html": [
       "<div>\n",
       "<style scoped>\n",
       "    .dataframe tbody tr th:only-of-type {\n",
       "        vertical-align: middle;\n",
       "    }\n",
       "\n",
       "    .dataframe tbody tr th {\n",
       "        vertical-align: top;\n",
       "    }\n",
       "\n",
       "    .dataframe thead th {\n",
       "        text-align: right;\n",
       "    }\n",
       "</style>\n",
       "<table border=\"1\" class=\"dataframe\">\n",
       "  <thead>\n",
       "    <tr style=\"text-align: right;\">\n",
       "      <th></th>\n",
       "      <th>description</th>\n",
       "      <th>flip</th>\n",
       "      <th>touchscreen</th>\n",
       "      <th>brand</th>\n",
       "      <th>processor</th>\n",
       "      <th>ram</th>\n",
       "      <th>ssd</th>\n",
       "      <th>graphics</th>\n",
       "      <th>param5</th>\n",
       "    </tr>\n",
       "  </thead>\n",
       "  <tbody>\n",
       "    <tr>\n",
       "      <th>258</th>\n",
       "      <td>Dell Alienware M15 R7\\n15.6 դյույմ / Core i9 1...</td>\n",
       "      <td>False</td>\n",
       "      <td>False</td>\n",
       "      <td>Dell Alienware M15 R7\\n15.6 դյույմ</td>\n",
       "      <td>Core i9 12900H</td>\n",
       "      <td>32 ԳԲ RAM</td>\n",
       "      <td>1 ՏԲ SSD</td>\n",
       "      <td>GeForce RTX3080 10Gb</td>\n",
       "      <td>Windows 11\\nԳինը\\n1 299 200 ֏\\nԳինը կանխիկ\\n1...</td>\n",
       "    </tr>\n",
       "    <tr>\n",
       "      <th>259</th>\n",
       "      <td>Dell Precision 7670\\n16 դյույմ / Core i7 12850...</td>\n",
       "      <td>False</td>\n",
       "      <td>False</td>\n",
       "      <td>Dell Precision 7670\\n16 դյույմ</td>\n",
       "      <td>Core i7 12850HX</td>\n",
       "      <td>64 ԳԲ RAM</td>\n",
       "      <td>512 ԳԲ SSD</td>\n",
       "      <td>Geforce RTX A4500 16GB</td>\n",
       "      <td>Windows 11 Pro\\nԳինը\\n1 312 200 ֏\\nԳինը կանխի...</td>\n",
       "    </tr>\n",
       "    <tr>\n",
       "      <th>260</th>\n",
       "      <td>MSI Raider GE67HX 12UHS-069US OLED\\n15.6 դյույ...</td>\n",
       "      <td>False</td>\n",
       "      <td>False</td>\n",
       "      <td>MSI Raider GE67HX 12UHS-069US OLED\\n15.6 դյույմ</td>\n",
       "      <td>Core i9 12900HX</td>\n",
       "      <td>32 ԳԲ RAM</td>\n",
       "      <td>1 ՏԲ SSD</td>\n",
       "      <td>GeForce RTX3080Ti 16Gb</td>\n",
       "      <td>Windows 11 Pro\\nԳինը\\n1 355 400 ֏\\nԳինը կանխի...</td>\n",
       "    </tr>\n",
       "    <tr>\n",
       "      <th>262</th>\n",
       "      <td>Asus ROG Strix G16 G614JI-AS94\\n16 դյույմ / Co...</td>\n",
       "      <td>False</td>\n",
       "      <td>False</td>\n",
       "      <td>Asus ROG Strix G16 G614JI-AS94\\n16 դյույմ</td>\n",
       "      <td>Core i9 13980HX</td>\n",
       "      <td>16 ԳԲ RAM</td>\n",
       "      <td>1 ՏԲ SSD</td>\n",
       "      <td>GeForce RTX4070 8GB</td>\n",
       "      <td>Windows 11\\nԳինը\\n1 399 600 ֏\\nԳինը կանխիկ\\n1...</td>\n",
       "    </tr>\n",
       "    <tr>\n",
       "      <th>263</th>\n",
       "      <td>MSI Raider GE78HX 13VH-080US\\n17.3 դյույմ / Co...</td>\n",
       "      <td>False</td>\n",
       "      <td>False</td>\n",
       "      <td>MSI Raider GE78HX 13VH-080US\\n17.3 դյույմ</td>\n",
       "      <td>Core i9 13980HX</td>\n",
       "      <td>64 ԳԲ RAM</td>\n",
       "      <td>2 ՏԲ SSD</td>\n",
       "      <td>GeForce RTX4080 12Gb</td>\n",
       "      <td>Windows 11 Pro\\nԳինը\\n1 655 600 ֏\\nԳինը կանխի...</td>\n",
       "    </tr>\n",
       "  </tbody>\n",
       "</table>\n",
       "</div>"
      ],
      "text/plain": [
       "                                           description   flip  touchscreen  \\\n",
       "258  Dell Alienware M15 R7\\n15.6 դյույմ / Core i9 1...  False        False   \n",
       "259  Dell Precision 7670\\n16 դյույմ / Core i7 12850...  False        False   \n",
       "260  MSI Raider GE67HX 12UHS-069US OLED\\n15.6 դյույ...  False        False   \n",
       "262  Asus ROG Strix G16 G614JI-AS94\\n16 դյույմ / Co...  False        False   \n",
       "263  MSI Raider GE78HX 13VH-080US\\n17.3 դյույմ / Co...  False        False   \n",
       "\n",
       "                                                brand          processor  \\\n",
       "258               Dell Alienware M15 R7\\n15.6 դյույմ     Core i9 12900H    \n",
       "259                   Dell Precision 7670\\n16 դյույմ    Core i7 12850HX    \n",
       "260  MSI Raider GE67HX 12UHS-069US OLED\\n15.6 դյույմ    Core i9 12900HX    \n",
       "262        Asus ROG Strix G16 G614JI-AS94\\n16 դյույմ    Core i9 13980HX    \n",
       "263        MSI Raider GE78HX 13VH-080US\\n17.3 դյույմ    Core i9 13980HX    \n",
       "\n",
       "             ram           ssd                  graphics  \\\n",
       "258   32 ԳԲ RAM      1 ՏԲ SSD      GeForce RTX3080 10Gb    \n",
       "259   64 ԳԲ RAM    512 ԳԲ SSD    Geforce RTX A4500 16GB    \n",
       "260   32 ԳԲ RAM      1 ՏԲ SSD    GeForce RTX3080Ti 16Gb    \n",
       "262   16 ԳԲ RAM      1 ՏԲ SSD       GeForce RTX4070 8GB    \n",
       "263   64 ԳԲ RAM      2 ՏԲ SSD      GeForce RTX4080 12Gb    \n",
       "\n",
       "                                                param5  \n",
       "258   Windows 11\\nԳինը\\n1 299 200 ֏\\nԳինը կանխիկ\\n1...  \n",
       "259   Windows 11 Pro\\nԳինը\\n1 312 200 ֏\\nԳինը կանխի...  \n",
       "260   Windows 11 Pro\\nԳինը\\n1 355 400 ֏\\nԳինը կանխի...  \n",
       "262   Windows 11\\nԳինը\\n1 399 600 ֏\\nԳինը կանխիկ\\n1...  \n",
       "263   Windows 11 Pro\\nԳինը\\n1 655 600 ֏\\nԳինը կանխի...  "
      ]
     },
     "execution_count": 561,
     "metadata": {},
     "output_type": "execute_result"
    }
   ],
   "source": [
    "df_ssd.tail()"
   ]
  },
  {
   "cell_type": "code",
   "execution_count": 562,
   "metadata": {},
   "outputs": [],
   "source": [
    "df_ssd['spec'] = df_ssd['brand'].str.contains(\"XXXXXXXXXXX\")\n",
    "df_ssd['brand'] = df_ssd['brand'].str.replace(\"XXXXXXXXXXX\\n\",'')\n",
    "df_ssd['brand'] = df_ssd['brand'].str.replace(\"XXXXXXXXXXX\\n\",'')\n",
    "df_ssd[['brand','screen']] = df_ssd['brand'].str.split('\\n',expand=True)\n",
    "df_ssd[['dos','pr','price','pr1','pricecash','pr2','pricemonthly']] = df_ssd['param5'].str.split('\\n',expand=True)\n",
    "df_ssd['price'] = df_ssd['price'].str.replace('֏','')\n",
    "df_ssd['pricecash'] = df_ssd['pricecash'].str.replace('֏','')\n",
    "df_ssd['pricemonthly'] = df_ssd['pricemonthly'].str.replace('֏','')"
   ]
  },
  {
   "cell_type": "code",
   "execution_count": 569,
   "metadata": {},
   "outputs": [],
   "source": [
    "df_hdd_ssd_1 = df_hdd_ssd[['flip', 'touchscreen', 'brand', 'processor', 'ram',\n",
    "                           'ssd', 'hdd', 'graphics', 'spec', 'screen', 'dos', \n",
    "                           'price',  'pricecash', 'pricemonthly']]"
   ]
  },
  {
   "cell_type": "code",
   "execution_count": 570,
   "metadata": {},
   "outputs": [],
   "source": [
    "df_hdd_1=df_hdd[['flip', 'touchscreen', 'brand', 'processor', 'ram',\n",
    "                          'hdd', 'graphics','spec', 'screen', 'dos', \n",
    "                 'price','pricecash',  'pricemonthly']]"
   ]
  },
  {
   "cell_type": "code",
   "execution_count": 571,
   "metadata": {},
   "outputs": [],
   "source": [
    "df_ssd_1=df_ssd[['flip', 'touchscreen', 'brand', 'processor', 'ram',\n",
    "                 'ssd',          'graphics', 'spec', 'screen', 'dos',  \n",
    "                 'price','pricecash',  'pricemonthly']]"
   ]
  },
  {
   "cell_type": "code",
   "execution_count": 572,
   "metadata": {},
   "outputs": [],
   "source": [
    "df_hdd_1['ssd'] = 'absent'"
   ]
  },
  {
   "cell_type": "code",
   "execution_count": 574,
   "metadata": {},
   "outputs": [],
   "source": [
    "df_ssd_1['hdd'] = 'absent'"
   ]
  },
  {
   "cell_type": "code",
   "execution_count": 575,
   "metadata": {},
   "outputs": [],
   "source": [
    "frames = [df_hdd_ssd_1,df_hdd_1,df_ssd_1]"
   ]
  },
  {
   "cell_type": "code",
   "execution_count": 576,
   "metadata": {},
   "outputs": [],
   "source": [
    "df_full=pd.concat(frames)"
   ]
  },
  {
   "cell_type": "code",
   "execution_count": 583,
   "metadata": {},
   "outputs": [],
   "source": [
    "df_full['price'] = df_full['price'].str.replace(' ','')\n",
    "df_full['pricecash'] = df_full['pricecash'].str.replace(' ','')\n",
    "df_full['pricemonthly'] = df_full['pricemonthly'].str.replace(' ','')\n",
    "#.astype(float)"
   ]
  },
  {
   "cell_type": "code",
   "execution_count": 585,
   "metadata": {},
   "outputs": [],
   "source": [
    "df_full['price'] = df_full['price'].astype(float)\n",
    "df_full['pricecash'] = df_full['pricecash'].astype(float)\n",
    "df_full['pricemonthly'] = df_full['pricemonthly'].astype(float)\n",
    "#.astype(float)"
   ]
  },
  {
   "cell_type": "code",
   "execution_count": 588,
   "metadata": {},
   "outputs": [],
   "source": [
    "df_full['screen'] = df_full['screen'].str.replace('դյույմ','').astype(float)"
   ]
  },
  {
   "cell_type": "code",
   "execution_count": 591,
   "metadata": {},
   "outputs": [],
   "source": [
    "df_mychoice = df_full[(df_full['pricecash']>=150000) & (df_full['pricecash']<=300000)]"
   ]
  },
  {
   "cell_type": "code",
   "execution_count": 596,
   "metadata": {},
   "outputs": [
    {
     "data": {
      "text/plain": [
       "array(['Asus VivoBook X712JA', 'Lenovo IP3 15IML05',\n",
       "       'Acer Aspire A315-59G-50FH', 'HP 15s-fq5004nia',\n",
       "       'HP 15s-fq5000nia', 'Acer Aspire A315-56-33X5', 'HP 15-dy2791wm',\n",
       "       'Dell Inspiron 3493', 'HP Chromebook 14b-nb0015cl Touch',\n",
       "       'HP 14-dq2088wm', 'HP 15z-ef200', 'Dell Vostro 3510',\n",
       "       'HP 15s-eq3013ci', 'Dell Latitude 5510', 'HP 17-by4006ds',\n",
       "       'HP 15-da2180nia', 'HP 15-dy2795wm', 'Acer Aspire 3 A315-59-534T',\n",
       "       'Dell Inspiron 3511 Touch', 'Lenovo IP5 15ABA7',\n",
       "       'Asus VivoBook X1500E', 'Asus VivoBook R564JA-UH51T Touch',\n",
       "       'Lenovo ThinkPad E14 Gen2', 'HP 15s-fq5292nia',\n",
       "       'Acer Aspire A317-33-P3A8', 'Acer Aspire A515-56-765W',\n",
       "       'HP 15-ef2047nr', 'Acer Swift 3 SF314-511-51A3',\n",
       "       'MSI Modern 15 A11MU-1006XGE', 'Lenovo IP3 14ITL6',\n",
       "       'HP ProBook 450 G9', 'Lenovo IP 3 17IAU7',\n",
       "       'Asus VivoBook TM420UA-WS51T', 'HP EliteBook 640 G9'], dtype=object)"
      ]
     },
     "execution_count": 596,
     "metadata": {},
     "output_type": "execute_result"
    }
   ],
   "source": [
    "df_mychoice['brand'].unique()"
   ]
  },
  {
   "cell_type": "code",
   "execution_count": 600,
   "metadata": {
    "scrolled": true
   },
   "outputs": [
    {
     "data": {
      "text/html": [
       "<div>\n",
       "<style scoped>\n",
       "    .dataframe tbody tr th:only-of-type {\n",
       "        vertical-align: middle;\n",
       "    }\n",
       "\n",
       "    .dataframe tbody tr th {\n",
       "        vertical-align: top;\n",
       "    }\n",
       "\n",
       "    .dataframe thead th {\n",
       "        text-align: right;\n",
       "    }\n",
       "</style>\n",
       "<table border=\"1\" class=\"dataframe\">\n",
       "  <thead>\n",
       "    <tr style=\"text-align: right;\">\n",
       "      <th></th>\n",
       "      <th>flip</th>\n",
       "      <th>touchscreen</th>\n",
       "      <th>brand</th>\n",
       "      <th>processor</th>\n",
       "      <th>ram</th>\n",
       "      <th>ssd</th>\n",
       "      <th>hdd</th>\n",
       "      <th>graphics</th>\n",
       "      <th>spec</th>\n",
       "      <th>screen</th>\n",
       "      <th>dos</th>\n",
       "      <th>price</th>\n",
       "      <th>pricecash</th>\n",
       "      <th>pricemonthly</th>\n",
       "    </tr>\n",
       "  </thead>\n",
       "  <tbody>\n",
       "    <tr>\n",
       "      <th>27</th>\n",
       "      <td>False</td>\n",
       "      <td>False</td>\n",
       "      <td>Acer Aspire 3 A315-59-534T</td>\n",
       "      <td>Core i5 1235U</td>\n",
       "      <td>8 ԳԲ RAM</td>\n",
       "      <td>512 ԳԲ SSD</td>\n",
       "      <td>absent</td>\n",
       "      <td>Intel Iris Plus Graphics</td>\n",
       "      <td>False</td>\n",
       "      <td>15.6</td>\n",
       "      <td>Dos</td>\n",
       "      <td>268900.0</td>\n",
       "      <td>249000.0</td>\n",
       "      <td>13800.0</td>\n",
       "    </tr>\n",
       "    <tr>\n",
       "      <th>12</th>\n",
       "      <td>False</td>\n",
       "      <td>False</td>\n",
       "      <td>Acer Aspire A315-56-33X5</td>\n",
       "      <td>Core i3 1005G1</td>\n",
       "      <td>8 ԳԲ RAM</td>\n",
       "      <td>128 ԳԲ SSD</td>\n",
       "      <td>absent</td>\n",
       "      <td>Intel UHD Graphics</td>\n",
       "      <td>False</td>\n",
       "      <td>15.6</td>\n",
       "      <td>Dos</td>\n",
       "      <td>205200.0</td>\n",
       "      <td>190000.0</td>\n",
       "      <td>10600.0</td>\n",
       "    </tr>\n",
       "    <tr>\n",
       "      <th>39</th>\n",
       "      <td>False</td>\n",
       "      <td>False</td>\n",
       "      <td>Acer Aspire A315-59G-50FH</td>\n",
       "      <td>Core i5 1235U</td>\n",
       "      <td>8 ԳԲ RAM</td>\n",
       "      <td>absent</td>\n",
       "      <td>1 ՏԲ HDD</td>\n",
       "      <td>GeForce MX550 2Gb</td>\n",
       "      <td>False</td>\n",
       "      <td>15.6</td>\n",
       "      <td>Dos</td>\n",
       "      <td>299100.0</td>\n",
       "      <td>277000.0</td>\n",
       "      <td>15400.0</td>\n",
       "    </tr>\n",
       "    <tr>\n",
       "      <th>99</th>\n",
       "      <td>False</td>\n",
       "      <td>False</td>\n",
       "      <td>Acer Aspire A315-59G-50FH</td>\n",
       "      <td>Core i5 1235U</td>\n",
       "      <td>8 ԳԲ RAM</td>\n",
       "      <td>absent</td>\n",
       "      <td>1 ՏԲ HDD</td>\n",
       "      <td>GeForce MX550 2Gb</td>\n",
       "      <td>False</td>\n",
       "      <td>15.6</td>\n",
       "      <td>Dos</td>\n",
       "      <td>299100.0</td>\n",
       "      <td>277000.0</td>\n",
       "      <td>15400.0</td>\n",
       "    </tr>\n",
       "    <tr>\n",
       "      <th>36</th>\n",
       "      <td>False</td>\n",
       "      <td>False</td>\n",
       "      <td>Acer Aspire A317-33-P3A8</td>\n",
       "      <td>Intel N6000</td>\n",
       "      <td>4 ԳԲ RAM</td>\n",
       "      <td>512 ԳԲ SSD</td>\n",
       "      <td>absent</td>\n",
       "      <td>Intel Iris Plus Graphics</td>\n",
       "      <td>False</td>\n",
       "      <td>17.3</td>\n",
       "      <td>Dos</td>\n",
       "      <td>286200.0</td>\n",
       "      <td>265000.0</td>\n",
       "      <td>14700.0</td>\n",
       "    </tr>\n",
       "    <tr>\n",
       "      <th>...</th>\n",
       "      <td>...</td>\n",
       "      <td>...</td>\n",
       "      <td>...</td>\n",
       "      <td>...</td>\n",
       "      <td>...</td>\n",
       "      <td>...</td>\n",
       "      <td>...</td>\n",
       "      <td>...</td>\n",
       "      <td>...</td>\n",
       "      <td>...</td>\n",
       "      <td>...</td>\n",
       "      <td>...</td>\n",
       "      <td>...</td>\n",
       "      <td>...</td>\n",
       "    </tr>\n",
       "    <tr>\n",
       "      <th>90</th>\n",
       "      <td>False</td>\n",
       "      <td>False</td>\n",
       "      <td>Lenovo IP5 15ABA7</td>\n",
       "      <td>Ryzen 5 5625U</td>\n",
       "      <td>16 ԳԲ RAM</td>\n",
       "      <td>512 ԳԲ SSD</td>\n",
       "      <td>absent</td>\n",
       "      <td>Radeon Graphics</td>\n",
       "      <td>False</td>\n",
       "      <td>15.6</td>\n",
       "      <td>Windows 11</td>\n",
       "      <td>275400.0</td>\n",
       "      <td>255000.0</td>\n",
       "      <td>14200.0</td>\n",
       "    </tr>\n",
       "    <tr>\n",
       "      <th>93</th>\n",
       "      <td>False</td>\n",
       "      <td>False</td>\n",
       "      <td>Lenovo ThinkPad E14 Gen2</td>\n",
       "      <td>Core i5 1135G7</td>\n",
       "      <td>8 ԳԲ RAM</td>\n",
       "      <td>256 ԳԲ SSD</td>\n",
       "      <td>absent</td>\n",
       "      <td>Intel Iris Plus Graphics</td>\n",
       "      <td>False</td>\n",
       "      <td>14.0</td>\n",
       "      <td>Windows 10 Pro</td>\n",
       "      <td>285100.0</td>\n",
       "      <td>264000.0</td>\n",
       "      <td>14700.0</td>\n",
       "    </tr>\n",
       "    <tr>\n",
       "      <th>33</th>\n",
       "      <td>False</td>\n",
       "      <td>False</td>\n",
       "      <td>Lenovo ThinkPad E14 Gen2</td>\n",
       "      <td>Core i5 1135G7</td>\n",
       "      <td>8 ԳԲ RAM</td>\n",
       "      <td>256 ԳԲ SSD</td>\n",
       "      <td>absent</td>\n",
       "      <td>Intel Iris Plus Graphics</td>\n",
       "      <td>False</td>\n",
       "      <td>14.0</td>\n",
       "      <td>Windows 10 Pro</td>\n",
       "      <td>285100.0</td>\n",
       "      <td>264000.0</td>\n",
       "      <td>14700.0</td>\n",
       "    </tr>\n",
       "    <tr>\n",
       "      <th>43</th>\n",
       "      <td>False</td>\n",
       "      <td>False</td>\n",
       "      <td>MSI Modern 15 A11MU-1006XGE</td>\n",
       "      <td>Core i3 1115G4</td>\n",
       "      <td>8 ԳԲ RAM</td>\n",
       "      <td>256 ԳԲ SSD</td>\n",
       "      <td>absent</td>\n",
       "      <td>Intel Iris Plus Graphics</td>\n",
       "      <td>True</td>\n",
       "      <td>15.6</td>\n",
       "      <td>Dos</td>\n",
       "      <td>290000.0</td>\n",
       "      <td>290000.0</td>\n",
       "      <td>14900.0</td>\n",
       "    </tr>\n",
       "    <tr>\n",
       "      <th>103</th>\n",
       "      <td>False</td>\n",
       "      <td>False</td>\n",
       "      <td>MSI Modern 15 A11MU-1006XGE</td>\n",
       "      <td>Core i3 1115G4</td>\n",
       "      <td>8 ԳԲ RAM</td>\n",
       "      <td>256 ԳԲ SSD</td>\n",
       "      <td>absent</td>\n",
       "      <td>Intel Iris Plus Graphics</td>\n",
       "      <td>True</td>\n",
       "      <td>15.6</td>\n",
       "      <td>Dos</td>\n",
       "      <td>290000.0</td>\n",
       "      <td>290000.0</td>\n",
       "      <td>14900.0</td>\n",
       "    </tr>\n",
       "  </tbody>\n",
       "</table>\n",
       "<p>61 rows × 14 columns</p>\n",
       "</div>"
      ],
      "text/plain": [
       "      flip  touchscreen                        brand         processor  \\\n",
       "27   False        False   Acer Aspire 3 A315-59-534T    Core i5 1235U    \n",
       "12   False        False     Acer Aspire A315-56-33X5   Core i3 1005G1    \n",
       "39   False        False    Acer Aspire A315-59G-50FH    Core i5 1235U    \n",
       "99   False        False    Acer Aspire A315-59G-50FH    Core i5 1235U    \n",
       "36   False        False     Acer Aspire A317-33-P3A8      Intel N6000    \n",
       "..     ...          ...                          ...               ...   \n",
       "90   False        False            Lenovo IP5 15ABA7    Ryzen 5 5625U    \n",
       "93   False        False     Lenovo ThinkPad E14 Gen2   Core i5 1135G7    \n",
       "33   False        False     Lenovo ThinkPad E14 Gen2   Core i5 1135G7    \n",
       "43   False        False  MSI Modern 15 A11MU-1006XGE   Core i3 1115G4    \n",
       "103  False        False  MSI Modern 15 A11MU-1006XGE   Core i3 1115G4    \n",
       "\n",
       "             ram           ssd         hdd                    graphics   spec  \\\n",
       "27     8 ԳԲ RAM    512 ԳԲ SSD       absent   Intel Iris Plus Graphics   False   \n",
       "12     8 ԳԲ RAM    128 ԳԲ SSD       absent         Intel UHD Graphics   False   \n",
       "39     8 ԳԲ RAM         absent   1 ՏԲ HDD           GeForce MX550 2Gb   False   \n",
       "99     8 ԳԲ RAM         absent   1 ՏԲ HDD           GeForce MX550 2Gb   False   \n",
       "36     4 ԳԲ RAM    512 ԳԲ SSD       absent   Intel Iris Plus Graphics   False   \n",
       "..           ...           ...         ...                         ...    ...   \n",
       "90    16 ԳԲ RAM    512 ԳԲ SSD       absent            Radeon Graphics   False   \n",
       "93     8 ԳԲ RAM    256 ԳԲ SSD       absent   Intel Iris Plus Graphics   False   \n",
       "33     8 ԳԲ RAM    256 ԳԲ SSD       absent   Intel Iris Plus Graphics   False   \n",
       "43     8 ԳԲ RAM    256 ԳԲ SSD       absent   Intel Iris Plus Graphics    True   \n",
       "103    8 ԳԲ RAM    256 ԳԲ SSD       absent   Intel Iris Plus Graphics    True   \n",
       "\n",
       "     screen              dos     price  pricecash  pricemonthly  \n",
       "27     15.6              Dos  268900.0   249000.0       13800.0  \n",
       "12     15.6              Dos  205200.0   190000.0       10600.0  \n",
       "39     15.6              Dos  299100.0   277000.0       15400.0  \n",
       "99     15.6              Dos  299100.0   277000.0       15400.0  \n",
       "36     17.3              Dos  286200.0   265000.0       14700.0  \n",
       "..      ...              ...       ...        ...           ...  \n",
       "90     15.6       Windows 11  275400.0   255000.0       14200.0  \n",
       "93     14.0   Windows 10 Pro  285100.0   264000.0       14700.0  \n",
       "33     14.0   Windows 10 Pro  285100.0   264000.0       14700.0  \n",
       "43     15.6              Dos  290000.0   290000.0       14900.0  \n",
       "103    15.6              Dos  290000.0   290000.0       14900.0  \n",
       "\n",
       "[61 rows x 14 columns]"
      ]
     },
     "execution_count": 600,
     "metadata": {},
     "output_type": "execute_result"
    }
   ],
   "source": [
    "df_mychoice.sort_values(by = 'brand')"
   ]
  },
  {
   "cell_type": "code",
   "execution_count": 601,
   "metadata": {},
   "outputs": [],
   "source": [
    "df_mychoice.to_excel('notebooks.xlsx')"
   ]
  },
  {
   "cell_type": "code",
   "execution_count": 602,
   "metadata": {},
   "outputs": [],
   "source": [
    "df_mychoice1 = df_full[(df_full['pricecash']>=150000) & (df_full['pricecash']<=370000)]\n",
    "df_mychoice1.to_excel('notebooks1.xlsx')"
   ]
  }
 ],
 "metadata": {
  "kernelspec": {
   "display_name": "Python 3 (ipykernel)",
   "language": "python",
   "name": "python3"
  },
  "language_info": {
   "codemirror_mode": {
    "name": "ipython",
    "version": 3
   },
   "file_extension": ".py",
   "mimetype": "text/x-python",
   "name": "python",
   "nbconvert_exporter": "python",
   "pygments_lexer": "ipython3",
   "version": "3.10.9"
  }
 },
 "nbformat": 4,
 "nbformat_minor": 4
}
